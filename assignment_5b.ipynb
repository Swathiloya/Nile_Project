{
 "cells": [
  {
   "cell_type": "code",
   "execution_count": 2,
   "id": "3a1f573d",
   "metadata": {},
   "outputs": [
    {
     "name": "stdout",
     "output_type": "stream",
     "text": [
      "you are younge_age\n"
     ]
    }
   ],
   "source": [
    "my_age=20\n",
    "if my_age>20:\n",
    "    print(\"you are teen_age\")\n",
    "else:\n",
    "    print(\"you are younge_age\")"
   ]
  },
  {
   "cell_type": "code",
   "execution_count": 5,
   "id": "1e56bb09",
   "metadata": {},
   "outputs": [
    {
     "name": "stdout",
     "output_type": "stream",
     "text": [
      "you are teen_age\n"
     ]
    }
   ],
   "source": [
    "my_age=30\n",
    "if my_age>20:\n",
    "    print(\"you are teen_age\")\n",
    "else:\n",
    "    print(\"you are younge_age\")\n"
   ]
  },
  {
   "cell_type": "code",
   "execution_count": 6,
   "id": "cf99559d",
   "metadata": {},
   "outputs": [
    {
     "name": "stdout",
     "output_type": "stream",
     "text": [
      "you are younge_age\n"
     ]
    }
   ],
   "source": [
    "my_age=10\n",
    "if my_age>20:\n",
    "    print(\"you are teen_age\")\n",
    "else:\n",
    "    print(\"you are younge_age\")\n",
    "          "
   ]
  },
  {
   "cell_type": "code",
   "execution_count": 7,
   "id": "eda6d032",
   "metadata": {},
   "outputs": [
    {
     "name": "stdout",
     "output_type": "stream",
     "text": [
      "you are teen_age\n"
     ]
    }
   ],
   "source": [
    "my_age=40\n",
    "if my_age>20:\n",
    "    print(\"you are teen_age\")\n",
    "else:\n",
    "    print(\"you are younge_age\")\n",
    "    \n",
    "          "
   ]
  },
  {
   "cell_type": "code",
   "execution_count": null,
   "id": "87aa3763",
   "metadata": {},
   "outputs": [],
   "source": [
    "Write a program today is Monday/Tuesday/Wendsday/Thursday/Friday print weekday otherwise print weekend?"
   ]
  },
  {
   "cell_type": "code",
   "execution_count": 9,
   "id": "1016ebad",
   "metadata": {},
   "outputs": [
    {
     "name": "stdout",
     "output_type": "stream",
     "text": [
      "weekday\n"
     ]
    }
   ],
   "source": [
    "today=\"monday\"\n",
    "if today==\"monday\":\n",
    "    print(\"weekday\")\n",
    "else:\n",
    "    print(\"weekend\")\n",
    "    "
   ]
  },
  {
   "cell_type": "code",
   "execution_count": 11,
   "id": "8a9c91df",
   "metadata": {},
   "outputs": [
    {
     "name": "stdout",
     "output_type": "stream",
     "text": [
      "weekday\n"
     ]
    }
   ],
   "source": [
    "today=\"tuesday\"\n",
    "if today==\"tuesday\":\n",
    "    print(\"weekday\")\n",
    "else:\n",
    "    print(\"weekend\")\n",
    "    "
   ]
  },
  {
   "cell_type": "code",
   "execution_count": 12,
   "id": "4a5fab5d",
   "metadata": {},
   "outputs": [
    {
     "name": "stdout",
     "output_type": "stream",
     "text": [
      "weekday\n"
     ]
    }
   ],
   "source": [
    "today=\"wendsday\"\n",
    "if today==\"wendsday\":\n",
    "    print(\"weekday\") \n",
    "else:\n",
    "    print(\"weekend\")\n"
   ]
  },
  {
   "cell_type": "code",
   "execution_count": 13,
   "id": "d182d54d",
   "metadata": {},
   "outputs": [
    {
     "name": "stdout",
     "output_type": "stream",
     "text": [
      "weekday\n"
     ]
    }
   ],
   "source": [
    "today=\"thursday\"\n",
    "if today==\"thursday\":\n",
    "    print(\"weekday\")\n",
    "else:\n",
    "    print(\"weekend\")\n"
   ]
  },
  {
   "cell_type": "code",
   "execution_count": 15,
   "id": "31bc73e3",
   "metadata": {},
   "outputs": [
    {
     "name": "stdout",
     "output_type": "stream",
     "text": [
      "weekday\n"
     ]
    }
   ],
   "source": [
    "today=\"friday\"\n",
    "if today==\"friday\":\n",
    "    print(\"weekday\")\n",
    "else:\n",
    "    print(\"weekend\")\n",
    "    "
   ]
  },
  {
   "cell_type": "code",
   "execution_count": 2,
   "id": "c6f47a05",
   "metadata": {},
   "outputs": [
    {
     "name": "stdout",
     "output_type": "stream",
     "text": [
      "weekend\n"
     ]
    }
   ],
   "source": [
    "today=\"friday\"\n",
    "if today==\"saturday\":\n",
    "    print(\"weekday\")\n",
    "else:\n",
    "    print(\"weekend\")"
   ]
  },
  {
   "cell_type": "code",
   "execution_count": 20,
   "id": "d6e8bde6",
   "metadata": {},
   "outputs": [
    {
     "name": "stdout",
     "output_type": "stream",
     "text": [
      "weekend\n"
     ]
    }
   ],
   "source": [
    "today=\"friday\"\n",
    "if today==\"sunday\":\n",
    "    print(\"weekday\")\n",
    "else:\n",
    "    print(\"weekend\")"
   ]
  },
  {
   "cell_type": "code",
   "execution_count": 21,
   "id": "61edc135",
   "metadata": {},
   "outputs": [
    {
     "name": "stdout",
     "output_type": "stream",
     "text": [
      "i lost\n"
     ]
    }
   ],
   "source": [
    "income=10\n",
    "if income>10:\n",
    "    print(\"i am profitable\")\n",
    "else:\n",
    "    print(\"i lost\")"
   ]
  },
  {
   "cell_type": "code",
   "execution_count": 22,
   "id": "a718c8b7",
   "metadata": {},
   "outputs": [
    {
     "name": "stdout",
     "output_type": "stream",
     "text": [
      "i am elder\n"
     ]
    }
   ],
   "source": [
    "your_age=19\n",
    "sister_age=18\n",
    "if your_age>sister_age:\n",
    "    print(\"i am elder\")\n",
    "else:\n",
    "    print(\"i am younger\")\n",
    "   \n",
    "\n"
   ]
  },
  {
   "cell_type": "code",
   "execution_count": 23,
   "id": "7be0764a",
   "metadata": {},
   "outputs": [
    {
     "name": "stdout",
     "output_type": "stream",
     "text": [
      "i am younger\n"
     ]
    }
   ],
   "source": [
    "your_age=19\n",
    "sister_age=18\n",
    "if your_age<sister_age:\n",
    "    print(\"i am elder\")\n",
    "else:\n",
    "    print(\"i am younger\")\n",
    "   \n",
    "\n",
    "\n"
   ]
  },
  {
   "cell_type": "code",
   "execution_count": null,
   "id": "a5acacc4",
   "metadata": {},
   "outputs": [],
   "source": [
    "Scenario3:festival offer in my shop. \n",
    "amount more than 100 then print 30% discount.\n",
    " purchase amount less than 50 then print 10% discount \n",
    " otherwise print 20% discount."
   ]
  },
  {
   "cell_type": "code",
   "execution_count": 3,
   "id": "dc941125",
   "metadata": {},
   "outputs": [
    {
     "name": "stdout",
     "output_type": "stream",
     "text": [
      "30% discount\n"
     ]
    }
   ],
   "source": [
    "amount=102\n",
    "if amount>100:\n",
    "    print(\"30% discount\")\n",
    "elif amount<50:\n",
    "     print(\"10% discount\") \n",
    "else:    \n",
    "    print(\"20% discount\")\n",
    "    "
   ]
  },
  {
   "cell_type": "code",
   "execution_count": 9,
   "id": "bbe51297",
   "metadata": {},
   "outputs": [
    {
     "name": "stdout",
     "output_type": "stream",
     "text": [
      "10% discount\n"
     ]
    }
   ],
   "source": [
    "amount=40\n",
    "if amount>100:\n",
    "    print(\"30% discount\")\n",
    "elif amount<50:\n",
    "    print(\"10% discount\")    \n",
    "else:    \n",
    "    print(\"20% discount\")    "
   ]
  },
  {
   "cell_type": "code",
   "execution_count": 10,
   "id": "7ac38190",
   "metadata": {},
   "outputs": [
    {
     "name": "stdout",
     "output_type": "stream",
     "text": [
      "20% discount\n"
     ]
    }
   ],
   "source": [
    "amount=60\n",
    "if amount>100:\n",
    "    print(\"30% discount\")\n",
    "elif amount<50:\n",
    "    print(\"10% discount\")         \n",
    "else:\n",
    "    print(\"20% discount\")    \n",
    "    "
   ]
  },
  {
   "cell_type": "code",
   "execution_count": null,
   "id": "4706ba61",
   "metadata": {},
   "outputs": [],
   "source": [
    "Scenario4:my movie theater prices. price is 140 print balcony. price is 50 print chair. price is 100 print bench"
   ]
  },
  {
   "cell_type": "code",
   "execution_count": 2,
   "id": "0e951967",
   "metadata": {},
   "outputs": [
    {
     "name": "stdout",
     "output_type": "stream",
     "text": [
      "not available\n"
     ]
    }
   ],
   "source": [
    "price=30\n",
    "if price==140: \n",
    "    print(\"balcony\")    \n",
    "elif price==50: \n",
    "    print(\"chair\") \n",
    "elif price==100:\n",
    "    print(\"bench\")\n",
    "else:\n",
    "    print(\"not available\")    \n",
    "    "
   ]
  },
  {
   "cell_type": "code",
   "execution_count": 14,
   "id": "b3ccdc04",
   "metadata": {},
   "outputs": [
    {
     "name": "stdout",
     "output_type": "stream",
     "text": [
      "chair\n"
     ]
    }
   ],
   "source": [
    "price=130\n",
    "if price==140:\n",
    "    print(\"balcony\")\n",
    "elif price>50: \n",
    "    print(\"chair\")    \n",
    "else:\n",
    "    print(\"bench\")    \n",
    "           \n",
    "          \n",
    "          \n"
   ]
  },
  {
   "cell_type": "code",
   "execution_count": 15,
   "id": "4d49461e",
   "metadata": {},
   "outputs": [
    {
     "name": "stdout",
     "output_type": "stream",
     "text": [
      "bench\n"
     ]
    }
   ],
   "source": [
    "price=130\n",
    "if price==140:\n",
    "    print(\"balcony\")\n",
    "elif price<50: \n",
    "    print(\"chair\")    \n",
    "else:\n",
    "    print(\"bench\")\n"
   ]
  },
  {
   "cell_type": "code",
   "execution_count": null,
   "id": "c74e4ebe",
   "metadata": {},
   "outputs": [],
   "source": [
    "Scenario5: my showroom vehicle types. \n",
    "if vehicle type is two wheeler print bike and scooty. \n",
    "if vehicle type is four wheeler print car, loory, van and zeep\n",
    " "
   ]
  },
  {
   "cell_type": "code",
   "execution_count": 19,
   "id": "420b2456",
   "metadata": {},
   "outputs": [
    {
     "name": "stdout",
     "output_type": "stream",
     "text": [
      "bike and scooty\n"
     ]
    }
   ],
   "source": [
    "type=\"two wheeler\"\n",
    "if type==\"two wheeler\":\n",
    "    print(\"bike and scooty\")\n",
    "elif type== \"four wheeler\":\n",
    "    print(\" car, loory, van and zeep\")\n",
    "else:\n",
    "    print(\"not available\")"
   ]
  },
  {
   "cell_type": "code",
   "execution_count": 22,
   "id": "88334ae2",
   "metadata": {},
   "outputs": [
    {
     "name": "stdout",
     "output_type": "stream",
     "text": [
      " car, loory, van and zeep\n"
     ]
    }
   ],
   "source": [
    "type=\"four wheeler\"\n",
    "if type==\"two wheeler\":\n",
    "    print(\"bike and scooty\")\n",
    "elif type== \"four wheeler\":\n",
    "    print(\" car, loory, van and zeep\")\n",
    "else:\n",
    "    print(\"not available\")"
   ]
  },
  {
   "cell_type": "code",
   "execution_count": 23,
   "id": "9ecb7a91",
   "metadata": {},
   "outputs": [
    {
     "name": "stdout",
     "output_type": "stream",
     "text": [
      "not available\n"
     ]
    }
   ],
   "source": [
    "type=\"not available\"\n",
    "if type==\"two wheeler\":\n",
    "    print(\"bike and scooty\")\n",
    "elif type== \"four wheeler\":\n",
    "    print(\" car, loory, van and zeep\")\n",
    "else:\n",
    "    print(\"not available\")"
   ]
  },
  {
   "cell_type": "code",
   "execution_count": 2,
   "id": "77aedaf2",
   "metadata": {},
   "outputs": [
    {
     "name": "stdout",
     "output_type": "stream",
     "text": [
      "lost\n"
     ]
    }
   ],
   "source": [
    "income=10\n",
    "if income>10:\n",
    "    print(\"profitabie\")\n",
    "else:\n",
    "    print(\"lost\")"
   ]
  },
  {
   "cell_type": "code",
   "execution_count": null,
   "id": "134f6e71",
   "metadata": {},
   "outputs": [],
   "source": []
  },
  {
   "cell_type": "code",
   "execution_count": null,
   "id": "12efdef4",
   "metadata": {},
   "outputs": [],
   "source": []
  },
  {
   "cell_type": "code",
   "execution_count": null,
   "id": "b69ff933",
   "metadata": {},
   "outputs": [],
   "source": []
  },
  {
   "cell_type": "code",
   "execution_count": null,
   "id": "f4a2d09f",
   "metadata": {},
   "outputs": [],
   "source": []
  }
 ],
 "metadata": {
  "kernelspec": {
   "display_name": "Python 3 (ipykernel)",
   "language": "python",
   "name": "python3"
  },
  "language_info": {
   "codemirror_mode": {
    "name": "ipython",
    "version": 3
   },
   "file_extension": ".py",
   "mimetype": "text/x-python",
   "name": "python",
   "nbconvert_exporter": "python",
   "pygments_lexer": "ipython3",
   "version": "3.10.9"
  }
 },
 "nbformat": 4,
 "nbformat_minor": 5
}
