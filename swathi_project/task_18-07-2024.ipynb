{
 "cells": [
  {
   "cell_type": "code",
   "execution_count": 1,
   "id": "17de207a",
   "metadata": {},
   "outputs": [
    {
     "data": {
      "text/html": [
       "<div>\n",
       "<style scoped>\n",
       "    .dataframe tbody tr th:only-of-type {\n",
       "        vertical-align: middle;\n",
       "    }\n",
       "\n",
       "    .dataframe tbody tr th {\n",
       "        vertical-align: top;\n",
       "    }\n",
       "\n",
       "    .dataframe thead th {\n",
       "        text-align: right;\n",
       "    }\n",
       "</style>\n",
       "<table border=\"1\" class=\"dataframe\">\n",
       "  <thead>\n",
       "    <tr style=\"text-align: right;\">\n",
       "      <th></th>\n",
       "      <th>S.No</th>\n",
       "      <th>Name</th>\n",
       "      <th>Qualification</th>\n",
       "      <th>Group</th>\n",
       "      <th>Skills</th>\n",
       "      <th>CurrentProject</th>\n",
       "      <th>Location</th>\n",
       "      <th>Hobbies</th>\n",
       "      <th>EmailId</th>\n",
       "      <th>Contact</th>\n",
       "    </tr>\n",
       "  </thead>\n",
       "  <tbody>\n",
       "    <tr>\n",
       "      <th>0</th>\n",
       "      <td>1</td>\n",
       "      <td>Paramatma Pulivarthi</td>\n",
       "      <td>M.Sc</td>\n",
       "      <td>Statistics</td>\n",
       "      <td>Python, GitHub, Jenkin,AWS,Azure,SQL</td>\n",
       "      <td>CarsProjects</td>\n",
       "      <td>Local</td>\n",
       "      <td>cricket, movies</td>\n",
       "      <td>mr.paramatma@gmail.com</td>\n",
       "      <td>8897328855</td>\n",
       "    </tr>\n",
       "    <tr>\n",
       "      <th>1</th>\n",
       "      <td>2</td>\n",
       "      <td>Nandipu.Jayasri</td>\n",
       "      <td>Btech</td>\n",
       "      <td>ECE</td>\n",
       "      <td>Python, GitHub, Jenkin,Azure,sql</td>\n",
       "      <td>Azure-DE,GamesProject</td>\n",
       "      <td>Non_local</td>\n",
       "      <td>Gardening</td>\n",
       "      <td>jayasrinandipu@gmail.com</td>\n",
       "      <td>9573249123</td>\n",
       "    </tr>\n",
       "    <tr>\n",
       "      <th>2</th>\n",
       "      <td>3</td>\n",
       "      <td>Maganti.Santhosh Kumar</td>\n",
       "      <td>Btech</td>\n",
       "      <td>ECE</td>\n",
       "      <td>Python, GitHub, Jenkin,Azure</td>\n",
       "      <td>Azure-DE,GamesProject</td>\n",
       "      <td>Local</td>\n",
       "      <td>Gardening,Movies</td>\n",
       "      <td>santhoshkumarmaganti15@gmail.com</td>\n",
       "      <td>9553938798</td>\n",
       "    </tr>\n",
       "    <tr>\n",
       "      <th>3</th>\n",
       "      <td>4</td>\n",
       "      <td>Loya.Swathi</td>\n",
       "      <td>Degree</td>\n",
       "      <td>Bcom</td>\n",
       "      <td>python,GitHub,Jenkins,SQL,AWS</td>\n",
       "      <td>GamesProject,CarProject,AWS-Quicksight-DE</td>\n",
       "      <td>Local</td>\n",
       "      <td>Movies,Reading Books</td>\n",
       "      <td>swathiloya95@gmail.com</td>\n",
       "      <td>9989114251</td>\n",
       "    </tr>\n",
       "    <tr>\n",
       "      <th>4</th>\n",
       "      <td>5</td>\n",
       "      <td>Mahabunnisa</td>\n",
       "      <td>Inter</td>\n",
       "      <td>MPC</td>\n",
       "      <td>Python,StockMarket,GitHub</td>\n",
       "      <td>GamesProject,CarProject</td>\n",
       "      <td>Non_local</td>\n",
       "      <td>Playing games,Music</td>\n",
       "      <td>mmahabunnisa18@gmail.com</td>\n",
       "      <td>7380047872</td>\n",
       "    </tr>\n",
       "    <tr>\n",
       "      <th>5</th>\n",
       "      <td>6</td>\n",
       "      <td>Domathoti.Mallika</td>\n",
       "      <td>Inter</td>\n",
       "      <td>HEC</td>\n",
       "      <td>Stockmarket</td>\n",
       "      <td>non</td>\n",
       "      <td>Local</td>\n",
       "      <td>Movies,Reading Books</td>\n",
       "      <td>mallikadomathoti14@gmail.com</td>\n",
       "      <td>9959368611</td>\n",
       "    </tr>\n",
       "    <tr>\n",
       "      <th>6</th>\n",
       "      <td>7</td>\n",
       "      <td>Abdul.Rahamatunnisa</td>\n",
       "      <td>Degree</td>\n",
       "      <td>MPCS</td>\n",
       "      <td>Python, GitHub, Jenkin,AWS</td>\n",
       "      <td>GamesProject,CarProject</td>\n",
       "      <td>Local</td>\n",
       "      <td>Playing games,cooking,reading books</td>\n",
       "      <td>rahamatunnisa103@gmail.com</td>\n",
       "      <td>8688206424</td>\n",
       "    </tr>\n",
       "    <tr>\n",
       "      <th>7</th>\n",
       "      <td>8</td>\n",
       "      <td>Odugu Nagadurga</td>\n",
       "      <td>Bsc</td>\n",
       "      <td>Mecs</td>\n",
       "      <td>Python, GitHub, Jenkin,AWS,SQL</td>\n",
       "      <td>AWS-Quicksight-DE</td>\n",
       "      <td>Non_local</td>\n",
       "      <td>listening music</td>\n",
       "      <td>nagadurgaodugu789@gmail.com</td>\n",
       "      <td>9492478895</td>\n",
       "    </tr>\n",
       "    <tr>\n",
       "      <th>8</th>\n",
       "      <td>9</td>\n",
       "      <td>Nasheena</td>\n",
       "      <td>Bsc</td>\n",
       "      <td>Comp</td>\n",
       "      <td>Python, GitHub, Jenkin,SQL</td>\n",
       "      <td>Developer Engineer</td>\n",
       "      <td>Non_local</td>\n",
       "      <td>Watching TV,play shettel</td>\n",
       "      <td>naseena121@gmail.com</td>\n",
       "      <td>7799813858</td>\n",
       "    </tr>\n",
       "    <tr>\n",
       "      <th>9</th>\n",
       "      <td>10</td>\n",
       "      <td>Gunmadi.prasanna</td>\n",
       "      <td>Btech</td>\n",
       "      <td>ECE</td>\n",
       "      <td>Python, GitHub, Jenkin,AWS,SQL</td>\n",
       "      <td>AWS-Quicksight-DE</td>\n",
       "      <td>local</td>\n",
       "      <td>Reading books</td>\n",
       "      <td>gummadiprasanna214@gmail.com</td>\n",
       "      <td>8688859784</td>\n",
       "    </tr>\n",
       "    <tr>\n",
       "      <th>10</th>\n",
       "      <td>11</td>\n",
       "      <td>Maganti.Nagarathnam</td>\n",
       "      <td>Bcom</td>\n",
       "      <td>Comp</td>\n",
       "      <td>Python, GitHub, Jenkin</td>\n",
       "      <td>GamesProject,CarProject</td>\n",
       "      <td>local</td>\n",
       "      <td>Reading books</td>\n",
       "      <td>mnagarathnam 9392 @gmail.com</td>\n",
       "      <td>8186098598</td>\n",
       "    </tr>\n",
       "  </tbody>\n",
       "</table>\n",
       "</div>"
      ],
      "text/plain": [
       "    S.No                    Name Qualification       Group  \\\n",
       "0      1    Paramatma Pulivarthi          M.Sc  Statistics   \n",
       "1      2         Nandipu.Jayasri         Btech         ECE   \n",
       "2      3  Maganti.Santhosh Kumar         Btech         ECE   \n",
       "3      4             Loya.Swathi        Degree        Bcom   \n",
       "4      5             Mahabunnisa         Inter         MPC   \n",
       "5      6       Domathoti.Mallika         Inter         HEC   \n",
       "6      7     Abdul.Rahamatunnisa        Degree        MPCS   \n",
       "7      8         Odugu Nagadurga           Bsc        Mecs   \n",
       "8      9                Nasheena           Bsc        Comp   \n",
       "9     10        Gunmadi.prasanna         Btech         ECE   \n",
       "10    11     Maganti.Nagarathnam          Bcom        Comp   \n",
       "\n",
       "                                  Skills  \\\n",
       "0   Python, GitHub, Jenkin,AWS,Azure,SQL   \n",
       "1       Python, GitHub, Jenkin,Azure,sql   \n",
       "2           Python, GitHub, Jenkin,Azure   \n",
       "3          python,GitHub,Jenkins,SQL,AWS   \n",
       "4              Python,StockMarket,GitHub   \n",
       "5                            Stockmarket   \n",
       "6             Python, GitHub, Jenkin,AWS   \n",
       "7         Python, GitHub, Jenkin,AWS,SQL   \n",
       "8             Python, GitHub, Jenkin,SQL   \n",
       "9         Python, GitHub, Jenkin,AWS,SQL   \n",
       "10                Python, GitHub, Jenkin   \n",
       "\n",
       "                               CurrentProject   Location  \\\n",
       "0                                CarsProjects      Local   \n",
       "1                       Azure-DE,GamesProject  Non_local   \n",
       "2                       Azure-DE,GamesProject      Local   \n",
       "3   GamesProject,CarProject,AWS-Quicksight-DE      Local   \n",
       "4                     GamesProject,CarProject  Non_local   \n",
       "5                                         non      Local   \n",
       "6                     GamesProject,CarProject      Local   \n",
       "7                           AWS-Quicksight-DE  Non_local   \n",
       "8                          Developer Engineer  Non_local   \n",
       "9                           AWS-Quicksight-DE      local   \n",
       "10                    GamesProject,CarProject      local   \n",
       "\n",
       "                                Hobbies                           EmailId  \\\n",
       "0                       cricket, movies            mr.paramatma@gmail.com   \n",
       "1                             Gardening          jayasrinandipu@gmail.com   \n",
       "2                      Gardening,Movies  santhoshkumarmaganti15@gmail.com   \n",
       "3                  Movies,Reading Books            swathiloya95@gmail.com   \n",
       "4                   Playing games,Music          mmahabunnisa18@gmail.com   \n",
       "5                  Movies,Reading Books      mallikadomathoti14@gmail.com   \n",
       "6   Playing games,cooking,reading books        rahamatunnisa103@gmail.com   \n",
       "7                       listening music      nagadurgaodugu789@gmail.com    \n",
       "8              Watching TV,play shettel              naseena121@gmail.com   \n",
       "9                         Reading books     gummadiprasanna214@gmail.com    \n",
       "10                        Reading books     mnagarathnam 9392 @gmail.com    \n",
       "\n",
       "       Contact  \n",
       "0   8897328855  \n",
       "1   9573249123  \n",
       "2   9553938798  \n",
       "3   9989114251  \n",
       "4   7380047872  \n",
       "5   9959368611  \n",
       "6   8688206424  \n",
       "7   9492478895  \n",
       "8   7799813858  \n",
       "9   8688859784  \n",
       "10  8186098598  "
      ]
     },
     "execution_count": 1,
     "metadata": {},
     "output_type": "execute_result"
    }
   ],
   "source": [
    "import pandas \n",
    "import pandas as pd\n",
    "df=pd.read_excel(r\"C:\\Users\\hp\\OneDrive\\Documents\\LGA_Employee_Details.xlsx\")\n",
    "df"
   ]
  },
  {
   "cell_type": "code",
   "execution_count": 2,
   "id": "aa247989",
   "metadata": {},
   "outputs": [],
   "source": [
    "#------------>basic checks"
   ]
  },
  {
   "cell_type": "code",
   "execution_count": 3,
   "id": "9fe5c678",
   "metadata": {},
   "outputs": [
    {
     "data": {
      "text/html": [
       "<div>\n",
       "<style scoped>\n",
       "    .dataframe tbody tr th:only-of-type {\n",
       "        vertical-align: middle;\n",
       "    }\n",
       "\n",
       "    .dataframe tbody tr th {\n",
       "        vertical-align: top;\n",
       "    }\n",
       "\n",
       "    .dataframe thead th {\n",
       "        text-align: right;\n",
       "    }\n",
       "</style>\n",
       "<table border=\"1\" class=\"dataframe\">\n",
       "  <thead>\n",
       "    <tr style=\"text-align: right;\">\n",
       "      <th></th>\n",
       "      <th>S.No</th>\n",
       "      <th>Name</th>\n",
       "      <th>Qualification</th>\n",
       "      <th>Group</th>\n",
       "      <th>Skills</th>\n",
       "      <th>CurrentProject</th>\n",
       "      <th>Location</th>\n",
       "      <th>Hobbies</th>\n",
       "      <th>EmailId</th>\n",
       "      <th>Contact</th>\n",
       "    </tr>\n",
       "  </thead>\n",
       "  <tbody>\n",
       "    <tr>\n",
       "      <th>0</th>\n",
       "      <td>1</td>\n",
       "      <td>Paramatma Pulivarthi</td>\n",
       "      <td>M.Sc</td>\n",
       "      <td>Statistics</td>\n",
       "      <td>Python, GitHub, Jenkin,AWS,Azure,SQL</td>\n",
       "      <td>CarsProjects</td>\n",
       "      <td>Local</td>\n",
       "      <td>cricket, movies</td>\n",
       "      <td>mr.paramatma@gmail.com</td>\n",
       "      <td>8897328855</td>\n",
       "    </tr>\n",
       "    <tr>\n",
       "      <th>1</th>\n",
       "      <td>2</td>\n",
       "      <td>Nandipu.Jayasri</td>\n",
       "      <td>Btech</td>\n",
       "      <td>ECE</td>\n",
       "      <td>Python, GitHub, Jenkin,Azure,sql</td>\n",
       "      <td>Azure-DE,GamesProject</td>\n",
       "      <td>Non_local</td>\n",
       "      <td>Gardening</td>\n",
       "      <td>jayasrinandipu@gmail.com</td>\n",
       "      <td>9573249123</td>\n",
       "    </tr>\n",
       "    <tr>\n",
       "      <th>2</th>\n",
       "      <td>3</td>\n",
       "      <td>Maganti.Santhosh Kumar</td>\n",
       "      <td>Btech</td>\n",
       "      <td>ECE</td>\n",
       "      <td>Python, GitHub, Jenkin,Azure</td>\n",
       "      <td>Azure-DE,GamesProject</td>\n",
       "      <td>Local</td>\n",
       "      <td>Gardening,Movies</td>\n",
       "      <td>santhoshkumarmaganti15@gmail.com</td>\n",
       "      <td>9553938798</td>\n",
       "    </tr>\n",
       "    <tr>\n",
       "      <th>3</th>\n",
       "      <td>4</td>\n",
       "      <td>Loya.Swathi</td>\n",
       "      <td>Degree</td>\n",
       "      <td>Bcom</td>\n",
       "      <td>python,GitHub,Jenkins,SQL,AWS</td>\n",
       "      <td>GamesProject,CarProject,AWS-Quicksight-DE</td>\n",
       "      <td>Local</td>\n",
       "      <td>Movies,Reading Books</td>\n",
       "      <td>swathiloya95@gmail.com</td>\n",
       "      <td>9989114251</td>\n",
       "    </tr>\n",
       "    <tr>\n",
       "      <th>4</th>\n",
       "      <td>5</td>\n",
       "      <td>Mahabunnisa</td>\n",
       "      <td>Inter</td>\n",
       "      <td>MPC</td>\n",
       "      <td>Python,StockMarket,GitHub</td>\n",
       "      <td>GamesProject,CarProject</td>\n",
       "      <td>Non_local</td>\n",
       "      <td>Playing games,Music</td>\n",
       "      <td>mmahabunnisa18@gmail.com</td>\n",
       "      <td>7380047872</td>\n",
       "    </tr>\n",
       "  </tbody>\n",
       "</table>\n",
       "</div>"
      ],
      "text/plain": [
       "   S.No                    Name Qualification       Group  \\\n",
       "0     1    Paramatma Pulivarthi          M.Sc  Statistics   \n",
       "1     2         Nandipu.Jayasri         Btech         ECE   \n",
       "2     3  Maganti.Santhosh Kumar         Btech         ECE   \n",
       "3     4             Loya.Swathi        Degree        Bcom   \n",
       "4     5             Mahabunnisa         Inter         MPC   \n",
       "\n",
       "                                 Skills  \\\n",
       "0  Python, GitHub, Jenkin,AWS,Azure,SQL   \n",
       "1      Python, GitHub, Jenkin,Azure,sql   \n",
       "2          Python, GitHub, Jenkin,Azure   \n",
       "3         python,GitHub,Jenkins,SQL,AWS   \n",
       "4             Python,StockMarket,GitHub   \n",
       "\n",
       "                              CurrentProject   Location               Hobbies  \\\n",
       "0                               CarsProjects      Local       cricket, movies   \n",
       "1                      Azure-DE,GamesProject  Non_local             Gardening   \n",
       "2                      Azure-DE,GamesProject      Local      Gardening,Movies   \n",
       "3  GamesProject,CarProject,AWS-Quicksight-DE      Local  Movies,Reading Books   \n",
       "4                    GamesProject,CarProject  Non_local   Playing games,Music   \n",
       "\n",
       "                            EmailId     Contact  \n",
       "0            mr.paramatma@gmail.com  8897328855  \n",
       "1          jayasrinandipu@gmail.com  9573249123  \n",
       "2  santhoshkumarmaganti15@gmail.com  9553938798  \n",
       "3            swathiloya95@gmail.com  9989114251  \n",
       "4          mmahabunnisa18@gmail.com  7380047872  "
      ]
     },
     "execution_count": 3,
     "metadata": {},
     "output_type": "execute_result"
    }
   ],
   "source": [
    "df.head()"
   ]
  },
  {
   "cell_type": "code",
   "execution_count": 4,
   "id": "35b10d5e",
   "metadata": {},
   "outputs": [
    {
     "data": {
      "text/html": [
       "<div>\n",
       "<style scoped>\n",
       "    .dataframe tbody tr th:only-of-type {\n",
       "        vertical-align: middle;\n",
       "    }\n",
       "\n",
       "    .dataframe tbody tr th {\n",
       "        vertical-align: top;\n",
       "    }\n",
       "\n",
       "    .dataframe thead th {\n",
       "        text-align: right;\n",
       "    }\n",
       "</style>\n",
       "<table border=\"1\" class=\"dataframe\">\n",
       "  <thead>\n",
       "    <tr style=\"text-align: right;\">\n",
       "      <th></th>\n",
       "      <th>S.No</th>\n",
       "      <th>Name</th>\n",
       "      <th>Qualification</th>\n",
       "      <th>Group</th>\n",
       "      <th>Skills</th>\n",
       "      <th>CurrentProject</th>\n",
       "      <th>Location</th>\n",
       "      <th>Hobbies</th>\n",
       "      <th>EmailId</th>\n",
       "      <th>Contact</th>\n",
       "    </tr>\n",
       "  </thead>\n",
       "  <tbody>\n",
       "    <tr>\n",
       "      <th>6</th>\n",
       "      <td>7</td>\n",
       "      <td>Abdul.Rahamatunnisa</td>\n",
       "      <td>Degree</td>\n",
       "      <td>MPCS</td>\n",
       "      <td>Python, GitHub, Jenkin,AWS</td>\n",
       "      <td>GamesProject,CarProject</td>\n",
       "      <td>Local</td>\n",
       "      <td>Playing games,cooking,reading books</td>\n",
       "      <td>rahamatunnisa103@gmail.com</td>\n",
       "      <td>8688206424</td>\n",
       "    </tr>\n",
       "    <tr>\n",
       "      <th>7</th>\n",
       "      <td>8</td>\n",
       "      <td>Odugu Nagadurga</td>\n",
       "      <td>Bsc</td>\n",
       "      <td>Mecs</td>\n",
       "      <td>Python, GitHub, Jenkin,AWS,SQL</td>\n",
       "      <td>AWS-Quicksight-DE</td>\n",
       "      <td>Non_local</td>\n",
       "      <td>listening music</td>\n",
       "      <td>nagadurgaodugu789@gmail.com</td>\n",
       "      <td>9492478895</td>\n",
       "    </tr>\n",
       "    <tr>\n",
       "      <th>8</th>\n",
       "      <td>9</td>\n",
       "      <td>Nasheena</td>\n",
       "      <td>Bsc</td>\n",
       "      <td>Comp</td>\n",
       "      <td>Python, GitHub, Jenkin,SQL</td>\n",
       "      <td>Developer Engineer</td>\n",
       "      <td>Non_local</td>\n",
       "      <td>Watching TV,play shettel</td>\n",
       "      <td>naseena121@gmail.com</td>\n",
       "      <td>7799813858</td>\n",
       "    </tr>\n",
       "    <tr>\n",
       "      <th>9</th>\n",
       "      <td>10</td>\n",
       "      <td>Gunmadi.prasanna</td>\n",
       "      <td>Btech</td>\n",
       "      <td>ECE</td>\n",
       "      <td>Python, GitHub, Jenkin,AWS,SQL</td>\n",
       "      <td>AWS-Quicksight-DE</td>\n",
       "      <td>local</td>\n",
       "      <td>Reading books</td>\n",
       "      <td>gummadiprasanna214@gmail.com</td>\n",
       "      <td>8688859784</td>\n",
       "    </tr>\n",
       "    <tr>\n",
       "      <th>10</th>\n",
       "      <td>11</td>\n",
       "      <td>Maganti.Nagarathnam</td>\n",
       "      <td>Bcom</td>\n",
       "      <td>Comp</td>\n",
       "      <td>Python, GitHub, Jenkin</td>\n",
       "      <td>GamesProject,CarProject</td>\n",
       "      <td>local</td>\n",
       "      <td>Reading books</td>\n",
       "      <td>mnagarathnam 9392 @gmail.com</td>\n",
       "      <td>8186098598</td>\n",
       "    </tr>\n",
       "  </tbody>\n",
       "</table>\n",
       "</div>"
      ],
      "text/plain": [
       "    S.No                 Name Qualification Group  \\\n",
       "6      7  Abdul.Rahamatunnisa        Degree  MPCS   \n",
       "7      8      Odugu Nagadurga           Bsc  Mecs   \n",
       "8      9             Nasheena           Bsc  Comp   \n",
       "9     10     Gunmadi.prasanna         Btech   ECE   \n",
       "10    11  Maganti.Nagarathnam          Bcom  Comp   \n",
       "\n",
       "                            Skills           CurrentProject   Location  \\\n",
       "6       Python, GitHub, Jenkin,AWS  GamesProject,CarProject      Local   \n",
       "7   Python, GitHub, Jenkin,AWS,SQL        AWS-Quicksight-DE  Non_local   \n",
       "8       Python, GitHub, Jenkin,SQL       Developer Engineer  Non_local   \n",
       "9   Python, GitHub, Jenkin,AWS,SQL        AWS-Quicksight-DE      local   \n",
       "10          Python, GitHub, Jenkin  GamesProject,CarProject      local   \n",
       "\n",
       "                                Hobbies                        EmailId  \\\n",
       "6   Playing games,cooking,reading books     rahamatunnisa103@gmail.com   \n",
       "7                       listening music   nagadurgaodugu789@gmail.com    \n",
       "8              Watching TV,play shettel           naseena121@gmail.com   \n",
       "9                         Reading books  gummadiprasanna214@gmail.com    \n",
       "10                        Reading books  mnagarathnam 9392 @gmail.com    \n",
       "\n",
       "       Contact  \n",
       "6   8688206424  \n",
       "7   9492478895  \n",
       "8   7799813858  \n",
       "9   8688859784  \n",
       "10  8186098598  "
      ]
     },
     "execution_count": 4,
     "metadata": {},
     "output_type": "execute_result"
    }
   ],
   "source": [
    "df.tail()"
   ]
  },
  {
   "cell_type": "code",
   "execution_count": 5,
   "id": "ab66e25d",
   "metadata": {},
   "outputs": [
    {
     "data": {
      "text/plain": [
       "Index(['S.No', 'Name', 'Qualification', 'Group', 'Skills', 'CurrentProject',\n",
       "       'Location', 'Hobbies', 'EmailId', 'Contact'],\n",
       "      dtype='object')"
      ]
     },
     "execution_count": 5,
     "metadata": {},
     "output_type": "execute_result"
    }
   ],
   "source": [
    "df.columns"
   ]
  },
  {
   "cell_type": "code",
   "execution_count": 6,
   "id": "ea4337af",
   "metadata": {},
   "outputs": [
    {
     "data": {
      "text/plain": [
       "(11, 10)"
      ]
     },
     "execution_count": 6,
     "metadata": {},
     "output_type": "execute_result"
    }
   ],
   "source": [
    "df.shape"
   ]
  },
  {
   "cell_type": "code",
   "execution_count": 7,
   "id": "135e5a76",
   "metadata": {},
   "outputs": [
    {
     "name": "stdout",
     "output_type": "stream",
     "text": [
      "<class 'pandas.core.frame.DataFrame'>\n",
      "RangeIndex: 11 entries, 0 to 10\n",
      "Data columns (total 10 columns):\n",
      " #   Column          Non-Null Count  Dtype \n",
      "---  ------          --------------  ----- \n",
      " 0   S.No            11 non-null     int64 \n",
      " 1   Name            11 non-null     object\n",
      " 2   Qualification   11 non-null     object\n",
      " 3   Group           11 non-null     object\n",
      " 4   Skills          11 non-null     object\n",
      " 5   CurrentProject  11 non-null     object\n",
      " 6   Location        11 non-null     object\n",
      " 7   Hobbies         11 non-null     object\n",
      " 8   EmailId         11 non-null     object\n",
      " 9   Contact         11 non-null     int64 \n",
      "dtypes: int64(2), object(8)\n",
      "memory usage: 1008.0+ bytes\n"
     ]
    }
   ],
   "source": [
    "df.info()"
   ]
  },
  {
   "cell_type": "code",
   "execution_count": 8,
   "id": "f3b858b4",
   "metadata": {},
   "outputs": [
    {
     "data": {
      "text/plain": [
       "RangeIndex(start=0, stop=11, step=1)"
      ]
     },
     "execution_count": 8,
     "metadata": {},
     "output_type": "execute_result"
    }
   ],
   "source": [
    "df.index"
   ]
  },
  {
   "cell_type": "code",
   "execution_count": 9,
   "id": "0d4c4f15",
   "metadata": {},
   "outputs": [
    {
     "data": {
      "text/plain": [
       "S.No               int64\n",
       "Name              object\n",
       "Qualification     object\n",
       "Group             object\n",
       "Skills            object\n",
       "CurrentProject    object\n",
       "Location          object\n",
       "Hobbies           object\n",
       "EmailId           object\n",
       "Contact            int64\n",
       "dtype: object"
      ]
     },
     "execution_count": 9,
     "metadata": {},
     "output_type": "execute_result"
    }
   ],
   "source": [
    "df.dtypes"
   ]
  },
  {
   "cell_type": "code",
   "execution_count": 10,
   "id": "619c56e6",
   "metadata": {},
   "outputs": [
    {
     "data": {
      "text/plain": [
       "pandas.core.frame.DataFrame"
      ]
     },
     "execution_count": 10,
     "metadata": {},
     "output_type": "execute_result"
    }
   ],
   "source": [
    "type(df)"
   ]
  },
  {
   "cell_type": "code",
   "execution_count": 11,
   "id": "d4a95138",
   "metadata": {},
   "outputs": [
    {
     "data": {
      "text/html": [
       "<div>\n",
       "<style scoped>\n",
       "    .dataframe tbody tr th:only-of-type {\n",
       "        vertical-align: middle;\n",
       "    }\n",
       "\n",
       "    .dataframe tbody tr th {\n",
       "        vertical-align: top;\n",
       "    }\n",
       "\n",
       "    .dataframe thead th {\n",
       "        text-align: right;\n",
       "    }\n",
       "</style>\n",
       "<table border=\"1\" class=\"dataframe\">\n",
       "  <thead>\n",
       "    <tr style=\"text-align: right;\">\n",
       "      <th></th>\n",
       "      <th>S.No</th>\n",
       "      <th>Name</th>\n",
       "      <th>Qualification</th>\n",
       "      <th>Group</th>\n",
       "      <th>Skills</th>\n",
       "      <th>CurrentProject</th>\n",
       "      <th>Location</th>\n",
       "      <th>Hobbies</th>\n",
       "      <th>EmailId</th>\n",
       "      <th>Contact</th>\n",
       "    </tr>\n",
       "  </thead>\n",
       "  <tbody>\n",
       "    <tr>\n",
       "      <th>0</th>\n",
       "      <td>1</td>\n",
       "      <td>Paramatma Pulivarthi</td>\n",
       "      <td>M.Sc</td>\n",
       "      <td>Statistics</td>\n",
       "      <td>Python, GitHub, Jenkin,AWS,Azure,SQL</td>\n",
       "      <td>CarsProjects</td>\n",
       "      <td>Local</td>\n",
       "      <td>cricket, movies</td>\n",
       "      <td>mr.paramatma@gmail.com</td>\n",
       "      <td>8897328855</td>\n",
       "    </tr>\n",
       "    <tr>\n",
       "      <th>1</th>\n",
       "      <td>2</td>\n",
       "      <td>Nandipu.Jayasri</td>\n",
       "      <td>Btech</td>\n",
       "      <td>ECE</td>\n",
       "      <td>Python, GitHub, Jenkin,Azure,sql</td>\n",
       "      <td>Azure-DE,GamesProject</td>\n",
       "      <td>Non_local</td>\n",
       "      <td>Gardening</td>\n",
       "      <td>jayasrinandipu@gmail.com</td>\n",
       "      <td>9573249123</td>\n",
       "    </tr>\n",
       "    <tr>\n",
       "      <th>2</th>\n",
       "      <td>3</td>\n",
       "      <td>Maganti.Santhosh Kumar</td>\n",
       "      <td>Btech</td>\n",
       "      <td>ECE</td>\n",
       "      <td>Python, GitHub, Jenkin,Azure</td>\n",
       "      <td>Azure-DE,GamesProject</td>\n",
       "      <td>Local</td>\n",
       "      <td>Gardening,Movies</td>\n",
       "      <td>santhoshkumarmaganti15@gmail.com</td>\n",
       "      <td>9553938798</td>\n",
       "    </tr>\n",
       "    <tr>\n",
       "      <th>3</th>\n",
       "      <td>4</td>\n",
       "      <td>Loya.Swathi</td>\n",
       "      <td>Degree</td>\n",
       "      <td>Bcom</td>\n",
       "      <td>python,GitHub,Jenkins,SQL,AWS</td>\n",
       "      <td>GamesProject,CarProject,AWS-Quicksight-DE</td>\n",
       "      <td>Local</td>\n",
       "      <td>Movies,Reading Books</td>\n",
       "      <td>swathiloya95@gmail.com</td>\n",
       "      <td>9989114251</td>\n",
       "    </tr>\n",
       "    <tr>\n",
       "      <th>4</th>\n",
       "      <td>5</td>\n",
       "      <td>Mahabunnisa</td>\n",
       "      <td>Inter</td>\n",
       "      <td>MPC</td>\n",
       "      <td>Python,StockMarket,GitHub</td>\n",
       "      <td>GamesProject,CarProject</td>\n",
       "      <td>Non_local</td>\n",
       "      <td>Playing games,Music</td>\n",
       "      <td>mmahabunnisa18@gmail.com</td>\n",
       "      <td>7380047872</td>\n",
       "    </tr>\n",
       "    <tr>\n",
       "      <th>5</th>\n",
       "      <td>6</td>\n",
       "      <td>Domathoti.Mallika</td>\n",
       "      <td>Inter</td>\n",
       "      <td>HEC</td>\n",
       "      <td>Stockmarket</td>\n",
       "      <td>non</td>\n",
       "      <td>Local</td>\n",
       "      <td>Movies,Reading Books</td>\n",
       "      <td>mallikadomathoti14@gmail.com</td>\n",
       "      <td>9959368611</td>\n",
       "    </tr>\n",
       "    <tr>\n",
       "      <th>6</th>\n",
       "      <td>7</td>\n",
       "      <td>Abdul.Rahamatunnisa</td>\n",
       "      <td>Degree</td>\n",
       "      <td>MPCS</td>\n",
       "      <td>Python, GitHub, Jenkin,AWS</td>\n",
       "      <td>GamesProject,CarProject</td>\n",
       "      <td>Local</td>\n",
       "      <td>Playing games,cooking,reading books</td>\n",
       "      <td>rahamatunnisa103@gmail.com</td>\n",
       "      <td>8688206424</td>\n",
       "    </tr>\n",
       "    <tr>\n",
       "      <th>7</th>\n",
       "      <td>8</td>\n",
       "      <td>Odugu Nagadurga</td>\n",
       "      <td>Bsc</td>\n",
       "      <td>Mecs</td>\n",
       "      <td>Python, GitHub, Jenkin,AWS,SQL</td>\n",
       "      <td>AWS-Quicksight-DE</td>\n",
       "      <td>Non_local</td>\n",
       "      <td>listening music</td>\n",
       "      <td>nagadurgaodugu789@gmail.com</td>\n",
       "      <td>9492478895</td>\n",
       "    </tr>\n",
       "    <tr>\n",
       "      <th>8</th>\n",
       "      <td>9</td>\n",
       "      <td>Nasheena</td>\n",
       "      <td>Bsc</td>\n",
       "      <td>Comp</td>\n",
       "      <td>Python, GitHub, Jenkin,SQL</td>\n",
       "      <td>Developer Engineer</td>\n",
       "      <td>Non_local</td>\n",
       "      <td>Watching TV,play shettel</td>\n",
       "      <td>naseena121@gmail.com</td>\n",
       "      <td>7799813858</td>\n",
       "    </tr>\n",
       "    <tr>\n",
       "      <th>9</th>\n",
       "      <td>10</td>\n",
       "      <td>Gunmadi.prasanna</td>\n",
       "      <td>Btech</td>\n",
       "      <td>ECE</td>\n",
       "      <td>Python, GitHub, Jenkin,AWS,SQL</td>\n",
       "      <td>AWS-Quicksight-DE</td>\n",
       "      <td>local</td>\n",
       "      <td>Reading books</td>\n",
       "      <td>gummadiprasanna214@gmail.com</td>\n",
       "      <td>8688859784</td>\n",
       "    </tr>\n",
       "    <tr>\n",
       "      <th>10</th>\n",
       "      <td>11</td>\n",
       "      <td>Maganti.Nagarathnam</td>\n",
       "      <td>Bcom</td>\n",
       "      <td>Comp</td>\n",
       "      <td>Python, GitHub, Jenkin</td>\n",
       "      <td>GamesProject,CarProject</td>\n",
       "      <td>local</td>\n",
       "      <td>Reading books</td>\n",
       "      <td>mnagarathnam 9392 @gmail.com</td>\n",
       "      <td>8186098598</td>\n",
       "    </tr>\n",
       "  </tbody>\n",
       "</table>\n",
       "</div>"
      ],
      "text/plain": [
       "    S.No                    Name Qualification       Group  \\\n",
       "0      1    Paramatma Pulivarthi          M.Sc  Statistics   \n",
       "1      2         Nandipu.Jayasri         Btech         ECE   \n",
       "2      3  Maganti.Santhosh Kumar         Btech         ECE   \n",
       "3      4             Loya.Swathi        Degree        Bcom   \n",
       "4      5             Mahabunnisa         Inter         MPC   \n",
       "5      6       Domathoti.Mallika         Inter         HEC   \n",
       "6      7     Abdul.Rahamatunnisa        Degree        MPCS   \n",
       "7      8         Odugu Nagadurga           Bsc        Mecs   \n",
       "8      9                Nasheena           Bsc        Comp   \n",
       "9     10        Gunmadi.prasanna         Btech         ECE   \n",
       "10    11     Maganti.Nagarathnam          Bcom        Comp   \n",
       "\n",
       "                                  Skills  \\\n",
       "0   Python, GitHub, Jenkin,AWS,Azure,SQL   \n",
       "1       Python, GitHub, Jenkin,Azure,sql   \n",
       "2           Python, GitHub, Jenkin,Azure   \n",
       "3          python,GitHub,Jenkins,SQL,AWS   \n",
       "4              Python,StockMarket,GitHub   \n",
       "5                            Stockmarket   \n",
       "6             Python, GitHub, Jenkin,AWS   \n",
       "7         Python, GitHub, Jenkin,AWS,SQL   \n",
       "8             Python, GitHub, Jenkin,SQL   \n",
       "9         Python, GitHub, Jenkin,AWS,SQL   \n",
       "10                Python, GitHub, Jenkin   \n",
       "\n",
       "                               CurrentProject   Location  \\\n",
       "0                                CarsProjects      Local   \n",
       "1                       Azure-DE,GamesProject  Non_local   \n",
       "2                       Azure-DE,GamesProject      Local   \n",
       "3   GamesProject,CarProject,AWS-Quicksight-DE      Local   \n",
       "4                     GamesProject,CarProject  Non_local   \n",
       "5                                         non      Local   \n",
       "6                     GamesProject,CarProject      Local   \n",
       "7                           AWS-Quicksight-DE  Non_local   \n",
       "8                          Developer Engineer  Non_local   \n",
       "9                           AWS-Quicksight-DE      local   \n",
       "10                    GamesProject,CarProject      local   \n",
       "\n",
       "                                Hobbies                           EmailId  \\\n",
       "0                       cricket, movies            mr.paramatma@gmail.com   \n",
       "1                             Gardening          jayasrinandipu@gmail.com   \n",
       "2                      Gardening,Movies  santhoshkumarmaganti15@gmail.com   \n",
       "3                  Movies,Reading Books            swathiloya95@gmail.com   \n",
       "4                   Playing games,Music          mmahabunnisa18@gmail.com   \n",
       "5                  Movies,Reading Books      mallikadomathoti14@gmail.com   \n",
       "6   Playing games,cooking,reading books        rahamatunnisa103@gmail.com   \n",
       "7                       listening music      nagadurgaodugu789@gmail.com    \n",
       "8              Watching TV,play shettel              naseena121@gmail.com   \n",
       "9                         Reading books     gummadiprasanna214@gmail.com    \n",
       "10                        Reading books     mnagarathnam 9392 @gmail.com    \n",
       "\n",
       "       Contact  \n",
       "0   8897328855  \n",
       "1   9573249123  \n",
       "2   9553938798  \n",
       "3   9989114251  \n",
       "4   7380047872  \n",
       "5   9959368611  \n",
       "6   8688206424  \n",
       "7   9492478895  \n",
       "8   7799813858  \n",
       "9   8688859784  \n",
       "10  8186098598  "
      ]
     },
     "execution_count": 11,
     "metadata": {},
     "output_type": "execute_result"
    }
   ],
   "source": [
    "df1=pd.DataFrame(df)\n",
    "df1"
   ]
  },
  {
   "cell_type": "code",
   "execution_count": 12,
   "id": "3f4dc6c8",
   "metadata": {},
   "outputs": [],
   "source": [
    "#----------------->function"
   ]
  },
  {
   "cell_type": "code",
   "execution_count": 13,
   "id": "86e6e30d",
   "metadata": {},
   "outputs": [],
   "source": [
    "#-------------------------->test_1"
   ]
  },
  {
   "cell_type": "code",
   "execution_count": 14,
   "id": "dbce687a",
   "metadata": {},
   "outputs": [],
   "source": [
    "def my_fun(df1,Name):\n",
    "    newdf=df1[df1[\"Name\"]==Name]\n",
    "    final=newdf.to_dict(\"dict\")\n",
    "    return final"
   ]
  },
  {
   "cell_type": "code",
   "execution_count": 15,
   "id": "3e5c5b90",
   "metadata": {},
   "outputs": [
    {
     "data": {
      "text/plain": [
       "{'S.No': {0: 1},\n",
       " 'Name': {0: 'Paramatma Pulivarthi'},\n",
       " 'Qualification': {0: 'M.Sc'},\n",
       " 'Group': {0: 'Statistics'},\n",
       " 'Skills': {0: 'Python, GitHub, Jenkin,AWS,Azure,SQL'},\n",
       " 'CurrentProject': {0: 'CarsProjects'},\n",
       " 'Location': {0: 'Local'},\n",
       " 'Hobbies': {0: 'cricket, movies'},\n",
       " 'EmailId': {0: 'mr.paramatma@gmail.com'},\n",
       " 'Contact': {0: 8897328855}}"
      ]
     },
     "execution_count": 15,
     "metadata": {},
     "output_type": "execute_result"
    }
   ],
   "source": [
    "my_fun(df1,\"Paramatma Pulivarthi\")"
   ]
  },
  {
   "cell_type": "code",
   "execution_count": 16,
   "id": "c4aa3132",
   "metadata": {},
   "outputs": [],
   "source": [
    "#----------------------------->test_2"
   ]
  },
  {
   "cell_type": "code",
   "execution_count": 17,
   "id": "48dc94c9",
   "metadata": {},
   "outputs": [],
   "source": [
    "def my_fun(df1,Name):\n",
    "    newdf=df1[df1[\"Name\"]==Name]\n",
    "    final=newdf.to_dict(\"dict\")\n",
    "    return final"
   ]
  },
  {
   "cell_type": "code",
   "execution_count": 18,
   "id": "ec01597e",
   "metadata": {},
   "outputs": [
    {
     "data": {
      "text/plain": [
       "{'S.No': {1: 2},\n",
       " 'Name': {1: 'Nandipu.Jayasri'},\n",
       " 'Qualification': {1: 'Btech'},\n",
       " 'Group': {1: 'ECE'},\n",
       " 'Skills': {1: 'Python, GitHub, Jenkin,Azure,sql'},\n",
       " 'CurrentProject': {1: 'Azure-DE,GamesProject'},\n",
       " 'Location': {1: 'Non_local'},\n",
       " 'Hobbies': {1: 'Gardening'},\n",
       " 'EmailId': {1: 'jayasrinandipu@gmail.com'},\n",
       " 'Contact': {1: 9573249123}}"
      ]
     },
     "execution_count": 18,
     "metadata": {},
     "output_type": "execute_result"
    }
   ],
   "source": [
    "my_fun(df1,\"Nandipu.Jayasri\")"
   ]
  },
  {
   "cell_type": "code",
   "execution_count": 19,
   "id": "677c6105",
   "metadata": {},
   "outputs": [],
   "source": [
    "#--------------------------->test_3"
   ]
  },
  {
   "cell_type": "code",
   "execution_count": 20,
   "id": "7dc32b87",
   "metadata": {},
   "outputs": [],
   "source": [
    "def my_fun(df1,Name):\n",
    "    newdf=df1[df1[\"Name\"]==Name]\n",
    "    final=newdf.to_dict(\"dict\")\n",
    "    return final"
   ]
  },
  {
   "cell_type": "code",
   "execution_count": 21,
   "id": "7e40e497",
   "metadata": {},
   "outputs": [
    {
     "data": {
      "text/plain": [
       "{'S.No': {2: 3},\n",
       " 'Name': {2: 'Maganti.Santhosh Kumar'},\n",
       " 'Qualification': {2: 'Btech'},\n",
       " 'Group': {2: 'ECE'},\n",
       " 'Skills': {2: 'Python, GitHub, Jenkin,Azure'},\n",
       " 'CurrentProject': {2: 'Azure-DE,GamesProject'},\n",
       " 'Location': {2: 'Local'},\n",
       " 'Hobbies': {2: 'Gardening,Movies'},\n",
       " 'EmailId': {2: 'santhoshkumarmaganti15@gmail.com'},\n",
       " 'Contact': {2: 9553938798}}"
      ]
     },
     "execution_count": 21,
     "metadata": {},
     "output_type": "execute_result"
    }
   ],
   "source": [
    "my_fun(df1,\"Maganti.Santhosh Kumar\")"
   ]
  },
  {
   "cell_type": "code",
   "execution_count": 22,
   "id": "8b648237",
   "metadata": {},
   "outputs": [],
   "source": [
    "#--------------------------->test_4"
   ]
  },
  {
   "cell_type": "code",
   "execution_count": 23,
   "id": "0daa0c8e",
   "metadata": {},
   "outputs": [],
   "source": [
    "def my_fun(df1,Name):\n",
    "    newdf=df1[df1[\"Name\"]==Name]\n",
    "    final=newdf.to_dict(\"dict\")\n",
    "    return final"
   ]
  },
  {
   "cell_type": "code",
   "execution_count": 24,
   "id": "010cb541",
   "metadata": {},
   "outputs": [
    {
     "data": {
      "text/plain": [
       "{'S.No': {3: 4},\n",
       " 'Name': {3: 'Loya.Swathi'},\n",
       " 'Qualification': {3: 'Degree'},\n",
       " 'Group': {3: 'Bcom'},\n",
       " 'Skills': {3: 'python,GitHub,Jenkins,SQL,AWS'},\n",
       " 'CurrentProject': {3: 'GamesProject,CarProject,AWS-Quicksight-DE'},\n",
       " 'Location': {3: 'Local'},\n",
       " 'Hobbies': {3: 'Movies,Reading Books'},\n",
       " 'EmailId': {3: 'swathiloya95@gmail.com'},\n",
       " 'Contact': {3: 9989114251}}"
      ]
     },
     "execution_count": 24,
     "metadata": {},
     "output_type": "execute_result"
    }
   ],
   "source": [
    "my_fun(df1,\"Loya.Swathi\")"
   ]
  },
  {
   "cell_type": "code",
   "execution_count": 25,
   "id": "f7fd4b97",
   "metadata": {},
   "outputs": [],
   "source": [
    "#---------------------------->test_5"
   ]
  },
  {
   "cell_type": "code",
   "execution_count": 26,
   "id": "106e6297",
   "metadata": {},
   "outputs": [],
   "source": [
    "def my_fun(df1,Name):\n",
    "    newdf=df1[df1[\"Name\"]==Name]\n",
    "    final=newdf.to_dict(\"dict\")\n",
    "    return final"
   ]
  },
  {
   "cell_type": "code",
   "execution_count": 27,
   "id": "859b0b05",
   "metadata": {},
   "outputs": [
    {
     "data": {
      "text/plain": [
       "{'S.No': {4: 5},\n",
       " 'Name': {4: 'Mahabunnisa'},\n",
       " 'Qualification': {4: 'Inter'},\n",
       " 'Group': {4: 'MPC'},\n",
       " 'Skills': {4: 'Python,StockMarket,GitHub'},\n",
       " 'CurrentProject': {4: 'GamesProject,CarProject'},\n",
       " 'Location': {4: 'Non_local'},\n",
       " 'Hobbies': {4: 'Playing games,Music'},\n",
       " 'EmailId': {4: 'mmahabunnisa18@gmail.com'},\n",
       " 'Contact': {4: 7380047872}}"
      ]
     },
     "execution_count": 27,
     "metadata": {},
     "output_type": "execute_result"
    }
   ],
   "source": [
    "my_fun(df1,\"Mahabunnisa\")"
   ]
  },
  {
   "cell_type": "code",
   "execution_count": 28,
   "id": "9c211f05",
   "metadata": {},
   "outputs": [],
   "source": [
    "#------------------------test_6"
   ]
  },
  {
   "cell_type": "code",
   "execution_count": 29,
   "id": "5644d4f6",
   "metadata": {},
   "outputs": [],
   "source": [
    "def my_fun(df1,Name):\n",
    "    newdf=df1[df1[\"Name\"]==Name]\n",
    "    final=newdf.to_dict(\"dict\")\n",
    "    return final"
   ]
  },
  {
   "cell_type": "code",
   "execution_count": 30,
   "id": "b04dcc46",
   "metadata": {},
   "outputs": [
    {
     "data": {
      "text/plain": [
       "{'S.No': {5: 6},\n",
       " 'Name': {5: 'Domathoti.Mallika'},\n",
       " 'Qualification': {5: 'Inter'},\n",
       " 'Group': {5: 'HEC'},\n",
       " 'Skills': {5: 'Stockmarket'},\n",
       " 'CurrentProject': {5: 'non'},\n",
       " 'Location': {5: 'Local'},\n",
       " 'Hobbies': {5: 'Movies,Reading Books'},\n",
       " 'EmailId': {5: 'mallikadomathoti14@gmail.com'},\n",
       " 'Contact': {5: 9959368611}}"
      ]
     },
     "execution_count": 30,
     "metadata": {},
     "output_type": "execute_result"
    }
   ],
   "source": [
    "my_fun(df1,\"Domathoti.Mallika\")"
   ]
  },
  {
   "cell_type": "code",
   "execution_count": 31,
   "id": "06bf155f",
   "metadata": {},
   "outputs": [],
   "source": [
    "#----------------------------->test_7"
   ]
  },
  {
   "cell_type": "code",
   "execution_count": 32,
   "id": "c28bfee7",
   "metadata": {},
   "outputs": [],
   "source": [
    "def my_fun(df1,Name):\n",
    "    newdf=df1[df1[\"Name\"]==Name]\n",
    "    final=newdf.to_dict(\"dict\")\n",
    "    return final"
   ]
  },
  {
   "cell_type": "code",
   "execution_count": 33,
   "id": "e58cbdaf",
   "metadata": {},
   "outputs": [
    {
     "data": {
      "text/plain": [
       "{'S.No': {6: 7},\n",
       " 'Name': {6: 'Abdul.Rahamatunnisa'},\n",
       " 'Qualification': {6: 'Degree'},\n",
       " 'Group': {6: 'MPCS'},\n",
       " 'Skills': {6: 'Python, GitHub, Jenkin,AWS'},\n",
       " 'CurrentProject': {6: 'GamesProject,CarProject'},\n",
       " 'Location': {6: 'Local'},\n",
       " 'Hobbies': {6: 'Playing games,cooking,reading books'},\n",
       " 'EmailId': {6: 'rahamatunnisa103@gmail.com'},\n",
       " 'Contact': {6: 8688206424}}"
      ]
     },
     "execution_count": 33,
     "metadata": {},
     "output_type": "execute_result"
    }
   ],
   "source": [
    "my_fun(df1,\"Abdul.Rahamatunnisa\")"
   ]
  },
  {
   "cell_type": "code",
   "execution_count": 34,
   "id": "584f21d8",
   "metadata": {},
   "outputs": [],
   "source": [
    "#------------------------------->test_8"
   ]
  },
  {
   "cell_type": "code",
   "execution_count": 35,
   "id": "2d32ef6a",
   "metadata": {},
   "outputs": [],
   "source": [
    "def my_fun(df1,Name):\n",
    "    newdf=df1[df1[\"Name\"]==Name]\n",
    "    final=newdf.to_dict(\"dict\")\n",
    "    return final"
   ]
  },
  {
   "cell_type": "code",
   "execution_count": 36,
   "id": "1b4f98ea",
   "metadata": {},
   "outputs": [
    {
     "data": {
      "text/plain": [
       "{'S.No': {7: 8},\n",
       " 'Name': {7: 'Odugu Nagadurga'},\n",
       " 'Qualification': {7: 'Bsc'},\n",
       " 'Group': {7: 'Mecs'},\n",
       " 'Skills': {7: 'Python, GitHub, Jenkin,AWS,SQL'},\n",
       " 'CurrentProject': {7: 'AWS-Quicksight-DE'},\n",
       " 'Location': {7: 'Non_local'},\n",
       " 'Hobbies': {7: 'listening music'},\n",
       " 'EmailId': {7: 'nagadurgaodugu789@gmail.com '},\n",
       " 'Contact': {7: 9492478895}}"
      ]
     },
     "execution_count": 36,
     "metadata": {},
     "output_type": "execute_result"
    }
   ],
   "source": [
    "my_fun(df1,\"Odugu Nagadurga\")"
   ]
  },
  {
   "cell_type": "code",
   "execution_count": 37,
   "id": "838f4091",
   "metadata": {},
   "outputs": [],
   "source": [
    "#------------------------------->test_9"
   ]
  },
  {
   "cell_type": "code",
   "execution_count": 38,
   "id": "ed54424c",
   "metadata": {},
   "outputs": [],
   "source": [
    "def my_fun(df1,Name):\n",
    "    newdf=df1[df1[\"Name\"]==Name]\n",
    "    final=newdf.to_dict(\"dict\")\n",
    "    return final"
   ]
  },
  {
   "cell_type": "code",
   "execution_count": 39,
   "id": "18c69376",
   "metadata": {},
   "outputs": [
    {
     "data": {
      "text/plain": [
       "{'S.No': {8: 9},\n",
       " 'Name': {8: 'Nasheena'},\n",
       " 'Qualification': {8: 'Bsc'},\n",
       " 'Group': {8: 'Comp'},\n",
       " 'Skills': {8: 'Python, GitHub, Jenkin,SQL'},\n",
       " 'CurrentProject': {8: 'Developer Engineer'},\n",
       " 'Location': {8: 'Non_local'},\n",
       " 'Hobbies': {8: 'Watching TV,play shettel'},\n",
       " 'EmailId': {8: 'naseena121@gmail.com'},\n",
       " 'Contact': {8: 7799813858}}"
      ]
     },
     "execution_count": 39,
     "metadata": {},
     "output_type": "execute_result"
    }
   ],
   "source": [
    "my_fun(df1,\"Nasheena\")"
   ]
  },
  {
   "cell_type": "code",
   "execution_count": 40,
   "id": "090452eb",
   "metadata": {},
   "outputs": [],
   "source": [
    "#------------------------------->test_10"
   ]
  },
  {
   "cell_type": "code",
   "execution_count": 41,
   "id": "dd7aad84",
   "metadata": {},
   "outputs": [],
   "source": [
    "def my_fun(df1,Name):\n",
    "    newdf=df1[df1[\"Name\"]==Name]\n",
    "    final=newdf.to_dict(\"dict\")\n",
    "    return final"
   ]
  },
  {
   "cell_type": "code",
   "execution_count": 42,
   "id": "eb3bdf03",
   "metadata": {},
   "outputs": [
    {
     "data": {
      "text/plain": [
       "{'S.No': {9: 10},\n",
       " 'Name': {9: 'Gunmadi.prasanna'},\n",
       " 'Qualification': {9: 'Btech'},\n",
       " 'Group': {9: 'ECE'},\n",
       " 'Skills': {9: 'Python, GitHub, Jenkin,AWS,SQL'},\n",
       " 'CurrentProject': {9: 'AWS-Quicksight-DE'},\n",
       " 'Location': {9: 'local'},\n",
       " 'Hobbies': {9: 'Reading books'},\n",
       " 'EmailId': {9: 'gummadiprasanna214@gmail.com '},\n",
       " 'Contact': {9: 8688859784}}"
      ]
     },
     "execution_count": 42,
     "metadata": {},
     "output_type": "execute_result"
    }
   ],
   "source": [
    "my_fun(df1,\"Gunmadi.prasanna\")"
   ]
  },
  {
   "cell_type": "code",
   "execution_count": 43,
   "id": "7505ec8a",
   "metadata": {},
   "outputs": [],
   "source": [
    "#------------------------------->test_11"
   ]
  },
  {
   "cell_type": "code",
   "execution_count": 44,
   "id": "bea76723",
   "metadata": {},
   "outputs": [],
   "source": [
    "def my_fun(df1,Name):\n",
    "    newdf=df1[df1[\"Name\"]==Name]\n",
    "    final=newdf.to_dict(\"dict\")\n",
    "    return final \n"
   ]
  },
  {
   "cell_type": "code",
   "execution_count": 45,
   "id": "7d16a9d4",
   "metadata": {},
   "outputs": [
    {
     "data": {
      "text/plain": [
       "{'S.No': {10: 11},\n",
       " 'Name': {10: 'Maganti.Nagarathnam'},\n",
       " 'Qualification': {10: 'Bcom'},\n",
       " 'Group': {10: 'Comp'},\n",
       " 'Skills': {10: 'Python, GitHub, Jenkin'},\n",
       " 'CurrentProject': {10: 'GamesProject,CarProject'},\n",
       " 'Location': {10: 'local'},\n",
       " 'Hobbies': {10: 'Reading books'},\n",
       " 'EmailId': {10: 'mnagarathnam 9392 @gmail.com '},\n",
       " 'Contact': {10: 8186098598}}"
      ]
     },
     "execution_count": 45,
     "metadata": {},
     "output_type": "execute_result"
    }
   ],
   "source": [
    "my_fun(df1,\"Maganti.Nagarathnam\")"
   ]
  },
  {
   "cell_type": "code",
   "execution_count": 46,
   "id": "6ce851ef",
   "metadata": {},
   "outputs": [
    {
     "data": {
      "text/html": [
       "<div>\n",
       "<style scoped>\n",
       "    .dataframe tbody tr th:only-of-type {\n",
       "        vertical-align: middle;\n",
       "    }\n",
       "\n",
       "    .dataframe tbody tr th {\n",
       "        vertical-align: top;\n",
       "    }\n",
       "\n",
       "    .dataframe thead th {\n",
       "        text-align: right;\n",
       "    }\n",
       "</style>\n",
       "<table border=\"1\" class=\"dataframe\">\n",
       "  <thead>\n",
       "    <tr style=\"text-align: right;\">\n",
       "      <th></th>\n",
       "      <th>S.No</th>\n",
       "      <th>Name</th>\n",
       "      <th>Qualification</th>\n",
       "      <th>Group</th>\n",
       "      <th>Skills</th>\n",
       "      <th>CurrentProject</th>\n",
       "      <th>Location</th>\n",
       "      <th>Hobbies</th>\n",
       "    </tr>\n",
       "  </thead>\n",
       "  <tbody>\n",
       "    <tr>\n",
       "      <th>0</th>\n",
       "      <td>1</td>\n",
       "      <td>Paramatma Pulivarthi</td>\n",
       "      <td>M.Sc</td>\n",
       "      <td>Statistics</td>\n",
       "      <td>Python, GitHub, Jenkin,AWS,Azure,SQL</td>\n",
       "      <td>CarsProjects</td>\n",
       "      <td>Local</td>\n",
       "      <td>cricket, movies</td>\n",
       "    </tr>\n",
       "    <tr>\n",
       "      <th>1</th>\n",
       "      <td>2</td>\n",
       "      <td>Nandipu.Jayasri</td>\n",
       "      <td>Btech</td>\n",
       "      <td>ECE</td>\n",
       "      <td>Python, GitHub, Jenkin,Azure,sql</td>\n",
       "      <td>Azure-DE,GamesProject</td>\n",
       "      <td>Non_local</td>\n",
       "      <td>Gardening</td>\n",
       "    </tr>\n",
       "    <tr>\n",
       "      <th>2</th>\n",
       "      <td>3</td>\n",
       "      <td>Maganti.Santhosh Kumar</td>\n",
       "      <td>Btech</td>\n",
       "      <td>ECE</td>\n",
       "      <td>Python, GitHub, Jenkin,Azure</td>\n",
       "      <td>Azure-DE,GamesProject</td>\n",
       "      <td>Local</td>\n",
       "      <td>Gardening,Movies</td>\n",
       "    </tr>\n",
       "    <tr>\n",
       "      <th>3</th>\n",
       "      <td>4</td>\n",
       "      <td>Loya.Swathi</td>\n",
       "      <td>Degree</td>\n",
       "      <td>Bcom</td>\n",
       "      <td>python,GitHub,Jenkins,SQL,AWS</td>\n",
       "      <td>GamesProject,CarProject,AWS-Quicksight-DE</td>\n",
       "      <td>Local</td>\n",
       "      <td>Movies,Reading Books</td>\n",
       "    </tr>\n",
       "    <tr>\n",
       "      <th>4</th>\n",
       "      <td>5</td>\n",
       "      <td>Mahabunnisa</td>\n",
       "      <td>Inter</td>\n",
       "      <td>MPC</td>\n",
       "      <td>Python,StockMarket,GitHub</td>\n",
       "      <td>GamesProject,CarProject</td>\n",
       "      <td>Non_local</td>\n",
       "      <td>Playing games,Music</td>\n",
       "    </tr>\n",
       "    <tr>\n",
       "      <th>5</th>\n",
       "      <td>6</td>\n",
       "      <td>Domathoti.Mallika</td>\n",
       "      <td>Inter</td>\n",
       "      <td>HEC</td>\n",
       "      <td>Stockmarket</td>\n",
       "      <td>non</td>\n",
       "      <td>Local</td>\n",
       "      <td>Movies,Reading Books</td>\n",
       "    </tr>\n",
       "    <tr>\n",
       "      <th>6</th>\n",
       "      <td>7</td>\n",
       "      <td>Abdul.Rahamatunnisa</td>\n",
       "      <td>Degree</td>\n",
       "      <td>MPCS</td>\n",
       "      <td>Python, GitHub, Jenkin,AWS</td>\n",
       "      <td>GamesProject,CarProject</td>\n",
       "      <td>Local</td>\n",
       "      <td>Playing games,cooking,reading books</td>\n",
       "    </tr>\n",
       "    <tr>\n",
       "      <th>7</th>\n",
       "      <td>8</td>\n",
       "      <td>Odugu Nagadurga</td>\n",
       "      <td>Bsc</td>\n",
       "      <td>Mecs</td>\n",
       "      <td>Python, GitHub, Jenkin,AWS,SQL</td>\n",
       "      <td>AWS-Quicksight-DE</td>\n",
       "      <td>Non_local</td>\n",
       "      <td>listening music</td>\n",
       "    </tr>\n",
       "    <tr>\n",
       "      <th>8</th>\n",
       "      <td>9</td>\n",
       "      <td>Nasheena</td>\n",
       "      <td>Bsc</td>\n",
       "      <td>Comp</td>\n",
       "      <td>Python, GitHub, Jenkin,SQL</td>\n",
       "      <td>Developer Engineer</td>\n",
       "      <td>Non_local</td>\n",
       "      <td>Watching TV,play shettel</td>\n",
       "    </tr>\n",
       "    <tr>\n",
       "      <th>9</th>\n",
       "      <td>10</td>\n",
       "      <td>Gunmadi.prasanna</td>\n",
       "      <td>Btech</td>\n",
       "      <td>ECE</td>\n",
       "      <td>Python, GitHub, Jenkin,AWS,SQL</td>\n",
       "      <td>AWS-Quicksight-DE</td>\n",
       "      <td>local</td>\n",
       "      <td>Reading books</td>\n",
       "    </tr>\n",
       "    <tr>\n",
       "      <th>10</th>\n",
       "      <td>11</td>\n",
       "      <td>Maganti.Nagarathnam</td>\n",
       "      <td>Bcom</td>\n",
       "      <td>Comp</td>\n",
       "      <td>Python, GitHub, Jenkin</td>\n",
       "      <td>GamesProject,CarProject</td>\n",
       "      <td>local</td>\n",
       "      <td>Reading books</td>\n",
       "    </tr>\n",
       "  </tbody>\n",
       "</table>\n",
       "</div>"
      ],
      "text/plain": [
       "    S.No                    Name Qualification       Group  \\\n",
       "0      1    Paramatma Pulivarthi          M.Sc  Statistics   \n",
       "1      2         Nandipu.Jayasri         Btech         ECE   \n",
       "2      3  Maganti.Santhosh Kumar         Btech         ECE   \n",
       "3      4             Loya.Swathi        Degree        Bcom   \n",
       "4      5             Mahabunnisa         Inter         MPC   \n",
       "5      6       Domathoti.Mallika         Inter         HEC   \n",
       "6      7     Abdul.Rahamatunnisa        Degree        MPCS   \n",
       "7      8         Odugu Nagadurga           Bsc        Mecs   \n",
       "8      9                Nasheena           Bsc        Comp   \n",
       "9     10        Gunmadi.prasanna         Btech         ECE   \n",
       "10    11     Maganti.Nagarathnam          Bcom        Comp   \n",
       "\n",
       "                                  Skills  \\\n",
       "0   Python, GitHub, Jenkin,AWS,Azure,SQL   \n",
       "1       Python, GitHub, Jenkin,Azure,sql   \n",
       "2           Python, GitHub, Jenkin,Azure   \n",
       "3          python,GitHub,Jenkins,SQL,AWS   \n",
       "4              Python,StockMarket,GitHub   \n",
       "5                            Stockmarket   \n",
       "6             Python, GitHub, Jenkin,AWS   \n",
       "7         Python, GitHub, Jenkin,AWS,SQL   \n",
       "8             Python, GitHub, Jenkin,SQL   \n",
       "9         Python, GitHub, Jenkin,AWS,SQL   \n",
       "10                Python, GitHub, Jenkin   \n",
       "\n",
       "                               CurrentProject   Location  \\\n",
       "0                                CarsProjects      Local   \n",
       "1                       Azure-DE,GamesProject  Non_local   \n",
       "2                       Azure-DE,GamesProject      Local   \n",
       "3   GamesProject,CarProject,AWS-Quicksight-DE      Local   \n",
       "4                     GamesProject,CarProject  Non_local   \n",
       "5                                         non      Local   \n",
       "6                     GamesProject,CarProject      Local   \n",
       "7                           AWS-Quicksight-DE  Non_local   \n",
       "8                          Developer Engineer  Non_local   \n",
       "9                           AWS-Quicksight-DE      local   \n",
       "10                    GamesProject,CarProject      local   \n",
       "\n",
       "                                Hobbies  \n",
       "0                       cricket, movies  \n",
       "1                             Gardening  \n",
       "2                      Gardening,Movies  \n",
       "3                  Movies,Reading Books  \n",
       "4                   Playing games,Music  \n",
       "5                  Movies,Reading Books  \n",
       "6   Playing games,cooking,reading books  \n",
       "7                       listening music  \n",
       "8              Watching TV,play shettel  \n",
       "9                         Reading books  \n",
       "10                        Reading books  "
      ]
     },
     "execution_count": 46,
     "metadata": {},
     "output_type": "execute_result"
    }
   ],
   "source": [
    "filter=df[[\"S.No\",\"Name\",\"Qualification\",\"Group\",\"Skills\",\"CurrentProject\",\"Location\",\"Hobbies\"]]\n",
    "filter"
   ]
  },
  {
   "cell_type": "code",
   "execution_count": 47,
   "id": "bbe7fb90",
   "metadata": {},
   "outputs": [
    {
     "data": {
      "text/html": [
       "<div>\n",
       "<style scoped>\n",
       "    .dataframe tbody tr th:only-of-type {\n",
       "        vertical-align: middle;\n",
       "    }\n",
       "\n",
       "    .dataframe tbody tr th {\n",
       "        vertical-align: top;\n",
       "    }\n",
       "\n",
       "    .dataframe thead th {\n",
       "        text-align: right;\n",
       "    }\n",
       "</style>\n",
       "<table border=\"1\" class=\"dataframe\">\n",
       "  <thead>\n",
       "    <tr style=\"text-align: right;\">\n",
       "      <th></th>\n",
       "      <th>S.No</th>\n",
       "      <th>Name</th>\n",
       "      <th>Qualification</th>\n",
       "      <th>Group</th>\n",
       "      <th>Skills</th>\n",
       "      <th>CurrentProject</th>\n",
       "      <th>Location</th>\n",
       "      <th>Hobbies</th>\n",
       "    </tr>\n",
       "  </thead>\n",
       "  <tbody>\n",
       "    <tr>\n",
       "      <th>0</th>\n",
       "      <td>1</td>\n",
       "      <td>Paramatma Pulivarthi</td>\n",
       "      <td>M.Sc</td>\n",
       "      <td>Statistics</td>\n",
       "      <td>Python, GitHub, Jenkin,AWS,Azure,SQL</td>\n",
       "      <td>CarsProjects</td>\n",
       "      <td>Local</td>\n",
       "      <td>cricket, movies</td>\n",
       "    </tr>\n",
       "    <tr>\n",
       "      <th>1</th>\n",
       "      <td>2</td>\n",
       "      <td>Nandipu.Jayasri</td>\n",
       "      <td>Btech</td>\n",
       "      <td>ECE</td>\n",
       "      <td>Python, GitHub, Jenkin,Azure,sql</td>\n",
       "      <td>Azure-DE,GamesProject</td>\n",
       "      <td>Non_local</td>\n",
       "      <td>Gardening</td>\n",
       "    </tr>\n",
       "    <tr>\n",
       "      <th>2</th>\n",
       "      <td>3</td>\n",
       "      <td>Maganti.Santhosh Kumar</td>\n",
       "      <td>Btech</td>\n",
       "      <td>ECE</td>\n",
       "      <td>Python, GitHub, Jenkin,Azure</td>\n",
       "      <td>Azure-DE,GamesProject</td>\n",
       "      <td>Local</td>\n",
       "      <td>Gardening,Movies</td>\n",
       "    </tr>\n",
       "    <tr>\n",
       "      <th>3</th>\n",
       "      <td>4</td>\n",
       "      <td>Loya.Swathi</td>\n",
       "      <td>Degree</td>\n",
       "      <td>Bcom</td>\n",
       "      <td>python,GitHub,Jenkins,SQL,AWS</td>\n",
       "      <td>GamesProject,CarProject,AWS-Quicksight-DE</td>\n",
       "      <td>Local</td>\n",
       "      <td>Movies,Reading Books</td>\n",
       "    </tr>\n",
       "    <tr>\n",
       "      <th>4</th>\n",
       "      <td>5</td>\n",
       "      <td>Mahabunnisa</td>\n",
       "      <td>Inter</td>\n",
       "      <td>MPC</td>\n",
       "      <td>Python,StockMarket,GitHub</td>\n",
       "      <td>GamesProject,CarProject</td>\n",
       "      <td>Non_local</td>\n",
       "      <td>Playing games,Music</td>\n",
       "    </tr>\n",
       "    <tr>\n",
       "      <th>5</th>\n",
       "      <td>6</td>\n",
       "      <td>Domathoti.Mallika</td>\n",
       "      <td>Inter</td>\n",
       "      <td>HEC</td>\n",
       "      <td>Stockmarket</td>\n",
       "      <td>non</td>\n",
       "      <td>Local</td>\n",
       "      <td>Movies,Reading Books</td>\n",
       "    </tr>\n",
       "    <tr>\n",
       "      <th>6</th>\n",
       "      <td>7</td>\n",
       "      <td>Abdul.Rahamatunnisa</td>\n",
       "      <td>Degree</td>\n",
       "      <td>MPCS</td>\n",
       "      <td>Python, GitHub, Jenkin,AWS</td>\n",
       "      <td>GamesProject,CarProject</td>\n",
       "      <td>Local</td>\n",
       "      <td>Playing games,cooking,reading books</td>\n",
       "    </tr>\n",
       "    <tr>\n",
       "      <th>7</th>\n",
       "      <td>8</td>\n",
       "      <td>Odugu Nagadurga</td>\n",
       "      <td>Bsc</td>\n",
       "      <td>Mecs</td>\n",
       "      <td>Python, GitHub, Jenkin,AWS,SQL</td>\n",
       "      <td>AWS-Quicksight-DE</td>\n",
       "      <td>Non_local</td>\n",
       "      <td>listening music</td>\n",
       "    </tr>\n",
       "    <tr>\n",
       "      <th>8</th>\n",
       "      <td>9</td>\n",
       "      <td>Nasheena</td>\n",
       "      <td>Bsc</td>\n",
       "      <td>Comp</td>\n",
       "      <td>Python, GitHub, Jenkin,SQL</td>\n",
       "      <td>Developer Engineer</td>\n",
       "      <td>Non_local</td>\n",
       "      <td>Watching TV,play shettel</td>\n",
       "    </tr>\n",
       "    <tr>\n",
       "      <th>9</th>\n",
       "      <td>10</td>\n",
       "      <td>Gunmadi.prasanna</td>\n",
       "      <td>Btech</td>\n",
       "      <td>ECE</td>\n",
       "      <td>Python, GitHub, Jenkin,AWS,SQL</td>\n",
       "      <td>AWS-Quicksight-DE</td>\n",
       "      <td>local</td>\n",
       "      <td>Reading books</td>\n",
       "    </tr>\n",
       "    <tr>\n",
       "      <th>10</th>\n",
       "      <td>11</td>\n",
       "      <td>Maganti.Nagarathnam</td>\n",
       "      <td>Bcom</td>\n",
       "      <td>Comp</td>\n",
       "      <td>Python, GitHub, Jenkin</td>\n",
       "      <td>GamesProject,CarProject</td>\n",
       "      <td>local</td>\n",
       "      <td>Reading books</td>\n",
       "    </tr>\n",
       "  </tbody>\n",
       "</table>\n",
       "</div>"
      ],
      "text/plain": [
       "    S.No                    Name Qualification       Group  \\\n",
       "0      1    Paramatma Pulivarthi          M.Sc  Statistics   \n",
       "1      2         Nandipu.Jayasri         Btech         ECE   \n",
       "2      3  Maganti.Santhosh Kumar         Btech         ECE   \n",
       "3      4             Loya.Swathi        Degree        Bcom   \n",
       "4      5             Mahabunnisa         Inter         MPC   \n",
       "5      6       Domathoti.Mallika         Inter         HEC   \n",
       "6      7     Abdul.Rahamatunnisa        Degree        MPCS   \n",
       "7      8         Odugu Nagadurga           Bsc        Mecs   \n",
       "8      9                Nasheena           Bsc        Comp   \n",
       "9     10        Gunmadi.prasanna         Btech         ECE   \n",
       "10    11     Maganti.Nagarathnam          Bcom        Comp   \n",
       "\n",
       "                                  Skills  \\\n",
       "0   Python, GitHub, Jenkin,AWS,Azure,SQL   \n",
       "1       Python, GitHub, Jenkin,Azure,sql   \n",
       "2           Python, GitHub, Jenkin,Azure   \n",
       "3          python,GitHub,Jenkins,SQL,AWS   \n",
       "4              Python,StockMarket,GitHub   \n",
       "5                            Stockmarket   \n",
       "6             Python, GitHub, Jenkin,AWS   \n",
       "7         Python, GitHub, Jenkin,AWS,SQL   \n",
       "8             Python, GitHub, Jenkin,SQL   \n",
       "9         Python, GitHub, Jenkin,AWS,SQL   \n",
       "10                Python, GitHub, Jenkin   \n",
       "\n",
       "                               CurrentProject   Location  \\\n",
       "0                                CarsProjects      Local   \n",
       "1                       Azure-DE,GamesProject  Non_local   \n",
       "2                       Azure-DE,GamesProject      Local   \n",
       "3   GamesProject,CarProject,AWS-Quicksight-DE      Local   \n",
       "4                     GamesProject,CarProject  Non_local   \n",
       "5                                         non      Local   \n",
       "6                     GamesProject,CarProject      Local   \n",
       "7                           AWS-Quicksight-DE  Non_local   \n",
       "8                          Developer Engineer  Non_local   \n",
       "9                           AWS-Quicksight-DE      local   \n",
       "10                    GamesProject,CarProject      local   \n",
       "\n",
       "                                Hobbies  \n",
       "0                       cricket, movies  \n",
       "1                             Gardening  \n",
       "2                      Gardening,Movies  \n",
       "3                  Movies,Reading Books  \n",
       "4                   Playing games,Music  \n",
       "5                  Movies,Reading Books  \n",
       "6   Playing games,cooking,reading books  \n",
       "7                       listening music  \n",
       "8              Watching TV,play shettel  \n",
       "9                         Reading books  \n",
       "10                        Reading books  "
      ]
     },
     "execution_count": 47,
     "metadata": {},
     "output_type": "execute_result"
    }
   ],
   "source": [
    "df2=pd.DataFrame(filter)\n",
    "df2"
   ]
  },
  {
   "cell_type": "code",
   "execution_count": 48,
   "id": "0f75360c",
   "metadata": {},
   "outputs": [],
   "source": [
    "#--------------->test_1"
   ]
  },
  {
   "cell_type": "code",
   "execution_count": 49,
   "id": "c44e0e9f",
   "metadata": {},
   "outputs": [],
   "source": [
    "def my_fun(df2,Name):\n",
    "    newdf=df2[df2[\"Name\"]==Name]\n",
    "    final=newdf.to_dict(\"dict\")\n",
    "    return  final "
   ]
  },
  {
   "cell_type": "code",
   "execution_count": 50,
   "id": "72a2ee48",
   "metadata": {},
   "outputs": [
    {
     "data": {
      "text/plain": [
       "{'S.No': {0: 1},\n",
       " 'Name': {0: 'Paramatma Pulivarthi'},\n",
       " 'Qualification': {0: 'M.Sc'},\n",
       " 'Group': {0: 'Statistics'},\n",
       " 'Skills': {0: 'Python, GitHub, Jenkin,AWS,Azure,SQL'},\n",
       " 'CurrentProject': {0: 'CarsProjects'},\n",
       " 'Location': {0: 'Local'},\n",
       " 'Hobbies': {0: 'cricket, movies'}}"
      ]
     },
     "execution_count": 50,
     "metadata": {},
     "output_type": "execute_result"
    }
   ],
   "source": [
    "my_fun(df2,\"Paramatma Pulivarthi\")"
   ]
  },
  {
   "cell_type": "code",
   "execution_count": 51,
   "id": "027790b2",
   "metadata": {},
   "outputs": [
    {
     "data": {
      "text/plain": [
       "{'S.No': {1: 2},\n",
       " 'Name': {1: 'Nandipu.Jayasri'},\n",
       " 'Qualification': {1: 'Btech'},\n",
       " 'Group': {1: 'ECE'},\n",
       " 'Skills': {1: 'Python, GitHub, Jenkin,Azure,sql'},\n",
       " 'CurrentProject': {1: 'Azure-DE,GamesProject'},\n",
       " 'Location': {1: 'Non_local'},\n",
       " 'Hobbies': {1: 'Gardening'}}"
      ]
     },
     "execution_count": 51,
     "metadata": {},
     "output_type": "execute_result"
    }
   ],
   "source": [
    "my_fun(df2,\"Nandipu.Jayasri\")"
   ]
  },
  {
   "cell_type": "code",
   "execution_count": 52,
   "id": "d5238f77",
   "metadata": {},
   "outputs": [
    {
     "data": {
      "text/plain": [
       "{'S.No': {2: 3},\n",
       " 'Name': {2: 'Maganti.Santhosh Kumar'},\n",
       " 'Qualification': {2: 'Btech'},\n",
       " 'Group': {2: 'ECE'},\n",
       " 'Skills': {2: 'Python, GitHub, Jenkin,Azure'},\n",
       " 'CurrentProject': {2: 'Azure-DE,GamesProject'},\n",
       " 'Location': {2: 'Local'},\n",
       " 'Hobbies': {2: 'Gardening,Movies'}}"
      ]
     },
     "execution_count": 52,
     "metadata": {},
     "output_type": "execute_result"
    }
   ],
   "source": [
    "my_fun(df2,\"Maganti.Santhosh Kumar\")"
   ]
  },
  {
   "cell_type": "code",
   "execution_count": 53,
   "id": "a548e0ef",
   "metadata": {},
   "outputs": [
    {
     "data": {
      "text/plain": [
       "{'S.No': {3: 4},\n",
       " 'Name': {3: 'Loya.Swathi'},\n",
       " 'Qualification': {3: 'Degree'},\n",
       " 'Group': {3: 'Bcom'},\n",
       " 'Skills': {3: 'python,GitHub,Jenkins,SQL,AWS'},\n",
       " 'CurrentProject': {3: 'GamesProject,CarProject,AWS-Quicksight-DE'},\n",
       " 'Location': {3: 'Local'},\n",
       " 'Hobbies': {3: 'Movies,Reading Books'}}"
      ]
     },
     "execution_count": 53,
     "metadata": {},
     "output_type": "execute_result"
    }
   ],
   "source": [
    "my_fun(df2,\"Loya.Swathi\")"
   ]
  },
  {
   "cell_type": "code",
   "execution_count": 54,
   "id": "5de4f34d",
   "metadata": {},
   "outputs": [
    {
     "data": {
      "text/plain": [
       "{'S.No': {4: 5},\n",
       " 'Name': {4: 'Mahabunnisa'},\n",
       " 'Qualification': {4: 'Inter'},\n",
       " 'Group': {4: 'MPC'},\n",
       " 'Skills': {4: 'Python,StockMarket,GitHub'},\n",
       " 'CurrentProject': {4: 'GamesProject,CarProject'},\n",
       " 'Location': {4: 'Non_local'},\n",
       " 'Hobbies': {4: 'Playing games,Music'}}"
      ]
     },
     "execution_count": 54,
     "metadata": {},
     "output_type": "execute_result"
    }
   ],
   "source": [
    "my_fun(df2,\"Mahabunnisa\")"
   ]
  },
  {
   "cell_type": "code",
   "execution_count": 55,
   "id": "2b566716",
   "metadata": {},
   "outputs": [
    {
     "data": {
      "text/plain": [
       "{'S.No': {5: 6},\n",
       " 'Name': {5: 'Domathoti.Mallika'},\n",
       " 'Qualification': {5: 'Inter'},\n",
       " 'Group': {5: 'HEC'},\n",
       " 'Skills': {5: 'Stockmarket'},\n",
       " 'CurrentProject': {5: 'non'},\n",
       " 'Location': {5: 'Local'},\n",
       " 'Hobbies': {5: 'Movies,Reading Books'}}"
      ]
     },
     "execution_count": 55,
     "metadata": {},
     "output_type": "execute_result"
    }
   ],
   "source": [
    "my_fun(filter,\"Domathoti.Mallika\")"
   ]
  },
  {
   "cell_type": "code",
   "execution_count": 56,
   "id": "3288cb85",
   "metadata": {},
   "outputs": [
    {
     "data": {
      "text/plain": [
       "{'S.No': {6: 7},\n",
       " 'Name': {6: 'Abdul.Rahamatunnisa'},\n",
       " 'Qualification': {6: 'Degree'},\n",
       " 'Group': {6: 'MPCS'},\n",
       " 'Skills': {6: 'Python, GitHub, Jenkin,AWS'},\n",
       " 'CurrentProject': {6: 'GamesProject,CarProject'},\n",
       " 'Location': {6: 'Local'},\n",
       " 'Hobbies': {6: 'Playing games,cooking,reading books'}}"
      ]
     },
     "execution_count": 56,
     "metadata": {},
     "output_type": "execute_result"
    }
   ],
   "source": [
    "my_fun(df2,\"Abdul.Rahamatunnisa\")\n",
    "       "
   ]
  },
  {
   "cell_type": "code",
   "execution_count": 57,
   "id": "8fffcf88",
   "metadata": {},
   "outputs": [
    {
     "data": {
      "text/plain": [
       "{'S.No': {7: 8},\n",
       " 'Name': {7: 'Odugu Nagadurga'},\n",
       " 'Qualification': {7: 'Bsc'},\n",
       " 'Group': {7: 'Mecs'},\n",
       " 'Skills': {7: 'Python, GitHub, Jenkin,AWS,SQL'},\n",
       " 'CurrentProject': {7: 'AWS-Quicksight-DE'},\n",
       " 'Location': {7: 'Non_local'},\n",
       " 'Hobbies': {7: 'listening music'}}"
      ]
     },
     "execution_count": 57,
     "metadata": {},
     "output_type": "execute_result"
    }
   ],
   "source": [
    "my_fun(df2,\"Odugu Nagadurga\")"
   ]
  },
  {
   "cell_type": "code",
   "execution_count": 58,
   "id": "53e5f746",
   "metadata": {},
   "outputs": [
    {
     "data": {
      "text/plain": [
       "{'S.No': {8: 9},\n",
       " 'Name': {8: 'Nasheena'},\n",
       " 'Qualification': {8: 'Bsc'},\n",
       " 'Group': {8: 'Comp'},\n",
       " 'Skills': {8: 'Python, GitHub, Jenkin,SQL'},\n",
       " 'CurrentProject': {8: 'Developer Engineer'},\n",
       " 'Location': {8: 'Non_local'},\n",
       " 'Hobbies': {8: 'Watching TV,play shettel'}}"
      ]
     },
     "execution_count": 58,
     "metadata": {},
     "output_type": "execute_result"
    }
   ],
   "source": [
    "my_fun(df2,\"Nasheena\")"
   ]
  },
  {
   "cell_type": "code",
   "execution_count": 59,
   "id": "4620be7d",
   "metadata": {},
   "outputs": [
    {
     "data": {
      "text/plain": [
       "{'S.No': {9: 10},\n",
       " 'Name': {9: 'Gunmadi.prasanna'},\n",
       " 'Qualification': {9: 'Btech'},\n",
       " 'Group': {9: 'ECE'},\n",
       " 'Skills': {9: 'Python, GitHub, Jenkin,AWS,SQL'},\n",
       " 'CurrentProject': {9: 'AWS-Quicksight-DE'},\n",
       " 'Location': {9: 'local'},\n",
       " 'Hobbies': {9: 'Reading books'}}"
      ]
     },
     "execution_count": 59,
     "metadata": {},
     "output_type": "execute_result"
    }
   ],
   "source": [
    "my_fun(df2,\"Gunmadi.prasanna\")"
   ]
  },
  {
   "cell_type": "code",
   "execution_count": 60,
   "id": "268bbf86",
   "metadata": {},
   "outputs": [
    {
     "data": {
      "text/plain": [
       "{'S.No': {10: 11},\n",
       " 'Name': {10: 'Maganti.Nagarathnam'},\n",
       " 'Qualification': {10: 'Bcom'},\n",
       " 'Group': {10: 'Comp'},\n",
       " 'Skills': {10: 'Python, GitHub, Jenkin'},\n",
       " 'CurrentProject': {10: 'GamesProject,CarProject'},\n",
       " 'Location': {10: 'local'},\n",
       " 'Hobbies': {10: 'Reading books'}}"
      ]
     },
     "execution_count": 60,
     "metadata": {},
     "output_type": "execute_result"
    }
   ],
   "source": [
    "my_fun(df2,\"Maganti.Nagarathnam\")"
   ]
  },
  {
   "cell_type": "code",
   "execution_count": null,
   "id": "96fb832a",
   "metadata": {},
   "outputs": [],
   "source": []
  }
 ],
 "metadata": {
  "kernelspec": {
   "display_name": "Python 3 (ipykernel)",
   "language": "python",
   "name": "python3"
  },
  "language_info": {
   "codemirror_mode": {
    "name": "ipython",
    "version": 3
   },
   "file_extension": ".py",
   "mimetype": "text/x-python",
   "name": "python",
   "nbconvert_exporter": "python",
   "pygments_lexer": "ipython3",
   "version": "3.10.9"
  }
 },
 "nbformat": 4,
 "nbformat_minor": 5
}
