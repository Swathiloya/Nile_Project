{
 "cells": [
  {
   "cell_type": "code",
   "execution_count": 1,
   "id": "f342367b",
   "metadata": {},
   "outputs": [],
   "source": [
    "fruits=[\"bananas\",\"apples\",\"oranges\",\"mangos\",\"grapes\",\"guavas\",\"pine apples\",\"water melons\",\"pomegranates\",\"jujubis\",\"papaya\"]\n",
    "#[\"raju\",\"lakshmi\",\"gopi\",\"krishna\",\"jyothi\",\"anusha\",\"poojitha\",\"sruthi\",\"chethanya\",\"uma\"]"
   ]
  },
  {
   "cell_type": "code",
   "execution_count": 2,
   "id": "aedb148b",
   "metadata": {},
   "outputs": [],
   "source": [
    "def fruitsdelivery(fruits):\n",
    "    for ft in fruits:\n",
    "        print(\"fruits---------->\",ft)\n",
    "        if ft==\"bananas\":\n",
    "            print(\"deliver to raju\")\n",
    "        elif ft==\"apples\":\n",
    "            print(\"deliver to lakshmi\")\n",
    "        elif ft==\"oranges\":\n",
    "            print(\"deliver to gopi\")\n",
    "        elif ft==\"mangos\":\n",
    "            print(\"deliver to krishna\")\n",
    "        elif ft==\"grapes\":\n",
    "            print(\"deliver to jyothi\") \n",
    "        elif ft==\"guavas\":\n",
    "            print(\"deliver to anusha\") \n",
    "        elif ft==\"pine apples\":\n",
    "            print(\"deliver to poojitha\") \n",
    "        elif ft==\"water melons\":\n",
    "            print(\"deliver to sruthi\") \n",
    "        elif ft==\"pomegranates\":\n",
    "            print(\"deliver to chethanya\")\n",
    "        elif ft==\"jujubis\":\n",
    "            print(\"deliver to uma\") \n",
    "        else:\n",
    "            print(\"no delivery\") \n",
    "          "
   ]
  },
  {
   "cell_type": "code",
   "execution_count": 3,
   "id": "8793d7b8",
   "metadata": {},
   "outputs": [
    {
     "name": "stdout",
     "output_type": "stream",
     "text": [
      "fruits----------> bananas\n",
      "deliver to raju\n",
      "fruits----------> apples\n",
      "deliver to lakshmi\n",
      "fruits----------> oranges\n",
      "deliver to gopi\n",
      "fruits----------> mangos\n",
      "deliver to krishna\n",
      "fruits----------> grapes\n",
      "deliver to jyothi\n",
      "fruits----------> guavas\n",
      "deliver to anusha\n",
      "fruits----------> pine apples\n",
      "deliver to poojitha\n",
      "fruits----------> water melons\n",
      "deliver to sruthi\n",
      "fruits----------> pomegranates\n",
      "deliver to chethanya\n",
      "fruits----------> jujubis\n",
      "deliver to uma\n",
      "fruits----------> papaya\n",
      "no delivery\n"
     ]
    }
   ],
   "source": [
    "fruitsdelivery(fruits)"
   ]
  },
  {
   "cell_type": "code",
   "execution_count": null,
   "id": "2848e070",
   "metadata": {},
   "outputs": [],
   "source": []
  }
 ],
 "metadata": {
  "kernelspec": {
   "display_name": "Python 3 (ipykernel)",
   "language": "python",
   "name": "python3"
  },
  "language_info": {
   "codemirror_mode": {
    "name": "ipython",
    "version": 3
   },
   "file_extension": ".py",
   "mimetype": "text/x-python",
   "name": "python",
   "nbconvert_exporter": "python",
   "pygments_lexer": "ipython3",
   "version": "3.10.9"
  }
 },
 "nbformat": 4,
 "nbformat_minor": 5
}
