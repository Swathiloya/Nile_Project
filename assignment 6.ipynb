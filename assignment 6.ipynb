{
 "cells": [
  {
   "cell_type": "code",
   "execution_count": 4,
   "id": "f25f7b8b",
   "metadata": {},
   "outputs": [
    {
     "name": "stdout",
     "output_type": "stream",
     "text": [
      "*****my friend name is***** anitha\n",
      "*****my friend name is***** vanaja\n",
      "*****my friend name is***** prasanna\n",
      "*****my friend name is***** sivadevi\n",
      "*****my friend name is***** vanitha\n",
      "*****my friend name is***** anusha\n",
      "*****my friend name is***** poojitha\n",
      "*****my friend name is***** sruthi\n",
      "*****my friend name is***** mamatha\n",
      "*****my friend name is***** manasa\n"
     ]
    }
   ],
   "source": [
    "list=[ \n",
    "for p in list:\n",
    "    print(\"*****my friend name is*****\",p)"
   ]
  },
  {
   "cell_type": "code",
   "execution_count": 2,
   "id": "63dee6b6",
   "metadata": {},
   "outputs": [
    {
     "name": "stdout",
     "output_type": "stream",
     "text": [
      "venkataraju\n",
      "dhanalakshmi\n",
      "gopalakrishna\n",
      "dasaradharamayya\n",
      "nagedhramma\n",
      "bhogiraju\n",
      "nagajyothi\n",
      "lakshamana\n",
      "umadevi\n",
      "poojitha\n"
     ]
    }
   ],
   "source": [
    "list=[\"venkataraju\",\"dhanalakshmi\",\"gopalakrishna\",\"dasaradharamayya\",\"nagedhramma\",\"bhogiraju\",\"nagajyothi\",\"lakshamana\",\"umadevi\",\"poojitha\"]\n",
    "for p in list:\n",
    "    print(p)    "
   ]
  },
  {
   "cell_type": "code",
   "execution_count": 9,
   "id": "1ea5dcb4",
   "metadata": {},
   "outputs": [
    {
     "name": "stdout",
     "output_type": "stream",
     "text": [
      "brinjal\n",
      "tomato\n",
      "angular gourds\n",
      "ladys finger\n",
      "gherkins\n",
      "potato\n",
      "bitter gourds\n",
      "bottle gourds\n",
      "sanke gourds\n",
      "cucumber\n"
     ]
    }
   ],
   "source": [
    "list=[\"brinjal\",\"tomato\",\"angular gourds\",\"ladys finger\",\"gherkins\",\"potato\",\"bitter gourds\",\"bottle gourds\",\"sanke gourds\",\"cucumber\"]\n",
    "for p in list:\n",
    "    print(p)"
   ]
  },
  {
   "cell_type": "code",
   "execution_count": 1,
   "id": "4c38b637",
   "metadata": {},
   "outputs": [
    {
     "name": "stdout",
     "output_type": "stream",
     "text": [
      "fish\n",
      "egg\n",
      "chicken\n",
      "mutton\n",
      "fishbiryani\n",
      "prawn\n",
      "chicken biryani\n",
      "mutton biryani\n",
      "thandoori\n",
      "prawn biryani\n"
     ]
    }
   ],
   "source": [
    "tuple=(\"fish\",\"egg\",\"chicken\",\"mutton\",\"fishbiryani\",\"prawn\",\"chicken biryani\",\"mutton biryani\",\"thandoori\",\"prawn biryani\")\n",
    "for p in tuple:\n",
    "    print(p)       "
   ]
  },
  {
   "cell_type": "code",
   "execution_count": 10,
   "id": "07e5c98f",
   "metadata": {},
   "outputs": [
    {
     "name": "stdout",
     "output_type": "stream",
     "text": [
      "white\n",
      "grey\n",
      "black\n",
      "red\n",
      "green\n",
      "blue\n",
      "brown\n",
      "orange\n",
      "pink\n",
      "yellow\n"
     ]
    }
   ],
   "source": [
    "set={\"white\",\"black\",\"red\",\"blue\",\"green\",\"yellow\",\"pink\",\"brown\",\"orange\",\"grey\"}\n",
    "for swathi in set :    \n",
    "    print(swathi)     "
   ]
  },
  {
   "cell_type": "code",
   "execution_count": 22,
   "id": "b146fb81",
   "metadata": {},
   "outputs": [
    {
     "name": "stdout",
     "output_type": "stream",
     "text": [
      "january\n",
      "february\n",
      "march\n",
      "april\n",
      "may\n",
      "june\n",
      "july\n",
      "august\n",
      "september\n",
      "october\n",
      "november\n",
      "december\n"
     ]
    }
   ],
   "source": [
    "list=3\n",
    "for buji in list:      \n",
    "    print(buji)      "
   ]
  },
  {
   "cell_type": "code",
   "execution_count": 7,
   "id": "37f092cc",
   "metadata": {},
   "outputs": [
    {
     "name": "stdout",
     "output_type": "stream",
     "text": [
      "9\n",
      "18\n",
      "27\n",
      "36\n",
      "45\n",
      "54\n",
      "63\n",
      "72\n",
      "81\n",
      "90\n"
     ]
    }
   ],
   "source": [
    "range(9,99,9)\n",
    "for p in range(9,99,9):\n",
    "    print(p)              "
   ]
  },
  {
   "cell_type": "code",
   "execution_count": 8,
   "id": "d6d3f903",
   "metadata": {},
   "outputs": [
    {
     "name": "stdout",
     "output_type": "stream",
     "text": [
      "12\n",
      "24\n",
      "36\n",
      "48\n",
      "60\n",
      "72\n",
      "84\n",
      "96\n",
      "108\n",
      "120\n"
     ]
    }
   ],
   "source": [
    "range(12,123,12)\n",
    "for p in range(12,123,12):\n",
    "    print(p)              "
   ]
  },
  {
   "cell_type": "code",
   "execution_count": null,
   "id": "b6d752d0",
   "metadata": {},
   "outputs": [],
   "source": []
  }
 ],
 "metadata": {
  "kernelspec": {
   "display_name": "Python 3 (ipykernel)",
   "language": "python",
   "name": "python3"
  },
  "language_info": {
   "codemirror_mode": {
    "name": "ipython",
    "version": 3
   },
   "file_extension": ".py",
   "mimetype": "text/x-python",
   "name": "python",
   "nbconvert_exporter": "python",
   "pygments_lexer": "ipython3",
   "version": "3.10.9"
  }
 },
 "nbformat": 4,
 "nbformat_minor": 5
}
