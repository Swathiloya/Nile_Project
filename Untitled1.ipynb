{
 "cells": [
  {
   "cell_type": "code",
   "execution_count": 13,
   "id": "58927633",
   "metadata": {},
   "outputs": [
    {
     "data": {
      "text/html": [
       "<div>\n",
       "<style scoped>\n",
       "    .dataframe tbody tr th:only-of-type {\n",
       "        vertical-align: middle;\n",
       "    }\n",
       "\n",
       "    .dataframe tbody tr th {\n",
       "        vertical-align: top;\n",
       "    }\n",
       "\n",
       "    .dataframe thead th {\n",
       "        text-align: right;\n",
       "    }\n",
       "</style>\n",
       "<table border=\"1\" class=\"dataframe\">\n",
       "  <thead>\n",
       "    <tr style=\"text-align: right;\">\n",
       "      <th></th>\n",
       "      <th>No.of Anna Canteens</th>\n",
       "      <th>(All)</th>\n",
       "      <th>Unnamed: 2</th>\n",
       "      <th>Unnamed: 3</th>\n",
       "    </tr>\n",
       "  </thead>\n",
       "  <tbody>\n",
       "    <tr>\n",
       "      <th>0</th>\n",
       "      <td>NaN</td>\n",
       "      <td>NaN</td>\n",
       "      <td>NaN</td>\n",
       "      <td>NaN</td>\n",
       "    </tr>\n",
       "    <tr>\n",
       "      <th>1</th>\n",
       "      <td>Sum of No.of Plates Consumed</td>\n",
       "      <td>Sum of Total Available food plates</td>\n",
       "      <td>Sum of No.of Customer</td>\n",
       "      <td>Sum of rating</td>\n",
       "    </tr>\n",
       "    <tr>\n",
       "      <th>2</th>\n",
       "      <td>29090</td>\n",
       "      <td>31910</td>\n",
       "      <td>30000</td>\n",
       "      <td>374</td>\n",
       "    </tr>\n",
       "  </tbody>\n",
       "</table>\n",
       "</div>"
      ],
      "text/plain": [
       "            No.of Anna Canteens                               (All)  \\\n",
       "0                           NaN                                 NaN   \n",
       "1  Sum of No.of Plates Consumed  Sum of Total Available food plates   \n",
       "2                         29090                               31910   \n",
       "\n",
       "              Unnamed: 2     Unnamed: 3  \n",
       "0                    NaN            NaN  \n",
       "1  Sum of No.of Customer  Sum of rating  \n",
       "2                  30000            374  "
      ]
     },
     "execution_count": 13,
     "metadata": {},
     "output_type": "execute_result"
    }
   ],
   "source": [
    "import pandas\n",
    "import pandas as pd\n",
    "df=pd.read_excel(r\"C:\\Users\\hp\\Desktop\\anna_canteen (1).xlsx\")\n",
    "df"
   ]
  },
  {
   "cell_type": "code",
   "execution_count": null,
   "id": "123110eb",
   "metadata": {},
   "outputs": [],
   "source": [
    "import pandas\n",
    "import pandas as pd\n",
    "colour_names=pd.read_excel(r\"C:\\Users\\hp\\OneDrive\\Documents\\swathi_pandas_1\\colour_names.xlsx\",sheet_name=\"swathi\")\n",
    "colour_names                           "
   ]
  },
  {
   "cell_type": "code",
   "execution_count": null,
   "id": "a1400d91",
   "metadata": {},
   "outputs": [],
   "source": []
  }
 ],
 "metadata": {
  "kernelspec": {
   "display_name": "Python 3 (ipykernel)",
   "language": "python",
   "name": "python3"
  },
  "language_info": {
   "codemirror_mode": {
    "name": "ipython",
    "version": 3
   },
   "file_extension": ".py",
   "mimetype": "text/x-python",
   "name": "python",
   "nbconvert_exporter": "python",
   "pygments_lexer": "ipython3",
   "version": "3.10.9"
  }
 },
 "nbformat": 4,
 "nbformat_minor": 5
}
