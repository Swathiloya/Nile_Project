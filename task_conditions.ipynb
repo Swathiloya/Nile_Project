{
 "cells": [
  {
   "cell_type": "code",
   "execution_count": 2,
   "id": "5e712c7d",
   "metadata": {},
   "outputs": [
    {
     "ename": "SyntaxError",
     "evalue": "invalid syntax (627168388.py, line 7)",
     "output_type": "error",
     "traceback": [
      "\u001b[1;36m  Cell \u001b[1;32mIn[2], line 7\u001b[1;36m\u001b[0m\n\u001b[1;33m    elif customer_name\"swatti\" and order_food==\"pongal\":\u001b[0m\n\u001b[1;37m                      ^\u001b[0m\n\u001b[1;31mSyntaxError\u001b[0m\u001b[1;31m:\u001b[0m invalid syntax\n"
     ]
    }
   ],
   "source": [
    "customer_name=\"swathi\"\n",
    "order_food=\"lemon rice\"\n",
    "if customer_name==\"swatti\" and order_food==\"lemon rice\":\n",
    "    print(\"the price of lemon rice 56\" )\n",
    "elif customer_name==\"swatti\" and order_food==\"curd rice\":\n",
    "    print(\"the price of curd rice 57\" )\n",
    "elif customer_name\"swatti\" and order_food==\"pongal\":\n",
    "    print(\"the price of ponga 57\")\n",
    "elif customer_name==\"swatti\" and order_food==\"chicken\":\n",
    "    print(\"the price of chicken 58\")    \n",
    "    \n",
    "elif customer_name==\"swatti\" and order_food==\"mutton\":\n",
    "    print(\"the price of mutton 59\" )      \n",
    "elif customer_name==\"swatti\" and order_food==\"chicken biryani\":\n",
    "    print(\"the price of chicken biryani 60\" )      \n",
    "elif customer_name==\"swatti\" and order_food==\"pallav\":\n",
    "    print(\"the price of pallav 60\" )      \n",
    "elif customer_name==\"swatti\" and order_food==\"fish curry\":\n",
    "    print(\"the price of fish curry 61\" )      \n",
    "elif customer_name==\"swatti\" and order_food==\"ladies finger\":\n",
    "    print(\"the price of ladies finger  62\" )      \n",
    "elif customer_name==\"swatti\" and order_food==\"chakara pongal\":\n",
    "    print(\"the price of chakara pongal 62  \" )      \n",
    "elif customer_name==\"swatti\" and order_food==\"papu tomato\":\n",
    "    print(\"the price of papu tomato 63\" )      \n",
    "elif customer_name==\"swatti\" and order_food==\"fried rice\":\n",
    "    print(\"the price of fried rice 64\" )      \n",
    "elif customer_name==\"swatti\" and order_food==\"chicken fry\":\n",
    "    print(\"the price of chicken fry 64\" )      \n",
    "elif customer_name==\"swatti\" and order_food==\"egg biryani\":\n",
    "    print(\"the price ofegg biryani 65\" )      \n",
    "        "
   ]
  },
  {
   "cell_type": "code",
   "execution_count": null,
   "id": "b7ba4150",
   "metadata": {},
   "outputs": [],
   "source": []
  },
  {
   "cell_type": "code",
   "execution_count": null,
   "id": "abbbe716",
   "metadata": {},
   "outputs": [],
   "source": []
  }
 ],
 "metadata": {
  "kernelspec": {
   "display_name": "Python 3 (ipykernel)",
   "language": "python",
   "name": "python3"
  },
  "language_info": {
   "codemirror_mode": {
    "name": "ipython",
    "version": 3
   },
   "file_extension": ".py",
   "mimetype": "text/x-python",
   "name": "python",
   "nbconvert_exporter": "python",
   "pygments_lexer": "ipython3",
   "version": "3.10.9"
  }
 },
 "nbformat": 4,
 "nbformat_minor": 5
}
