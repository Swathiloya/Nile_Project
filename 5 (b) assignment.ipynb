{
 "cells": [
  {
   "cell_type": "code",
   "execution_count": null,
   "id": "c651fd85",
   "metadata": {},
   "outputs": [],
   "source": [
    "Write a program,  my age is more than 20 print teen_age other wise print younge_age?\n",
    "\ta.my_age is 20, who am i? Expected output: you are teen_age\n",
    "\tb.my_age is 30, who am i? Expected output: you are younge_age\n",
    "\tc.my_age is 10, who am i? \n",
    "\td.my_age is 40, who am i?"
   ]
  },
  {
   "cell_type": "code",
   "execution_count": 1,
   "id": "dbfcc6d3",
   "metadata": {},
   "outputs": [
    {
     "name": "stdout",
     "output_type": "stream",
     "text": [
      "you are teen_age\n"
     ]
    }
   ],
   "source": [
    "my_age=20\n",
    "if my_age==20:\n",
    "    print(\"you are teen_age\")\n",
    "else:\n",
    "     print(\"you are young_age\")"
   ]
  },
  {
   "cell_type": "code",
   "execution_count": 2,
   "id": "3e658720",
   "metadata": {},
   "outputs": [
    {
     "name": "stdout",
     "output_type": "stream",
     "text": [
      "you are teen_age\n"
     ]
    }
   ],
   "source": [
    "my_age=20\n",
    "if my_age==20:\n",
    "    print(\"you are teen_age\")\n",
    "else:\n",
    "     print(\"you are young_age\")"
   ]
  },
  {
   "cell_type": "code",
   "execution_count": 5,
   "id": "39c3ab8a",
   "metadata": {},
   "outputs": [
    {
     "name": "stdout",
     "output_type": "stream",
     "text": [
      "you are teen_age\n"
     ]
    }
   ],
   "source": [
    "my_age=30\n",
    "if my_age==30:\n",
    "    print(\"you are teen_age\")\n",
    "else:\n",
    "     print(\"you are young_age\")"
   ]
  },
  {
   "cell_type": "code",
   "execution_count": 7,
   "id": "7712cda1",
   "metadata": {},
   "outputs": [
    {
     "name": "stdout",
     "output_type": "stream",
     "text": [
      "you are young_age\n"
     ]
    }
   ],
   "source": [
    "my_age=10\n",
    "if my_age==20:\n",
    "    print(\"you are teen_age\")\n",
    "else:\n",
    "     print(\"you are young_age\")"
   ]
  },
  {
   "cell_type": "code",
   "execution_count": 8,
   "id": "d7328a6d",
   "metadata": {},
   "outputs": [
    {
     "name": "stdout",
     "output_type": "stream",
     "text": [
      "you are young_age\n"
     ]
    }
   ],
   "source": [
    "my_age=40\n",
    "if my_age==20:\n",
    "    print(\"you are teen_age\")\n",
    "else:\n",
    "     print(\"you are young_age\")"
   ]
  },
  {
   "cell_type": "code",
   "execution_count": null,
   "id": "75d0ff3e",
   "metadata": {},
   "outputs": [],
   "source": [
    "#Write a program today is Monday/Tuesday/Wendsday/Thursday/Friday print weekday otherwise print weekend?\n"
   ]
  },
  {
   "cell_type": "code",
   "execution_count": 13,
   "id": "f0632f8d",
   "metadata": {},
   "outputs": [
    {
     "name": "stdout",
     "output_type": "stream",
     "text": [
      "this is a weekday\n"
     ]
    }
   ],
   "source": [
    "to_day=\"thursday\"\n",
    "if to_day==\"monday\":\n",
    "    print(\"this is a weekday\")\n",
    "elif to_day==\"tuesday\":\n",
    "    print(\"this is a weekday\") \n",
    "elif to_day==\"wendsday\":\n",
    "    print(\"this is a weekday\")    \n",
    "elif to_day==\"thursday\":\n",
    "    print(\"this is a weekday\")    \n",
    "elif to_day==\"friday\":\n",
    "    print(\"this is a weekday\")\n",
    "elif to_day==\"saturday\":\n",
    "    print(\"this is a weekend\")\n",
    "elif to_day==\"sunday\":\n",
    "    print(\"this is a weekend\") \n",
    "else:\n",
    "    print(\"not a available\")\n",
    "    "
   ]
  },
  {
   "cell_type": "code",
   "execution_count": null,
   "id": "b0584098",
   "metadata": {},
   "outputs": [],
   "source": []
  },
  {
   "cell_type": "code",
   "execution_count": null,
   "id": "c81ad601",
   "metadata": {},
   "outputs": [],
   "source": []
  },
  {
   "cell_type": "code",
   "execution_count": null,
   "id": "eab55ea9",
   "metadata": {},
   "outputs": [],
   "source": []
  },
  {
   "cell_type": "code",
   "execution_count": null,
   "id": "7f73f2f6",
   "metadata": {},
   "outputs": [],
   "source": []
  },
  {
   "cell_type": "code",
   "execution_count": null,
   "id": "a185feed",
   "metadata": {},
   "outputs": [],
   "source": []
  },
  {
   "cell_type": "code",
   "execution_count": null,
   "id": "48e0479d",
   "metadata": {},
   "outputs": [],
   "source": []
  }
 ],
 "metadata": {
  "kernelspec": {
   "display_name": "Python 3 (ipykernel)",
   "language": "python",
   "name": "python3"
  },
  "language_info": {
   "codemirror_mode": {
    "name": "ipython",
    "version": 3
   },
   "file_extension": ".py",
   "mimetype": "text/x-python",
   "name": "python",
   "nbconvert_exporter": "python",
   "pygments_lexer": "ipython3",
   "version": "3.10.9"
  }
 },
 "nbformat": 4,
 "nbformat_minor": 5
}
