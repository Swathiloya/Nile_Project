{
 "cells": [
  {
   "cell_type": "code",
   "execution_count": 1,
   "id": "8d45d7d7",
   "metadata": {},
   "outputs": [],
   "source": [
    "def creditcard_offer(credit_limit,salary):\n",
    "    if salary<10000:\n",
    "        credit_limit=salary*10\n",
    "    elif salary>=10000 and salary<=30000:\n",
    "        credit_limit=salary*20\n",
    "    elif salary>30000:    \n",
    "        credit_limit=salary*30\n",
    "    return credit_limit    \n"
   ]
  },
  {
   "cell_type": "code",
   "execution_count": 2,
   "id": "77c3c468",
   "metadata": {
    "scrolled": true
   },
   "outputs": [
    {
     "data": {
      "text/plain": [
       "90000"
      ]
     },
     "execution_count": 2,
     "metadata": {},
     "output_type": "execute_result"
    }
   ],
   "source": [
    "creditcard_offer(10,9000)\n"
   ]
  },
  {
   "cell_type": "code",
   "execution_count": 3,
   "id": "828314a6",
   "metadata": {},
   "outputs": [
    {
     "data": {
      "text/plain": [
       "400000"
      ]
     },
     "execution_count": 3,
     "metadata": {},
     "output_type": "execute_result"
    }
   ],
   "source": [
    "creditcard_offer(20,20000)"
   ]
  },
  {
   "cell_type": "code",
   "execution_count": 4,
   "id": "e3d6ca3a",
   "metadata": {},
   "outputs": [
    {
     "data": {
      "text/plain": [
       "1200000"
      ]
     },
     "execution_count": 4,
     "metadata": {},
     "output_type": "execute_result"
    }
   ],
   "source": [
    "creditcard_offer(30,40000)"
   ]
  },
  {
   "cell_type": "code",
   "execution_count": null,
   "id": "f2d5305f",
   "metadata": {},
   "outputs": [],
   "source": [
    "#DMart discount offer. \n",
    "# if your purchase amount is less than 20000. discount is 20%.\n",
    "#if your purchase amount is 20000 to 40000. discount is 30%. \n",
    "#if your purchase amount is more than 50000. discount is 40%.\n",
    " "
   ]
  },
  {
   "cell_type": "code",
   "execution_count": 7,
   "id": "86077c2a",
   "metadata": {},
   "outputs": [],
   "source": [
    "def  DMartamount_offer(discount,purchase):\n",
    "    if purchase<20000:\n",
    "        discount=purchase*.20\n",
    "    elif purchase>=20000 and purchase<40000:\n",
    "        discount=purchase*.30\n",
    "    elif purchase>=50000:\n",
    "        discount=purchase*.40\n",
    "    return discount    "
   ]
  },
  {
   "cell_type": "code",
   "execution_count": 8,
   "id": "778af93a",
   "metadata": {},
   "outputs": [
    {
     "data": {
      "text/plain": [
       "2000.0"
      ]
     },
     "execution_count": 8,
     "metadata": {},
     "output_type": "execute_result"
    }
   ],
   "source": [
    "DMartamount_offer(20,10000)"
   ]
  },
  {
   "cell_type": "code",
   "execution_count": 9,
   "id": "21364cf5",
   "metadata": {},
   "outputs": [
    {
     "data": {
      "text/plain": [
       "9000.0"
      ]
     },
     "execution_count": 9,
     "metadata": {},
     "output_type": "execute_result"
    }
   ],
   "source": [
    "DMartamount_offer(30,30000)"
   ]
  },
  {
   "cell_type": "code",
   "execution_count": 10,
   "id": "7a450f79",
   "metadata": {},
   "outputs": [
    {
     "data": {
      "text/plain": [
       "24000.0"
      ]
     },
     "execution_count": 10,
     "metadata": {},
     "output_type": "execute_result"
    }
   ],
   "source": [
    "DMartamount_offer(40,60000)"
   ]
  },
  {
   "cell_type": "code",
   "execution_count": null,
   "id": "65190717",
   "metadata": {},
   "outputs": [],
   "source": [
    "#Amazom online offer. \n",
    "#if product is electoric type then 20% discount. \n",
    "#if product is cloth type then 30% discount. \n",
    "#if product is footware then 40% discount."
   ]
  },
  {
   "cell_type": "code",
   "execution_count": 9,
   "id": "0e7266fe",
   "metadata": {},
   "outputs": [],
   "source": [
    "def online_offer(product,cost):\n",
    "    if product==\"electoric\":\n",
    "        discount=cost*.20\n",
    "    elif product==\"cloth\":\n",
    "        discount=cost*.30\n",
    "    elif product==\"footware\":\n",
    "        discount=cost*.40\n",
    "    return discount\n",
    "    \n",
    "    "
   ]
  },
  {
   "cell_type": "code",
   "execution_count": 10,
   "id": "052de2fd",
   "metadata": {},
   "outputs": [
    {
     "data": {
      "text/plain": [
       "400.0"
      ]
     },
     "execution_count": 10,
     "metadata": {},
     "output_type": "execute_result"
    }
   ],
   "source": [
    "online_offer(\"electoric\",2000)"
   ]
  },
  {
   "cell_type": "code",
   "execution_count": 11,
   "id": "d4d7659a",
   "metadata": {},
   "outputs": [
    {
     "data": {
      "text/plain": [
       "600.0"
      ]
     },
     "execution_count": 11,
     "metadata": {},
     "output_type": "execute_result"
    }
   ],
   "source": [
    "online_offer(\"cloth\",2000)"
   ]
  },
  {
   "cell_type": "code",
   "execution_count": 12,
   "id": "b9a8e9d4",
   "metadata": {},
   "outputs": [
    {
     "data": {
      "text/plain": [
       "200.0"
      ]
     },
     "execution_count": 12,
     "metadata": {},
     "output_type": "execute_result"
    }
   ],
   "source": [
    "online_offer(\"footware\",500)"
   ]
  },
  {
   "cell_type": "code",
   "execution_count": null,
   "id": "2a70a5c4",
   "metadata": {},
   "outputs": [],
   "source": []
  }
 ],
 "metadata": {
  "kernelspec": {
   "display_name": "Python 3 (ipykernel)",
   "language": "python",
   "name": "python3"
  },
  "language_info": {
   "codemirror_mode": {
    "name": "ipython",
    "version": 3
   },
   "file_extension": ".py",
   "mimetype": "text/x-python",
   "name": "python",
   "nbconvert_exporter": "python",
   "pygments_lexer": "ipython3",
   "version": "3.10.9"
  }
 },
 "nbformat": 4,
 "nbformat_minor": 5
}
