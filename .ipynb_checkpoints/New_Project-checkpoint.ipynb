{
 "cells": [
  {
   "cell_type": "code",
   "execution_count": 22,
   "id": "4a1abd69",
   "metadata": {},
   "outputs": [
    {
     "ename": "SyntaxError",
     "evalue": "invalid syntax (710906530.py, line 19)",
     "output_type": "error",
     "traceback": [
      "\u001b[1;36m  Cell \u001b[1;32mIn[22], line 19\u001b[1;36m\u001b[0m\n\u001b[1;33m    for in name:\u001b[0m\n\u001b[1;37m        ^\u001b[0m\n\u001b[1;31mSyntaxError\u001b[0m\u001b[1;31m:\u001b[0m invalid syntax\n"
     ]
    }
   ],
   "source": [
    "import requests\n",
    "from bs4 import BeautifulSoup\n",
    "# url=\"https://www.geeksforgeeks.org/python-oops-concepts/\"\n",
    "# url=\"https://www.carwale.com/used/\"\n",
    "#url=\"https://www.marutisuzukitruevalue.com/used-cars-in-vijayawada\"\n",
    "#url=\"https://www.quikr.com/cars/used+cars+all-india+z1399\"\n",
    "url=\"https://www.spinny.com/\"\n",
    "#url=\"https://droom.in/\"\n",
    "#url=\"https://vroomwheel.com/\"\n",
    "r=requests.get(url)\n",
    "soup=BeautifulSoup(r.text)\n",
    "print(soup)\n",
    "\n",
    "\n",
    "names=soup.find_all(\"h3\",class_=\"_11dvb\")\n",
    "print(names)\n",
    "\n",
    "\n",
    "for in name:\n",
    "    print(soup.find_all)"
   ]
  },
  {
   "cell_type": "code",
   "execution_count": 23,
   "id": "94012596",
   "metadata": {},
   "outputs": [],
   "source": [
    "import requests\n",
    "from bs4 import BeautifulSoup\n",
    "# url=\"https://www.geeksforgeeks.org/python-oops-concepts/\"\n",
    "# url=\"https://www.carwale.com/used/\"\n",
    "url=\"https://www.marutisuzukitruevalue.com/used-cars-in-vijayawada\"\n",
    "r=requests.get(url)\n",
    "soup=BeautifulSoup(r.text,'lxml')\n",
    "# print(soup)"
   ]
  },
  {
   "cell_type": "code",
   "execution_count": null,
   "id": "7e499be1",
   "metadata": {},
   "outputs": [],
   "source": []
  },
  {
   "cell_type": "code",
   "execution_count": null,
   "id": "5fb8a664",
   "metadata": {},
   "outputs": [],
   "source": []
  },
  {
   "cell_type": "code",
   "execution_count": null,
   "id": "3295b397",
   "metadata": {},
   "outputs": [],
   "source": []
  },
  {
   "cell_type": "code",
   "execution_count": null,
   "id": "03171636",
   "metadata": {},
   "outputs": [],
   "source": []
  },
  {
   "cell_type": "code",
   "execution_count": null,
   "id": "6ec2bb92",
   "metadata": {},
   "outputs": [],
   "source": []
  }
 ],
 "metadata": {
  "kernelspec": {
   "display_name": "Python 3 (ipykernel)",
   "language": "python",
   "name": "python3"
  },
  "language_info": {
   "codemirror_mode": {
    "name": "ipython",
    "version": 3
   },
   "file_extension": ".py",
   "mimetype": "text/x-python",
   "name": "python",
   "nbconvert_exporter": "python",
   "pygments_lexer": "ipython3",
   "version": "3.10.9"
  }
 },
 "nbformat": 4,
 "nbformat_minor": 5
}
