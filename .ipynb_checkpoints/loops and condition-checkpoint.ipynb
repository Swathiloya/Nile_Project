{
 "cells": [
  {
   "cell_type": "code",
   "execution_count": 1,
   "id": "87523a12",
   "metadata": {},
   "outputs": [],
   "source": [
    "fruits=[\"apple\",\"banana\",\"mango\",\"orange\"]                                                                                                                                                                                                                        fruits=[\"apple\",\"banana\",\"mango\",\"orange\"]"
   ]
  },
  {
   "cell_type": "code",
   "execution_count": 2,
   "id": "767e4dcc",
   "metadata": {},
   "outputs": [
    {
     "name": "stdout",
     "output_type": "stream",
     "text": [
      "apple\n",
      "banana\n",
      "mango\n",
      "orange\n"
     ]
    }
   ],
   "source": [
    "for swathi in fruits:\n",
    "    print(swathi)"
   ]
  },
  {
   "cell_type": "code",
   "execution_count": 3,
   "id": "d3aad412",
   "metadata": {},
   "outputs": [],
   "source": [
    "fruits=[\"apple\",\"banana\",\"mango\",\"orange\"]\n",
    "customer=[\"swathi\",\"prasanna\",\"shaheena\",\"bujji\"]"
   ]
  },
  {
   "cell_type": "code",
   "execution_count": 7,
   "id": "f8981bfc",
   "metadata": {},
   "outputs": [
    {
     "name": "stdout",
     "output_type": "stream",
     "text": [
      "deliver to swathi\n",
      "deliver to prasanna\n",
      "deliver to shaheena\n",
      "deliver to bujji\n"
     ]
    }
   ],
   "source": [
    "for z in fruits:\n",
    "    if z==\"apple\":\n",
    "        print(\"deliver to swathi\")\n",
    "    elif z==\"banana\":\n",
    "        print(\"deliver to prasanna\")\n",
    "    elif z==\"mango\":\n",
    "        print(\"deliver to shaheena\")     \n",
    "    elif z==\"orange\":\n",
    "        print(\"deliver to bujji\")     \n",
    "    else:\n",
    "        print(\"no delivery\")\n",
    "         "
   ]
  },
  {
   "cell_type": "code",
   "execution_count": null,
   "id": "d0c80dfe",
   "metadata": {},
   "outputs": [],
   "source": [
    "fruits=[\"apple\",\"banana\",\"mango\",\"orange\"]"
   ]
  },
  {
   "cell_type": "code",
   "execution_count": null,
   "id": "df5712ad",
   "metadata": {},
   "outputs": [],
   "source": []
  },
  {
   "cell_type": "code",
   "execution_count": null,
   "id": "db4804de",
   "metadata": {},
   "outputs": [],
   "source": []
  },
  {
   "cell_type": "code",
   "execution_count": null,
   "id": "68d1b2b5",
   "metadata": {},
   "outputs": [],
   "source": []
  },
  {
   "cell_type": "code",
   "execution_count": null,
   "id": "dcc96e7d",
   "metadata": {},
   "outputs": [],
   "source": []
  },
  {
   "cell_type": "code",
   "execution_count": null,
   "id": "352bedaf",
   "metadata": {},
   "outputs": [],
   "source": []
  },
  {
   "cell_type": "code",
   "execution_count": null,
   "id": "4e127fbe",
   "metadata": {},
   "outputs": [],
   "source": []
  },
  {
   "cell_type": "code",
   "execution_count": null,
   "id": "05273be0",
   "metadata": {},
   "outputs": [],
   "source": []
  }
 ],
 "metadata": {
  "kernelspec": {
   "display_name": "Python 3 (ipykernel)",
   "language": "python",
   "name": "python3"
  },
  "language_info": {
   "codemirror_mode": {
    "name": "ipython",
    "version": 3
   },
   "file_extension": ".py",
   "mimetype": "text/x-python",
   "name": "python",
   "nbconvert_exporter": "python",
   "pygments_lexer": "ipython3",
   "version": "3.10.9"
  }
 },
 "nbformat": 4,
 "nbformat_minor": 5
}
