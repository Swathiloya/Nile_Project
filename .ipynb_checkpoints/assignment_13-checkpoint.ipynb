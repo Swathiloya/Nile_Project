{
 "cells": [
  {
   "cell_type": "code",
   "execution_count": 1,
   "id": "6b3908bf",
   "metadata": {},
   "outputs": [],
   "source": [
    "#Q1>Create and import file\n",
    "#1. Create schoolmets and collegements friends_names.xls file and import file in spyder (atleast 10 names, columns are FriendName,Quality) ,\n",
    "#2. Summarize data by quality wise no.of friends .\n",
    "#Example: quality | no.of freind\n",
    "#funny | 2"
   ]
  },
  {
   "cell_type": "code",
   "execution_count": 2,
   "id": "fc081ab2",
   "metadata": {},
   "outputs": [
    {
     "data": {
      "text/html": [
       "<div>\n",
       "<style scoped>\n",
       "    .dataframe tbody tr th:only-of-type {\n",
       "        vertical-align: middle;\n",
       "    }\n",
       "\n",
       "    .dataframe tbody tr th {\n",
       "        vertical-align: top;\n",
       "    }\n",
       "\n",
       "    .dataframe thead th {\n",
       "        text-align: right;\n",
       "    }\n",
       "</style>\n",
       "<table border=\"1\" class=\"dataframe\">\n",
       "  <thead>\n",
       "    <tr style=\"text-align: right;\">\n",
       "      <th></th>\n",
       "      <th>s.no</th>\n",
       "      <th>friend_name</th>\n",
       "      <th>quality</th>\n",
       "    </tr>\n",
       "  </thead>\n",
       "  <tbody>\n",
       "    <tr>\n",
       "      <th>0</th>\n",
       "      <td>1</td>\n",
       "      <td>anitha</td>\n",
       "      <td>good</td>\n",
       "    </tr>\n",
       "    <tr>\n",
       "      <th>1</th>\n",
       "      <td>2</td>\n",
       "      <td>vanaja</td>\n",
       "      <td>cool</td>\n",
       "    </tr>\n",
       "    <tr>\n",
       "      <th>2</th>\n",
       "      <td>3</td>\n",
       "      <td>vanitha</td>\n",
       "      <td>silent</td>\n",
       "    </tr>\n",
       "    <tr>\n",
       "      <th>3</th>\n",
       "      <td>4</td>\n",
       "      <td>mamatha</td>\n",
       "      <td>innocent</td>\n",
       "    </tr>\n",
       "    <tr>\n",
       "      <th>4</th>\n",
       "      <td>5</td>\n",
       "      <td>gita</td>\n",
       "      <td>inteligent</td>\n",
       "    </tr>\n",
       "    <tr>\n",
       "      <th>5</th>\n",
       "      <td>6</td>\n",
       "      <td>sita</td>\n",
       "      <td>helpful</td>\n",
       "    </tr>\n",
       "    <tr>\n",
       "      <th>6</th>\n",
       "      <td>7</td>\n",
       "      <td>durga</td>\n",
       "      <td>hordworking</td>\n",
       "    </tr>\n",
       "    <tr>\n",
       "      <th>7</th>\n",
       "      <td>8</td>\n",
       "      <td>prasanna</td>\n",
       "      <td>funny</td>\n",
       "    </tr>\n",
       "    <tr>\n",
       "      <th>8</th>\n",
       "      <td>9</td>\n",
       "      <td>bujji</td>\n",
       "      <td>good</td>\n",
       "    </tr>\n",
       "    <tr>\n",
       "      <th>9</th>\n",
       "      <td>10</td>\n",
       "      <td>jayasri</td>\n",
       "      <td>hordworking</td>\n",
       "    </tr>\n",
       "  </tbody>\n",
       "</table>\n",
       "</div>"
      ],
      "text/plain": [
       "   s.no friend_name      quality\n",
       "0     1      anitha         good\n",
       "1     2      vanaja         cool\n",
       "2     3     vanitha       silent\n",
       "3     4     mamatha     innocent\n",
       "4     5        gita   inteligent\n",
       "5     6        sita      helpful\n",
       "6     7       durga  hordworking\n",
       "7     8    prasanna        funny\n",
       "8     9       bujji         good\n",
       "9    10     jayasri  hordworking"
      ]
     },
     "execution_count": 2,
     "metadata": {},
     "output_type": "execute_result"
    }
   ],
   "source": [
    "import pandas as pd\n",
    "df_fri=pd.read_excel(r\"C:\\Users\\hp\\OneDrive\\Documents\\assignment_13\\school_mets_collage_mets.xlsx\")\n",
    "df_fri"
   ]
  },
  {
   "cell_type": "code",
   "execution_count": 3,
   "id": "73eb0b1a",
   "metadata": {},
   "outputs": [
    {
     "data": {
      "text/plain": [
       "quality\n",
       "cool           1\n",
       "funny          1\n",
       "good           2\n",
       "helpful        1\n",
       "hordworking    2\n",
       "innocent       1\n",
       "inteligent     1\n",
       "silent         1\n",
       "Name: s.no, dtype: int64"
      ]
     },
     "execution_count": 3,
     "metadata": {},
     "output_type": "execute_result"
    }
   ],
   "source": [
    "df=df_fri.groupby('quality')['s.no'].count()\n",
    "df"
   ]
  },
  {
   "cell_type": "code",
   "execution_count": 4,
   "id": "85818fc4",
   "metadata": {},
   "outputs": [
    {
     "data": {
      "text/plain": [
       "quality\n",
       "cool            2\n",
       "funny           8\n",
       "good           10\n",
       "helpful         6\n",
       "hordworking    17\n",
       "innocent        4\n",
       "inteligent      5\n",
       "silent          3\n",
       "Name: s.no, dtype: int64"
      ]
     },
     "execution_count": 4,
     "metadata": {},
     "output_type": "execute_result"
    }
   ],
   "source": [
    "df=df_fri.groupby('quality')['s.no'].sum()\n",
    "df"
   ]
  },
  {
   "cell_type": "code",
   "execution_count": 5,
   "id": "b18eed6d",
   "metadata": {},
   "outputs": [
    {
     "data": {
      "text/plain": [
       "friend_name\n",
       "anitha       1\n",
       "bujji        9\n",
       "durga        7\n",
       "gita         5\n",
       "jayasri     10\n",
       "mamatha      4\n",
       "prasanna     8\n",
       "sita         6\n",
       "vanaja       2\n",
       "vanitha      3\n",
       "Name: s.no, dtype: int64"
      ]
     },
     "execution_count": 5,
     "metadata": {},
     "output_type": "execute_result"
    }
   ],
   "source": [
    "df=df_fri.groupby('friend_name')['s.no'].sum()\n",
    "df"
   ]
  },
  {
   "cell_type": "code",
   "execution_count": 6,
   "id": "1908ead4",
   "metadata": {},
   "outputs": [
    {
     "data": {
      "text/plain": [
       "friend_name\n",
       "anitha      1\n",
       "bujji       1\n",
       "durga       1\n",
       "gita        1\n",
       "jayasri     1\n",
       "mamatha     1\n",
       "prasanna    1\n",
       "sita        1\n",
       "vanaja      1\n",
       "vanitha     1\n",
       "Name: s.no, dtype: int64"
      ]
     },
     "execution_count": 6,
     "metadata": {},
     "output_type": "execute_result"
    }
   ],
   "source": [
    "df=df_fri.groupby('friend_name')['s.no'].count()\n",
    "df"
   ]
  },
  {
   "cell_type": "code",
   "execution_count": 7,
   "id": "e5446aaf",
   "metadata": {},
   "outputs": [],
   "source": [
    "#Q2>Create and import file\n",
    "#1. Create boys Boysfriend_names.xls file and import file in spyder (atleast 10 names, columns are FriendName,Quality)  \n",
    "#2. Summarize data by quality wise no.of friends .\n",
    "#3. Create girls Girlsfriend_names.xls file  and import file in spyder (atleast 10 names, columns are FriendName,Quality) \n",
    "#4. Summarize data by quality wise no.of friends ."
   ]
  },
  {
   "cell_type": "code",
   "execution_count": 8,
   "id": "107a5b55",
   "metadata": {},
   "outputs": [],
   "source": [
    "#1. Create boys Boysfriend_names.xls file and import file in spyder (atleast 10 names, columns are FriendName,Quality)  "
   ]
  },
  {
   "cell_type": "code",
   "execution_count": 9,
   "id": "3ad5c6f2",
   "metadata": {},
   "outputs": [
    {
     "data": {
      "text/html": [
       "<div>\n",
       "<style scoped>\n",
       "    .dataframe tbody tr th:only-of-type {\n",
       "        vertical-align: middle;\n",
       "    }\n",
       "\n",
       "    .dataframe tbody tr th {\n",
       "        vertical-align: top;\n",
       "    }\n",
       "\n",
       "    .dataframe thead th {\n",
       "        text-align: right;\n",
       "    }\n",
       "</style>\n",
       "<table border=\"1\" class=\"dataframe\">\n",
       "  <thead>\n",
       "    <tr style=\"text-align: right;\">\n",
       "      <th></th>\n",
       "      <th>s.no</th>\n",
       "      <th>names</th>\n",
       "      <th>quality</th>\n",
       "    </tr>\n",
       "  </thead>\n",
       "  <tbody>\n",
       "    <tr>\n",
       "      <th>0</th>\n",
       "      <td>1</td>\n",
       "      <td>santhosh</td>\n",
       "      <td>hordworking</td>\n",
       "    </tr>\n",
       "    <tr>\n",
       "      <th>1</th>\n",
       "      <td>2</td>\n",
       "      <td>rajesh</td>\n",
       "      <td>good</td>\n",
       "    </tr>\n",
       "    <tr>\n",
       "      <th>2</th>\n",
       "      <td>3</td>\n",
       "      <td>krishna</td>\n",
       "      <td>funny</td>\n",
       "    </tr>\n",
       "    <tr>\n",
       "      <th>3</th>\n",
       "      <td>4</td>\n",
       "      <td>gopala</td>\n",
       "      <td>cool</td>\n",
       "    </tr>\n",
       "    <tr>\n",
       "      <th>4</th>\n",
       "      <td>5</td>\n",
       "      <td>ramu</td>\n",
       "      <td>silent</td>\n",
       "    </tr>\n",
       "    <tr>\n",
       "      <th>5</th>\n",
       "      <td>6</td>\n",
       "      <td>hari</td>\n",
       "      <td>inteligent</td>\n",
       "    </tr>\n",
       "    <tr>\n",
       "      <th>6</th>\n",
       "      <td>7</td>\n",
       "      <td>giri</td>\n",
       "      <td>funny</td>\n",
       "    </tr>\n",
       "    <tr>\n",
       "      <th>7</th>\n",
       "      <td>8</td>\n",
       "      <td>harish</td>\n",
       "      <td>silent</td>\n",
       "    </tr>\n",
       "    <tr>\n",
       "      <th>8</th>\n",
       "      <td>9</td>\n",
       "      <td>pream</td>\n",
       "      <td>hordworking</td>\n",
       "    </tr>\n",
       "    <tr>\n",
       "      <th>9</th>\n",
       "      <td>10</td>\n",
       "      <td>ram</td>\n",
       "      <td>cool</td>\n",
       "    </tr>\n",
       "  </tbody>\n",
       "</table>\n",
       "</div>"
      ],
      "text/plain": [
       "   s.no     names      quality\n",
       "0     1  santhosh  hordworking\n",
       "1     2    rajesh         good\n",
       "2     3   krishna        funny\n",
       "3     4    gopala         cool\n",
       "4     5      ramu       silent\n",
       "5     6      hari   inteligent\n",
       "6     7      giri        funny\n",
       "7     8    harish       silent\n",
       "8     9     pream  hordworking\n",
       "9    10       ram         cool"
      ]
     },
     "execution_count": 9,
     "metadata": {},
     "output_type": "execute_result"
    }
   ],
   "source": [
    "import pandas as pd\n",
    "df_boys=pd.read_excel(r\"C:\\Users\\hp\\OneDrive\\Documents\\assignment_13\\boys_friends.xlsx\")\n",
    "df_boys"
   ]
  },
  {
   "cell_type": "code",
   "execution_count": 10,
   "id": "eca56b53",
   "metadata": {},
   "outputs": [],
   "source": [
    "#2. Summarize data by quality wise no.of friends ."
   ]
  },
  {
   "cell_type": "code",
   "execution_count": 11,
   "id": "fc9780e3",
   "metadata": {},
   "outputs": [
    {
     "data": {
      "text/plain": [
       "quality\n",
       "cool           2\n",
       "funny          2\n",
       "good           1\n",
       "hordworking    2\n",
       "inteligent     1\n",
       "silent         2\n",
       "Name: s.no, dtype: int64"
      ]
     },
     "execution_count": 11,
     "metadata": {},
     "output_type": "execute_result"
    }
   ],
   "source": [
    "df=df_boys.groupby('quality')['s.no'].count()\n",
    "df"
   ]
  },
  {
   "cell_type": "code",
   "execution_count": 12,
   "id": "1a336bfe",
   "metadata": {},
   "outputs": [
    {
     "data": {
      "text/plain": [
       "quality\n",
       "cool           14\n",
       "funny          10\n",
       "good            2\n",
       "hordworking    10\n",
       "inteligent      6\n",
       "silent         13\n",
       "Name: s.no, dtype: int64"
      ]
     },
     "execution_count": 12,
     "metadata": {},
     "output_type": "execute_result"
    }
   ],
   "source": [
    "df=df_boys.groupby('quality')['s.no'].sum()\n",
    "df"
   ]
  },
  {
   "cell_type": "code",
   "execution_count": 13,
   "id": "4900ef20",
   "metadata": {},
   "outputs": [],
   "source": [
    "#3. Create girls Girlsfriend_names.xls file  and import file in spyder (atleast 10 names, columns are FriendName,Quality) "
   ]
  },
  {
   "cell_type": "code",
   "execution_count": 14,
   "id": "7dbcc5d8",
   "metadata": {},
   "outputs": [
    {
     "data": {
      "text/html": [
       "<div>\n",
       "<style scoped>\n",
       "    .dataframe tbody tr th:only-of-type {\n",
       "        vertical-align: middle;\n",
       "    }\n",
       "\n",
       "    .dataframe tbody tr th {\n",
       "        vertical-align: top;\n",
       "    }\n",
       "\n",
       "    .dataframe thead th {\n",
       "        text-align: right;\n",
       "    }\n",
       "</style>\n",
       "<table border=\"1\" class=\"dataframe\">\n",
       "  <thead>\n",
       "    <tr style=\"text-align: right;\">\n",
       "      <th></th>\n",
       "      <th>s.no</th>\n",
       "      <th>name</th>\n",
       "      <th>quality</th>\n",
       "    </tr>\n",
       "  </thead>\n",
       "  <tbody>\n",
       "    <tr>\n",
       "      <th>0</th>\n",
       "      <td>1</td>\n",
       "      <td>anitha</td>\n",
       "      <td>good</td>\n",
       "    </tr>\n",
       "    <tr>\n",
       "      <th>1</th>\n",
       "      <td>2</td>\n",
       "      <td>vanaja</td>\n",
       "      <td>cool</td>\n",
       "    </tr>\n",
       "    <tr>\n",
       "      <th>2</th>\n",
       "      <td>3</td>\n",
       "      <td>vanitha</td>\n",
       "      <td>silent</td>\n",
       "    </tr>\n",
       "    <tr>\n",
       "      <th>3</th>\n",
       "      <td>4</td>\n",
       "      <td>mamatha</td>\n",
       "      <td>innocent</td>\n",
       "    </tr>\n",
       "    <tr>\n",
       "      <th>4</th>\n",
       "      <td>5</td>\n",
       "      <td>gita</td>\n",
       "      <td>inteligent</td>\n",
       "    </tr>\n",
       "    <tr>\n",
       "      <th>5</th>\n",
       "      <td>6</td>\n",
       "      <td>sita</td>\n",
       "      <td>helpful</td>\n",
       "    </tr>\n",
       "    <tr>\n",
       "      <th>6</th>\n",
       "      <td>7</td>\n",
       "      <td>durga</td>\n",
       "      <td>hordworking</td>\n",
       "    </tr>\n",
       "    <tr>\n",
       "      <th>7</th>\n",
       "      <td>8</td>\n",
       "      <td>prasanna</td>\n",
       "      <td>funny</td>\n",
       "    </tr>\n",
       "    <tr>\n",
       "      <th>8</th>\n",
       "      <td>9</td>\n",
       "      <td>bujji</td>\n",
       "      <td>good</td>\n",
       "    </tr>\n",
       "    <tr>\n",
       "      <th>9</th>\n",
       "      <td>10</td>\n",
       "      <td>jayasri</td>\n",
       "      <td>hordworking</td>\n",
       "    </tr>\n",
       "  </tbody>\n",
       "</table>\n",
       "</div>"
      ],
      "text/plain": [
       "   s.no      name      quality\n",
       "0     1    anitha         good\n",
       "1     2    vanaja         cool\n",
       "2     3   vanitha       silent\n",
       "3     4   mamatha     innocent\n",
       "4     5      gita   inteligent\n",
       "5     6      sita      helpful\n",
       "6     7     durga  hordworking\n",
       "7     8  prasanna        funny\n",
       "8     9     bujji         good\n",
       "9    10   jayasri  hordworking"
      ]
     },
     "execution_count": 14,
     "metadata": {},
     "output_type": "execute_result"
    }
   ],
   "source": [
    "import pandas as pd\n",
    "df_girls=pd.read_excel(r\"C:\\Users\\hp\\OneDrive\\Documents\\assignment_13\\girls_friends.xlsx\")\n",
    "df_girls"
   ]
  },
  {
   "cell_type": "code",
   "execution_count": 15,
   "id": "62d2f6e0",
   "metadata": {},
   "outputs": [],
   "source": [
    "#4. Summarize data by quality wise no.of friends ."
   ]
  },
  {
   "cell_type": "code",
   "execution_count": 16,
   "id": "2d373d4b",
   "metadata": {},
   "outputs": [
    {
     "data": {
      "text/plain": [
       "quality\n",
       "cool           1\n",
       "funny          1\n",
       "good           2\n",
       "helpful        1\n",
       "hordworking    2\n",
       "innocent       1\n",
       "inteligent     1\n",
       "silent         1\n",
       "Name: s.no, dtype: int64"
      ]
     },
     "execution_count": 16,
     "metadata": {},
     "output_type": "execute_result"
    }
   ],
   "source": [
    "df=df_girls.groupby('quality')['s.no'].count()\n",
    "df"
   ]
  },
  {
   "cell_type": "code",
   "execution_count": 17,
   "id": "9fd202a8",
   "metadata": {},
   "outputs": [
    {
     "data": {
      "text/plain": [
       "quality\n",
       "cool            2\n",
       "funny           8\n",
       "good           10\n",
       "helpful         6\n",
       "hordworking    17\n",
       "innocent        4\n",
       "inteligent      5\n",
       "silent          3\n",
       "Name: s.no, dtype: int64"
      ]
     },
     "execution_count": 17,
     "metadata": {},
     "output_type": "execute_result"
    }
   ],
   "source": [
    "df=df_girls.groupby('quality')['s.no'].sum()\n",
    "df"
   ]
  },
  {
   "cell_type": "code",
   "execution_count": 18,
   "id": "158cfe47",
   "metadata": {},
   "outputs": [],
   "source": [
    "#Q3>Create and import file\n",
    "#1. Create a father side fatherfamily_members.xls file and import file in spyder  (atleast 5 names, columns are FamilyMemberName*Relation)\n",
    "#2. Summarize data by relation wise no.of familymembers .\n",
    "#3. Create a mother side montherfamily_members.xls file and import file in spyder  (atleast 5 names, columns are FamilyMemberName*Relation)\n",
    "#4. Summarize data by relation wise no.of familymembers ."
   ]
  },
  {
   "cell_type": "code",
   "execution_count": 19,
   "id": "7cca6848",
   "metadata": {},
   "outputs": [],
   "source": [
    "#1. Create a father side fatherfamily_members.xls file and import file in spyder  (atleast 5 names, columns are FamilyMemberName*Relation)"
   ]
  },
  {
   "cell_type": "code",
   "execution_count": 20,
   "id": "2f77ca6b",
   "metadata": {
    "scrolled": true
   },
   "outputs": [
    {
     "data": {
      "text/html": [
       "<div>\n",
       "<style scoped>\n",
       "    .dataframe tbody tr th:only-of-type {\n",
       "        vertical-align: middle;\n",
       "    }\n",
       "\n",
       "    .dataframe tbody tr th {\n",
       "        vertical-align: top;\n",
       "    }\n",
       "\n",
       "    .dataframe thead th {\n",
       "        text-align: right;\n",
       "    }\n",
       "</style>\n",
       "<table border=\"1\" class=\"dataframe\">\n",
       "  <thead>\n",
       "    <tr style=\"text-align: right;\">\n",
       "      <th></th>\n",
       "      <th>s.no</th>\n",
       "      <th>family_members</th>\n",
       "      <th>relation</th>\n",
       "    </tr>\n",
       "  </thead>\n",
       "  <tbody>\n",
       "    <tr>\n",
       "      <th>0</th>\n",
       "      <td>1</td>\n",
       "      <td>raju</td>\n",
       "      <td>brother</td>\n",
       "    </tr>\n",
       "    <tr>\n",
       "      <th>1</th>\n",
       "      <td>2</td>\n",
       "      <td>mani</td>\n",
       "      <td>sister_in_law</td>\n",
       "    </tr>\n",
       "    <tr>\n",
       "      <th>2</th>\n",
       "      <td>3</td>\n",
       "      <td>ramesh</td>\n",
       "      <td>son</td>\n",
       "    </tr>\n",
       "    <tr>\n",
       "      <th>3</th>\n",
       "      <td>4</td>\n",
       "      <td>anitha</td>\n",
       "      <td>daughter_in_law</td>\n",
       "    </tr>\n",
       "    <tr>\n",
       "      <th>4</th>\n",
       "      <td>5</td>\n",
       "      <td>muthika</td>\n",
       "      <td>grand_daughter</td>\n",
       "    </tr>\n",
       "  </tbody>\n",
       "</table>\n",
       "</div>"
      ],
      "text/plain": [
       "   s.no family_members         relation\n",
       "0     1           raju          brother\n",
       "1     2           mani    sister_in_law\n",
       "2     3         ramesh              son\n",
       "3     4         anitha  daughter_in_law\n",
       "4     5        muthika   grand_daughter"
      ]
     },
     "execution_count": 20,
     "metadata": {},
     "output_type": "execute_result"
    }
   ],
   "source": [
    "import pandas as pd\n",
    "df_father=pd.read_excel(r\"C:\\Users\\hp\\OneDrive\\Documents\\assignment_13\\father_family_member.xlsx\")\n",
    "df_father"
   ]
  },
  {
   "cell_type": "code",
   "execution_count": 21,
   "id": "c765a341",
   "metadata": {},
   "outputs": [],
   "source": [
    "#2. Summarize data by relation wise no.of familymembers ."
   ]
  },
  {
   "cell_type": "code",
   "execution_count": 22,
   "id": "5a8f54a4",
   "metadata": {},
   "outputs": [
    {
     "data": {
      "text/plain": [
       "relation\n",
       "brother            1\n",
       "daughter_in_law    1\n",
       "grand_daughter     1\n",
       "sister_in_law      1\n",
       "son                1\n",
       "Name: s.no, dtype: int64"
      ]
     },
     "execution_count": 22,
     "metadata": {},
     "output_type": "execute_result"
    }
   ],
   "source": [
    "df=df_father.groupby('relation')['s.no'].count()\n",
    "df"
   ]
  },
  {
   "cell_type": "code",
   "execution_count": 23,
   "id": "e29f0c27",
   "metadata": {},
   "outputs": [
    {
     "data": {
      "text/plain": [
       "relation\n",
       "brother            1\n",
       "daughter_in_law    4\n",
       "grand_daughter     5\n",
       "sister_in_law      2\n",
       "son                3\n",
       "Name: s.no, dtype: int64"
      ]
     },
     "execution_count": 23,
     "metadata": {},
     "output_type": "execute_result"
    }
   ],
   "source": [
    "df=df_father.groupby('relation')['s.no'].sum()\n",
    "df"
   ]
  },
  {
   "cell_type": "code",
   "execution_count": 24,
   "id": "c0cd4879",
   "metadata": {},
   "outputs": [],
   "source": [
    "#3. Create a mother side montherfamily_members.xls file and import file in spyder  (atleast 5 names, columns are FamilyMemberName*Relation)"
   ]
  },
  {
   "cell_type": "code",
   "execution_count": 26,
   "id": "255a9098",
   "metadata": {},
   "outputs": [
    {
     "data": {
      "text/html": [
       "<div>\n",
       "<style scoped>\n",
       "    .dataframe tbody tr th:only-of-type {\n",
       "        vertical-align: middle;\n",
       "    }\n",
       "\n",
       "    .dataframe tbody tr th {\n",
       "        vertical-align: top;\n",
       "    }\n",
       "\n",
       "    .dataframe thead th {\n",
       "        text-align: right;\n",
       "    }\n",
       "</style>\n",
       "<table border=\"1\" class=\"dataframe\">\n",
       "  <thead>\n",
       "    <tr style=\"text-align: right;\">\n",
       "      <th></th>\n",
       "      <th>s.no</th>\n",
       "      <th>family_members</th>\n",
       "      <th>relation</th>\n",
       "    </tr>\n",
       "  </thead>\n",
       "  <tbody>\n",
       "    <tr>\n",
       "      <th>0</th>\n",
       "      <td>1</td>\n",
       "      <td>dasaradharamaya</td>\n",
       "      <td>father</td>\n",
       "    </tr>\n",
       "    <tr>\n",
       "      <th>1</th>\n",
       "      <td>2</td>\n",
       "      <td>nagedramma</td>\n",
       "      <td>mother</td>\n",
       "    </tr>\n",
       "    <tr>\n",
       "      <th>2</th>\n",
       "      <td>3</td>\n",
       "      <td>raju</td>\n",
       "      <td>brother</td>\n",
       "    </tr>\n",
       "    <tr>\n",
       "      <th>3</th>\n",
       "      <td>4</td>\n",
       "      <td>jyothi</td>\n",
       "      <td>sister_in_law</td>\n",
       "    </tr>\n",
       "    <tr>\n",
       "      <th>4</th>\n",
       "      <td>5</td>\n",
       "      <td>muthika</td>\n",
       "      <td>daughter_in_law</td>\n",
       "    </tr>\n",
       "  </tbody>\n",
       "</table>\n",
       "</div>"
      ],
      "text/plain": [
       "   s.no   family_members         relation\n",
       "0     1  dasaradharamaya           father\n",
       "1     2       nagedramma           mother\n",
       "2     3             raju          brother\n",
       "3     4           jyothi    sister_in_law\n",
       "4     5          muthika  daughter_in_law"
      ]
     },
     "execution_count": 26,
     "metadata": {},
     "output_type": "execute_result"
    }
   ],
   "source": [
    "import pandas as pd\n",
    "df_mother=pd.read_excel(r\"C:\\Users\\hp\\OneDrive\\Documents\\assignment_13\\mother_family_member.xlsx\")\n",
    "df_mother"
   ]
  },
  {
   "cell_type": "code",
   "execution_count": null,
   "id": "2d0079f1",
   "metadata": {},
   "outputs": [],
   "source": [
    "#4. Summarize data by relation wise no.of familymembers ."
   ]
  },
  {
   "cell_type": "code",
   "execution_count": 27,
   "id": "6637f48b",
   "metadata": {},
   "outputs": [
    {
     "data": {
      "text/plain": [
       "relation\n",
       "brother            1\n",
       "daughter_in_law    1\n",
       "father             1\n",
       "mother             1\n",
       "sister_in_law      1\n",
       "Name: s.no, dtype: int64"
      ]
     },
     "execution_count": 27,
     "metadata": {},
     "output_type": "execute_result"
    }
   ],
   "source": [
    "df=df_mother.groupby('relation')['s.no'].count()\n",
    "df"
   ]
  },
  {
   "cell_type": "code",
   "execution_count": 28,
   "id": "91b6d6e2",
   "metadata": {},
   "outputs": [
    {
     "data": {
      "text/plain": [
       "relation\n",
       "brother            3\n",
       "daughter_in_law    5\n",
       "father             1\n",
       "mother             2\n",
       "sister_in_law      4\n",
       "Name: s.no, dtype: int64"
      ]
     },
     "execution_count": 28,
     "metadata": {},
     "output_type": "execute_result"
    }
   ],
   "source": [
    "df=df_mother.groupby('relation')['s.no'].sum()\n",
    "df"
   ]
  },
  {
   "cell_type": "code",
   "execution_count": null,
   "id": "703f7316",
   "metadata": {},
   "outputs": [],
   "source": [
    "#Q4>Create and import file\n",
    "#1. Create a Dal related  dal_items.xlsx file and import file in spyder (atleast 5 names, columns are VegFoodName*Taste)\n",
    "#2. Summarize data by taste wise no.of fooditems.\n",
    "#3. Create a vegitable related  vegitable_items.xlsx file and import file in spyder (atleast 5 names, columns are VegFoodName*Taste)\n",
    "#4. Summarize data by taste wise no.of fooditems."
   ]
  },
  {
   "cell_type": "code",
   "execution_count": null,
   "id": "3ff06d2c",
   "metadata": {},
   "outputs": [],
   "source": [
    "#1. Create a Dal related  dal_items.xlsx file and import file in spyder (atleast 5 names, columns are VegFoodName*Taste)"
   ]
  },
  {
   "cell_type": "code",
   "execution_count": 29,
   "id": "7cfa4929",
   "metadata": {},
   "outputs": [
    {
     "data": {
      "text/html": [
       "<div>\n",
       "<style scoped>\n",
       "    .dataframe tbody tr th:only-of-type {\n",
       "        vertical-align: middle;\n",
       "    }\n",
       "\n",
       "    .dataframe tbody tr th {\n",
       "        vertical-align: top;\n",
       "    }\n",
       "\n",
       "    .dataframe thead th {\n",
       "        text-align: right;\n",
       "    }\n",
       "</style>\n",
       "<table border=\"1\" class=\"dataframe\">\n",
       "  <thead>\n",
       "    <tr style=\"text-align: right;\">\n",
       "      <th></th>\n",
       "      <th>s.no</th>\n",
       "      <th>items</th>\n",
       "      <th>taste</th>\n",
       "    </tr>\n",
       "  </thead>\n",
       "  <tbody>\n",
       "    <tr>\n",
       "      <th>0</th>\n",
       "      <td>1</td>\n",
       "      <td>pappu_tomato</td>\n",
       "      <td>sour</td>\n",
       "    </tr>\n",
       "    <tr>\n",
       "      <th>1</th>\n",
       "      <td>2</td>\n",
       "      <td>pappu_cucumber</td>\n",
       "      <td>super</td>\n",
       "    </tr>\n",
       "    <tr>\n",
       "      <th>2</th>\n",
       "      <td>3</td>\n",
       "      <td>pappu_mango</td>\n",
       "      <td>sour</td>\n",
       "    </tr>\n",
       "    <tr>\n",
       "      <th>3</th>\n",
       "      <td>4</td>\n",
       "      <td>pappu_angular_gourds</td>\n",
       "      <td>taste</td>\n",
       "    </tr>\n",
       "    <tr>\n",
       "      <th>4</th>\n",
       "      <td>5</td>\n",
       "      <td>pappu_bottle_gourds</td>\n",
       "      <td>yummy</td>\n",
       "    </tr>\n",
       "  </tbody>\n",
       "</table>\n",
       "</div>"
      ],
      "text/plain": [
       "   s.no                 items  taste\n",
       "0     1          pappu_tomato   sour\n",
       "1     2        pappu_cucumber  super\n",
       "2     3           pappu_mango   sour\n",
       "3     4  pappu_angular_gourds  taste\n",
       "4     5   pappu_bottle_gourds  yummy"
      ]
     },
     "execution_count": 29,
     "metadata": {},
     "output_type": "execute_result"
    }
   ],
   "source": [
    "import pandas as pd\n",
    "df_dal=pd.read_excel(r\"C:\\Users\\hp\\OneDrive\\Documents\\assignment_13\\dal_items.xlsx\")\n",
    "df_dal"
   ]
  },
  {
   "cell_type": "code",
   "execution_count": null,
   "id": "05e28f75",
   "metadata": {},
   "outputs": [],
   "source": [
    "#2. Summarize data by taste wise no.of fooditems."
   ]
  },
  {
   "cell_type": "code",
   "execution_count": 32,
   "id": "3c40b60c",
   "metadata": {},
   "outputs": [
    {
     "data": {
      "text/plain": [
       "taste\n",
       "sour     2\n",
       "super    1\n",
       "taste    1\n",
       "yummy    1\n",
       "Name: s.no, dtype: int64"
      ]
     },
     "execution_count": 32,
     "metadata": {},
     "output_type": "execute_result"
    }
   ],
   "source": [
    "df=df_dal.groupby('taste')['s.no'].count()\n",
    "df"
   ]
  },
  {
   "cell_type": "code",
   "execution_count": 33,
   "id": "97890fd1",
   "metadata": {},
   "outputs": [
    {
     "data": {
      "text/plain": [
       "taste\n",
       "sour     4\n",
       "super    2\n",
       "taste    4\n",
       "yummy    5\n",
       "Name: s.no, dtype: int64"
      ]
     },
     "execution_count": 33,
     "metadata": {},
     "output_type": "execute_result"
    }
   ],
   "source": [
    "df=df_dal.groupby('taste')['s.no'].sum()\n",
    "df"
   ]
  },
  {
   "cell_type": "code",
   "execution_count": null,
   "id": "4ead748f",
   "metadata": {},
   "outputs": [],
   "source": [
    "#3. Create a vegitable related  vegitable_items.xlsx file and import file in spyder"
   ]
  },
  {
   "cell_type": "code",
   "execution_count": 34,
   "id": "05dd54b8",
   "metadata": {},
   "outputs": [
    {
     "data": {
      "text/html": [
       "<div>\n",
       "<style scoped>\n",
       "    .dataframe tbody tr th:only-of-type {\n",
       "        vertical-align: middle;\n",
       "    }\n",
       "\n",
       "    .dataframe tbody tr th {\n",
       "        vertical-align: top;\n",
       "    }\n",
       "\n",
       "    .dataframe thead th {\n",
       "        text-align: right;\n",
       "    }\n",
       "</style>\n",
       "<table border=\"1\" class=\"dataframe\">\n",
       "  <thead>\n",
       "    <tr style=\"text-align: right;\">\n",
       "      <th></th>\n",
       "      <th>s.no</th>\n",
       "      <th>items</th>\n",
       "      <th>taste</th>\n",
       "    </tr>\n",
       "  </thead>\n",
       "  <tbody>\n",
       "    <tr>\n",
       "      <th>0</th>\n",
       "      <td>1</td>\n",
       "      <td>tomato_cury</td>\n",
       "      <td>sour</td>\n",
       "    </tr>\n",
       "    <tr>\n",
       "      <th>1</th>\n",
       "      <td>2</td>\n",
       "      <td>potato_fry</td>\n",
       "      <td>yummy</td>\n",
       "    </tr>\n",
       "    <tr>\n",
       "      <th>2</th>\n",
       "      <td>3</td>\n",
       "      <td>ladey_finger_fry</td>\n",
       "      <td>super</td>\n",
       "    </tr>\n",
       "    <tr>\n",
       "      <th>3</th>\n",
       "      <td>4</td>\n",
       "      <td>angular_gourds_cury</td>\n",
       "      <td>hot</td>\n",
       "    </tr>\n",
       "    <tr>\n",
       "      <th>4</th>\n",
       "      <td>5</td>\n",
       "      <td>cucumber_cury</td>\n",
       "      <td>teste</td>\n",
       "    </tr>\n",
       "  </tbody>\n",
       "</table>\n",
       "</div>"
      ],
      "text/plain": [
       "   s.no                items  taste\n",
       "0     1          tomato_cury   sour\n",
       "1     2           potato_fry  yummy\n",
       "2     3     ladey_finger_fry  super\n",
       "3     4  angular_gourds_cury    hot\n",
       "4     5        cucumber_cury  teste"
      ]
     },
     "execution_count": 34,
     "metadata": {},
     "output_type": "execute_result"
    }
   ],
   "source": [
    "import pandas as pd\n",
    "df_veg=pd.read_excel(r\"C:\\Users\\hp\\OneDrive\\Documents\\assignment_13\\veg_items.xlsx\")\n",
    "df_veg"
   ]
  },
  {
   "cell_type": "code",
   "execution_count": null,
   "id": "e783394a",
   "metadata": {},
   "outputs": [],
   "source": [
    "#4. Summarize data by taste wise no.of fooditems."
   ]
  },
  {
   "cell_type": "code",
   "execution_count": 36,
   "id": "e16e559b",
   "metadata": {},
   "outputs": [
    {
     "data": {
      "text/plain": [
       "taste\n",
       "hot      1\n",
       "sour     1\n",
       "super    1\n",
       "teste    1\n",
       "yummy    1\n",
       "Name: s.no, dtype: int64"
      ]
     },
     "execution_count": 36,
     "metadata": {},
     "output_type": "execute_result"
    }
   ],
   "source": [
    "df=df_veg.groupby('taste')['s.no'].count()\n",
    "df"
   ]
  },
  {
   "cell_type": "code",
   "execution_count": 37,
   "id": "150c5ac4",
   "metadata": {},
   "outputs": [
    {
     "data": {
      "text/plain": [
       "taste\n",
       "hot      4\n",
       "sour     1\n",
       "super    3\n",
       "teste    5\n",
       "yummy    2\n",
       "Name: s.no, dtype: int64"
      ]
     },
     "execution_count": 37,
     "metadata": {},
     "output_type": "execute_result"
    }
   ],
   "source": [
    "df=df_veg.groupby('taste')['s.no'].sum()\n",
    "df"
   ]
  },
  {
   "cell_type": "code",
   "execution_count": null,
   "id": "8fa1b867",
   "metadata": {},
   "outputs": [],
   "source": [
    "#Q5>Create and import file\n",
    "#1. Create a soups related  soups_items.xlsx file and import file in spyder (atleast 5 names, columns are soups*Taste)\n",
    "#2. Summarize data by taste wise no.of fooditems.\n",
    "#3. Create a fry related  fry_items.xlsx file and import file in spyder (atleast 5 names, columns are fry*Taste)\n",
    "#4. Summarize data by taste wise no.of fooditems."
   ]
  },
  {
   "cell_type": "code",
   "execution_count": null,
   "id": "b15168e7",
   "metadata": {},
   "outputs": [],
   "source": [
    "#1. Create a soups related  soups_items.xlsx file and import file in spyder (atleast 5 names, columns are soups*Taste)"
   ]
  },
  {
   "cell_type": "code",
   "execution_count": 40,
   "id": "2844db93",
   "metadata": {},
   "outputs": [
    {
     "data": {
      "text/html": [
       "<div>\n",
       "<style scoped>\n",
       "    .dataframe tbody tr th:only-of-type {\n",
       "        vertical-align: middle;\n",
       "    }\n",
       "\n",
       "    .dataframe tbody tr th {\n",
       "        vertical-align: top;\n",
       "    }\n",
       "\n",
       "    .dataframe thead th {\n",
       "        text-align: right;\n",
       "    }\n",
       "</style>\n",
       "<table border=\"1\" class=\"dataframe\">\n",
       "  <thead>\n",
       "    <tr style=\"text-align: right;\">\n",
       "      <th></th>\n",
       "      <th>s.no</th>\n",
       "      <th>items</th>\n",
       "      <th>taste</th>\n",
       "    </tr>\n",
       "  </thead>\n",
       "  <tbody>\n",
       "    <tr>\n",
       "      <th>0</th>\n",
       "      <td>1</td>\n",
       "      <td>beans_soup</td>\n",
       "      <td>hot</td>\n",
       "    </tr>\n",
       "    <tr>\n",
       "      <th>1</th>\n",
       "      <td>2</td>\n",
       "      <td>potato_soup</td>\n",
       "      <td>super</td>\n",
       "    </tr>\n",
       "    <tr>\n",
       "      <th>2</th>\n",
       "      <td>3</td>\n",
       "      <td>tomato_soup</td>\n",
       "      <td>sour</td>\n",
       "    </tr>\n",
       "    <tr>\n",
       "      <th>3</th>\n",
       "      <td>4</td>\n",
       "      <td>carrot_soup</td>\n",
       "      <td>taste</td>\n",
       "    </tr>\n",
       "    <tr>\n",
       "      <th>4</th>\n",
       "      <td>5</td>\n",
       "      <td>angular_gourds_soup</td>\n",
       "      <td>yummy</td>\n",
       "    </tr>\n",
       "  </tbody>\n",
       "</table>\n",
       "</div>"
      ],
      "text/plain": [
       "   s.no                items  taste\n",
       "0     1           beans_soup    hot\n",
       "1     2          potato_soup  super\n",
       "2     3          tomato_soup   sour\n",
       "3     4          carrot_soup  taste\n",
       "4     5  angular_gourds_soup  yummy"
      ]
     },
     "execution_count": 40,
     "metadata": {},
     "output_type": "execute_result"
    }
   ],
   "source": [
    "import pandas as pd\n",
    "df_soup=pd.read_excel(r\"C:\\Users\\hp\\OneDrive\\Documents\\assignment_13\\soups_items.xlsx\")\n",
    "df_soup"
   ]
  },
  {
   "cell_type": "code",
   "execution_count": null,
   "id": "d4700af8",
   "metadata": {},
   "outputs": [],
   "source": [
    "#2. Summarize data by taste wise no.of fooditems."
   ]
  },
  {
   "cell_type": "code",
   "execution_count": 41,
   "id": "e71613be",
   "metadata": {},
   "outputs": [
    {
     "data": {
      "text/plain": [
       "taste\n",
       "hot      1\n",
       "sour     1\n",
       "super    1\n",
       "taste    1\n",
       "yummy    1\n",
       "Name: s.no, dtype: int64"
      ]
     },
     "execution_count": 41,
     "metadata": {},
     "output_type": "execute_result"
    }
   ],
   "source": [
    "df=df_soup.groupby('taste')['s.no'].count()\n",
    "df"
   ]
  },
  {
   "cell_type": "code",
   "execution_count": 42,
   "id": "390396bc",
   "metadata": {},
   "outputs": [
    {
     "data": {
      "text/plain": [
       "taste\n",
       "hot      1\n",
       "sour     3\n",
       "super    2\n",
       "taste    4\n",
       "yummy    5\n",
       "Name: s.no, dtype: int64"
      ]
     },
     "execution_count": 42,
     "metadata": {},
     "output_type": "execute_result"
    }
   ],
   "source": [
    "df=df_soup.groupby('taste')['s.no'].sum()\n",
    "df"
   ]
  },
  {
   "cell_type": "code",
   "execution_count": null,
   "id": "b941453a",
   "metadata": {},
   "outputs": [],
   "source": [
    "#3. Create a fry related  fry_items.xlsx file and import file in spyder (atleast 5 names, columns are fry*Taste)"
   ]
  },
  {
   "cell_type": "code",
   "execution_count": 43,
   "id": "e8c9c33f",
   "metadata": {},
   "outputs": [
    {
     "data": {
      "text/html": [
       "<div>\n",
       "<style scoped>\n",
       "    .dataframe tbody tr th:only-of-type {\n",
       "        vertical-align: middle;\n",
       "    }\n",
       "\n",
       "    .dataframe tbody tr th {\n",
       "        vertical-align: top;\n",
       "    }\n",
       "\n",
       "    .dataframe thead th {\n",
       "        text-align: right;\n",
       "    }\n",
       "</style>\n",
       "<table border=\"1\" class=\"dataframe\">\n",
       "  <thead>\n",
       "    <tr style=\"text-align: right;\">\n",
       "      <th></th>\n",
       "      <th>s.no</th>\n",
       "      <th>items</th>\n",
       "      <th>taste</th>\n",
       "    </tr>\n",
       "  </thead>\n",
       "  <tbody>\n",
       "    <tr>\n",
       "      <th>0</th>\n",
       "      <td>1</td>\n",
       "      <td>carrot_fry</td>\n",
       "      <td>yummy</td>\n",
       "    </tr>\n",
       "    <tr>\n",
       "      <th>1</th>\n",
       "      <td>2</td>\n",
       "      <td>tomato_fry</td>\n",
       "      <td>sour</td>\n",
       "    </tr>\n",
       "    <tr>\n",
       "      <th>2</th>\n",
       "      <td>3</td>\n",
       "      <td>beans_fry</td>\n",
       "      <td>hot</td>\n",
       "    </tr>\n",
       "    <tr>\n",
       "      <th>3</th>\n",
       "      <td>4</td>\n",
       "      <td>potato_fry</td>\n",
       "      <td>tasty</td>\n",
       "    </tr>\n",
       "    <tr>\n",
       "      <th>4</th>\n",
       "      <td>5</td>\n",
       "      <td>lady_finger_fry</td>\n",
       "      <td>super</td>\n",
       "    </tr>\n",
       "  </tbody>\n",
       "</table>\n",
       "</div>"
      ],
      "text/plain": [
       "   s.no            items  taste\n",
       "0     1       carrot_fry  yummy\n",
       "1     2       tomato_fry   sour\n",
       "2     3        beans_fry    hot\n",
       "3     4       potato_fry  tasty\n",
       "4     5  lady_finger_fry  super"
      ]
     },
     "execution_count": 43,
     "metadata": {},
     "output_type": "execute_result"
    }
   ],
   "source": [
    "import pandas as pd\n",
    "df_fry=pd.read_excel(r\"C:\\Users\\hp\\OneDrive\\Documents\\assignment_13\\fry_items.xlsx\")\n",
    "df_fry"
   ]
  },
  {
   "cell_type": "code",
   "execution_count": null,
   "id": "679af2ac",
   "metadata": {},
   "outputs": [],
   "source": [
    "#4. Summarize data by taste wise no.of fooditems."
   ]
  },
  {
   "cell_type": "code",
   "execution_count": 44,
   "id": "2d7af8e7",
   "metadata": {},
   "outputs": [
    {
     "data": {
      "text/plain": [
       "taste\n",
       "hot      1\n",
       "sour     1\n",
       "super    1\n",
       "tasty    1\n",
       "yummy    1\n",
       "Name: s.no, dtype: int64"
      ]
     },
     "execution_count": 44,
     "metadata": {},
     "output_type": "execute_result"
    }
   ],
   "source": [
    "df=df_fry.groupby('taste')['s.no'].count()\n",
    "df"
   ]
  },
  {
   "cell_type": "code",
   "execution_count": 45,
   "id": "850cc175",
   "metadata": {},
   "outputs": [
    {
     "data": {
      "text/plain": [
       "taste\n",
       "hot      3\n",
       "sour     2\n",
       "super    5\n",
       "tasty    4\n",
       "yummy    1\n",
       "Name: s.no, dtype: int64"
      ]
     },
     "execution_count": 45,
     "metadata": {},
     "output_type": "execute_result"
    }
   ],
   "source": [
    "df=df_fry.groupby('taste')['s.no'].sum()\n",
    "df"
   ]
  },
  {
   "cell_type": "code",
   "execution_count": null,
   "id": "8f5d6253",
   "metadata": {},
   "outputs": [],
   "source": [
    "#Q6>Create and import file\n",
    "#1. Create a Chicken related chicken_items.xlsx file and import file in spyder (atleast 5 names, columns are NonVegFoodName*Taste)\n",
    "#2. Summarize data by taste wise no.of fooditems.\n",
    "#3. Create a mutton related mutton_items.xlsx file and import file in spyder (atleast 5 names, columns are NonVegFoodName*Taste)\n",
    "#4. Summarize data by taste wise no.of fooditems."
   ]
  },
  {
   "cell_type": "code",
   "execution_count": null,
   "id": "8e2729a3",
   "metadata": {},
   "outputs": [],
   "source": [
    "#1. Create a Chicken related chicken_items.xlsx file and import file in spyder (atleast 5 names, columns are NonVegFoodName*Taste)"
   ]
  },
  {
   "cell_type": "code",
   "execution_count": 1,
   "id": "2f3f9acc",
   "metadata": {},
   "outputs": [
    {
     "data": {
      "text/html": [
       "<div>\n",
       "<style scoped>\n",
       "    .dataframe tbody tr th:only-of-type {\n",
       "        vertical-align: middle;\n",
       "    }\n",
       "\n",
       "    .dataframe tbody tr th {\n",
       "        vertical-align: top;\n",
       "    }\n",
       "\n",
       "    .dataframe thead th {\n",
       "        text-align: right;\n",
       "    }\n",
       "</style>\n",
       "<table border=\"1\" class=\"dataframe\">\n",
       "  <thead>\n",
       "    <tr style=\"text-align: right;\">\n",
       "      <th></th>\n",
       "      <th>s.no</th>\n",
       "      <th>items</th>\n",
       "      <th>taste</th>\n",
       "    </tr>\n",
       "  </thead>\n",
       "  <tbody>\n",
       "    <tr>\n",
       "      <th>0</th>\n",
       "      <td>1</td>\n",
       "      <td>chicken_cury</td>\n",
       "      <td>super</td>\n",
       "    </tr>\n",
       "    <tr>\n",
       "      <th>1</th>\n",
       "      <td>2</td>\n",
       "      <td>chicken_biryani</td>\n",
       "      <td>hot</td>\n",
       "    </tr>\n",
       "    <tr>\n",
       "      <th>2</th>\n",
       "      <td>3</td>\n",
       "      <td>chicken_fry</td>\n",
       "      <td>yummy</td>\n",
       "    </tr>\n",
       "    <tr>\n",
       "      <th>3</th>\n",
       "      <td>4</td>\n",
       "      <td>chicken_fide_rice</td>\n",
       "      <td>tasty</td>\n",
       "    </tr>\n",
       "    <tr>\n",
       "      <th>4</th>\n",
       "      <td>5</td>\n",
       "      <td>chicken_pakodi</td>\n",
       "      <td>very_super</td>\n",
       "    </tr>\n",
       "  </tbody>\n",
       "</table>\n",
       "</div>"
      ],
      "text/plain": [
       "   s.no              items       taste\n",
       "0     1       chicken_cury       super\n",
       "1     2    chicken_biryani         hot\n",
       "2     3        chicken_fry       yummy\n",
       "3     4  chicken_fide_rice       tasty\n",
       "4     5     chicken_pakodi  very_super"
      ]
     },
     "execution_count": 1,
     "metadata": {},
     "output_type": "execute_result"
    }
   ],
   "source": [
    "import pandas as pd\n",
    "df_chicken=pd.read_excel(r\"C:\\Users\\hp\\OneDrive\\Documents\\assignment_13\\chicken_items.xlsx\")\n",
    "df_chicken"
   ]
  },
  {
   "cell_type": "code",
   "execution_count": null,
   "id": "6f46b57c",
   "metadata": {},
   "outputs": [],
   "source": [
    "#2. Summarize data by taste wise no.of fooditems."
   ]
  },
  {
   "cell_type": "code",
   "execution_count": 2,
   "id": "ddb04616",
   "metadata": {},
   "outputs": [
    {
     "data": {
      "text/plain": [
       "taste\n",
       "hot           1\n",
       "super         1\n",
       "tasty         1\n",
       "very_super    1\n",
       "yummy         1\n",
       "Name: s.no, dtype: int64"
      ]
     },
     "execution_count": 2,
     "metadata": {},
     "output_type": "execute_result"
    }
   ],
   "source": [
    "df=df_chicken.groupby('taste')['s.no'].count()\n",
    "df"
   ]
  },
  {
   "cell_type": "code",
   "execution_count": 3,
   "id": "f891c659",
   "metadata": {},
   "outputs": [
    {
     "data": {
      "text/plain": [
       "taste\n",
       "hot           2\n",
       "super         1\n",
       "tasty         4\n",
       "very_super    5\n",
       "yummy         3\n",
       "Name: s.no, dtype: int64"
      ]
     },
     "execution_count": 3,
     "metadata": {},
     "output_type": "execute_result"
    }
   ],
   "source": [
    "df=df_chicken.groupby('taste')['s.no'].sum()\n",
    "df"
   ]
  },
  {
   "cell_type": "code",
   "execution_count": null,
   "id": "aea4eb97",
   "metadata": {},
   "outputs": [],
   "source": [
    "#3. Create a mutton related mutton_items.xlsx file and import file in spyder (atleast 5 names, columns are NonVegFoodName*Taste)"
   ]
  },
  {
   "cell_type": "code",
   "execution_count": 4,
   "id": "af8363ac",
   "metadata": {},
   "outputs": [
    {
     "data": {
      "text/html": [
       "<div>\n",
       "<style scoped>\n",
       "    .dataframe tbody tr th:only-of-type {\n",
       "        vertical-align: middle;\n",
       "    }\n",
       "\n",
       "    .dataframe tbody tr th {\n",
       "        vertical-align: top;\n",
       "    }\n",
       "\n",
       "    .dataframe thead th {\n",
       "        text-align: right;\n",
       "    }\n",
       "</style>\n",
       "<table border=\"1\" class=\"dataframe\">\n",
       "  <thead>\n",
       "    <tr style=\"text-align: right;\">\n",
       "      <th></th>\n",
       "      <th>s.no</th>\n",
       "      <th>items</th>\n",
       "      <th>taste</th>\n",
       "    </tr>\n",
       "  </thead>\n",
       "  <tbody>\n",
       "    <tr>\n",
       "      <th>0</th>\n",
       "      <td>1</td>\n",
       "      <td>mutton_fry</td>\n",
       "      <td>good</td>\n",
       "    </tr>\n",
       "    <tr>\n",
       "      <th>1</th>\n",
       "      <td>2</td>\n",
       "      <td>mutton_cury</td>\n",
       "      <td>super</td>\n",
       "    </tr>\n",
       "    <tr>\n",
       "      <th>2</th>\n",
       "      <td>3</td>\n",
       "      <td>mutton_soup</td>\n",
       "      <td>yummy</td>\n",
       "    </tr>\n",
       "    <tr>\n",
       "      <th>3</th>\n",
       "      <td>4</td>\n",
       "      <td>mutton_biryani</td>\n",
       "      <td>tasty</td>\n",
       "    </tr>\n",
       "    <tr>\n",
       "      <th>4</th>\n",
       "      <td>5</td>\n",
       "      <td>mutton_pakodi</td>\n",
       "      <td>hot</td>\n",
       "    </tr>\n",
       "  </tbody>\n",
       "</table>\n",
       "</div>"
      ],
      "text/plain": [
       "   s.no           items  taste\n",
       "0     1      mutton_fry   good\n",
       "1     2     mutton_cury  super\n",
       "2     3     mutton_soup  yummy\n",
       "3     4  mutton_biryani  tasty\n",
       "4     5   mutton_pakodi    hot"
      ]
     },
     "execution_count": 4,
     "metadata": {},
     "output_type": "execute_result"
    }
   ],
   "source": [
    "import pandas as pd\n",
    "df_mutton=pd.read_excel(r\"C:\\Users\\hp\\OneDrive\\Documents\\assignment_13\\mutton_items.xlsx\")\n",
    "df_mutton"
   ]
  },
  {
   "cell_type": "code",
   "execution_count": null,
   "id": "95ccc0e4",
   "metadata": {},
   "outputs": [],
   "source": [
    "#4. Summarize data by taste wise no.of fooditems."
   ]
  },
  {
   "cell_type": "code",
   "execution_count": 5,
   "id": "7049ca63",
   "metadata": {},
   "outputs": [
    {
     "data": {
      "text/plain": [
       "taste\n",
       "good     1\n",
       "hot      1\n",
       "super    1\n",
       "tasty    1\n",
       "yummy    1\n",
       "Name: s.no, dtype: int64"
      ]
     },
     "execution_count": 5,
     "metadata": {},
     "output_type": "execute_result"
    }
   ],
   "source": [
    "df=df_mutton.groupby('taste')['s.no'].count()\n",
    "df"
   ]
  },
  {
   "cell_type": "code",
   "execution_count": 6,
   "id": "f9c5c0e9",
   "metadata": {},
   "outputs": [
    {
     "data": {
      "text/plain": [
       "taste\n",
       "good     1\n",
       "hot      5\n",
       "super    2\n",
       "tasty    4\n",
       "yummy    3\n",
       "Name: s.no, dtype: int64"
      ]
     },
     "execution_count": 6,
     "metadata": {},
     "output_type": "execute_result"
    }
   ],
   "source": [
    "df=df_mutton.groupby('taste')['s.no'].sum()\n",
    "df"
   ]
  },
  {
   "cell_type": "code",
   "execution_count": null,
   "id": "e7536df6",
   "metadata": {},
   "outputs": [],
   "source": [
    "#Q7>Create and import file\n",
    "#1. Create a winter season  winterseason_names.xlsx file and import file in spyder  (atleast 2 names, columns are MonthName*Season)\n",
    "#2. Summarize data by Season wise no.of months.\n",
    "#3. Create a summer season  summerseason_names.xlsx file and import file in spyder  (atleast 2 names, columns are MonthName*Season)\n",
    "#4. Summarize data by Season wise no.of months.\n",
    "#5. Create a rainy season  rainyseason_names.xlsx file and import file in spyder  (atleast 2 names, columns are MonthName*Season)\n",
    "#6. Summarize data by Season wise no.of months."
   ]
  },
  {
   "cell_type": "code",
   "execution_count": null,
   "id": "a350060f",
   "metadata": {},
   "outputs": [],
   "source": [
    "#1. Create a winter season  winterseason_names.xlsx file and import file in spyder  (atleast 2 names, columns are MonthName*Season)"
   ]
  },
  {
   "cell_type": "code",
   "execution_count": 7,
   "id": "4578c0ee",
   "metadata": {},
   "outputs": [
    {
     "data": {
      "text/html": [
       "<div>\n",
       "<style scoped>\n",
       "    .dataframe tbody tr th:only-of-type {\n",
       "        vertical-align: middle;\n",
       "    }\n",
       "\n",
       "    .dataframe tbody tr th {\n",
       "        vertical-align: top;\n",
       "    }\n",
       "\n",
       "    .dataframe thead th {\n",
       "        text-align: right;\n",
       "    }\n",
       "</style>\n",
       "<table border=\"1\" class=\"dataframe\">\n",
       "  <thead>\n",
       "    <tr style=\"text-align: right;\">\n",
       "      <th></th>\n",
       "      <th>s.no</th>\n",
       "      <th>month_names</th>\n",
       "      <th>season</th>\n",
       "    </tr>\n",
       "  </thead>\n",
       "  <tbody>\n",
       "    <tr>\n",
       "      <th>0</th>\n",
       "      <td>1</td>\n",
       "      <td>november</td>\n",
       "      <td>winter</td>\n",
       "    </tr>\n",
       "    <tr>\n",
       "      <th>1</th>\n",
       "      <td>2</td>\n",
       "      <td>december</td>\n",
       "      <td>winter</td>\n",
       "    </tr>\n",
       "  </tbody>\n",
       "</table>\n",
       "</div>"
      ],
      "text/plain": [
       "   s.no month_names  season\n",
       "0     1    november  winter\n",
       "1     2    december  winter"
      ]
     },
     "execution_count": 7,
     "metadata": {},
     "output_type": "execute_result"
    }
   ],
   "source": [
    "import pandas as pd\n",
    "df_winter=pd.read_excel(r\"C:\\Users\\hp\\OneDrive\\Documents\\assignment_13\\winter_season.xlsx\")\n",
    "df_winter"
   ]
  },
  {
   "cell_type": "code",
   "execution_count": null,
   "id": "c6f84069",
   "metadata": {},
   "outputs": [],
   "source": [
    "#2. Summarize data by Season wise no.of months."
   ]
  },
  {
   "cell_type": "code",
   "execution_count": 8,
   "id": "ad36f033",
   "metadata": {},
   "outputs": [
    {
     "data": {
      "text/plain": [
       "season\n",
       "winter    2\n",
       "Name: s.no, dtype: int64"
      ]
     },
     "execution_count": 8,
     "metadata": {},
     "output_type": "execute_result"
    }
   ],
   "source": [
    "df=df_winter.groupby('season')['s.no'].count()\n",
    "df"
   ]
  },
  {
   "cell_type": "code",
   "execution_count": 9,
   "id": "8df6c014",
   "metadata": {},
   "outputs": [
    {
     "data": {
      "text/plain": [
       "season\n",
       "winter    3\n",
       "Name: s.no, dtype: int64"
      ]
     },
     "execution_count": 9,
     "metadata": {},
     "output_type": "execute_result"
    }
   ],
   "source": [
    "df=df_winter.groupby('season')['s.no'].sum()\n",
    "df"
   ]
  },
  {
   "cell_type": "code",
   "execution_count": null,
   "id": "a74230ff",
   "metadata": {},
   "outputs": [],
   "source": [
    "#3. Create a summer season  summerseason_names.xlsx file and import file in spyder  (atleast 2 names, columns are MonthName*Season)"
   ]
  },
  {
   "cell_type": "code",
   "execution_count": 10,
   "id": "096f5d3d",
   "metadata": {},
   "outputs": [
    {
     "data": {
      "text/html": [
       "<div>\n",
       "<style scoped>\n",
       "    .dataframe tbody tr th:only-of-type {\n",
       "        vertical-align: middle;\n",
       "    }\n",
       "\n",
       "    .dataframe tbody tr th {\n",
       "        vertical-align: top;\n",
       "    }\n",
       "\n",
       "    .dataframe thead th {\n",
       "        text-align: right;\n",
       "    }\n",
       "</style>\n",
       "<table border=\"1\" class=\"dataframe\">\n",
       "  <thead>\n",
       "    <tr style=\"text-align: right;\">\n",
       "      <th></th>\n",
       "      <th>s.no</th>\n",
       "      <th>month_names</th>\n",
       "      <th>season</th>\n",
       "    </tr>\n",
       "  </thead>\n",
       "  <tbody>\n",
       "    <tr>\n",
       "      <th>0</th>\n",
       "      <td>1</td>\n",
       "      <td>april</td>\n",
       "      <td>summer</td>\n",
       "    </tr>\n",
       "    <tr>\n",
       "      <th>1</th>\n",
       "      <td>2</td>\n",
       "      <td>may</td>\n",
       "      <td>summer</td>\n",
       "    </tr>\n",
       "  </tbody>\n",
       "</table>\n",
       "</div>"
      ],
      "text/plain": [
       "   s.no month_names  season\n",
       "0     1       april  summer\n",
       "1     2         may  summer"
      ]
     },
     "execution_count": 10,
     "metadata": {},
     "output_type": "execute_result"
    }
   ],
   "source": [
    "import pandas as pd\n",
    "df_summer=pd.read_excel(r\"C:\\Users\\hp\\OneDrive\\Documents\\assignment_13\\summer_season.xlsx\")\n",
    "df_summer"
   ]
  },
  {
   "cell_type": "code",
   "execution_count": null,
   "id": "f0b13732",
   "metadata": {},
   "outputs": [],
   "source": [
    "#4. Summarize data by Season wise no.of months."
   ]
  },
  {
   "cell_type": "code",
   "execution_count": 12,
   "id": "4f101578",
   "metadata": {},
   "outputs": [
    {
     "data": {
      "text/plain": [
       "season\n",
       "summer    2\n",
       "Name: s.no, dtype: int64"
      ]
     },
     "execution_count": 12,
     "metadata": {},
     "output_type": "execute_result"
    }
   ],
   "source": [
    "df=df_summer.groupby('season')['s.no'].count()\n",
    "df"
   ]
  },
  {
   "cell_type": "code",
   "execution_count": 13,
   "id": "fd8bcbd0",
   "metadata": {},
   "outputs": [
    {
     "data": {
      "text/plain": [
       "season\n",
       "summer    3\n",
       "Name: s.no, dtype: int64"
      ]
     },
     "execution_count": 13,
     "metadata": {},
     "output_type": "execute_result"
    }
   ],
   "source": [
    "df=df_summer.groupby('season')['s.no'].sum()\n",
    "df"
   ]
  },
  {
   "cell_type": "code",
   "execution_count": null,
   "id": "84641e75",
   "metadata": {},
   "outputs": [],
   "source": [
    "#5. Create a rainy season  rainyseason_names.xlsx file and import file in spyder  (atleast 2 names, columns are MonthName*Season)"
   ]
  },
  {
   "cell_type": "code",
   "execution_count": 14,
   "id": "fc6c7d4f",
   "metadata": {},
   "outputs": [
    {
     "data": {
      "text/html": [
       "<div>\n",
       "<style scoped>\n",
       "    .dataframe tbody tr th:only-of-type {\n",
       "        vertical-align: middle;\n",
       "    }\n",
       "\n",
       "    .dataframe tbody tr th {\n",
       "        vertical-align: top;\n",
       "    }\n",
       "\n",
       "    .dataframe thead th {\n",
       "        text-align: right;\n",
       "    }\n",
       "</style>\n",
       "<table border=\"1\" class=\"dataframe\">\n",
       "  <thead>\n",
       "    <tr style=\"text-align: right;\">\n",
       "      <th></th>\n",
       "      <th>s.no</th>\n",
       "      <th>month_names</th>\n",
       "      <th>season</th>\n",
       "    </tr>\n",
       "  </thead>\n",
       "  <tbody>\n",
       "    <tr>\n",
       "      <th>0</th>\n",
       "      <td>1</td>\n",
       "      <td>august</td>\n",
       "      <td>rainy</td>\n",
       "    </tr>\n",
       "    <tr>\n",
       "      <th>1</th>\n",
       "      <td>2</td>\n",
       "      <td>september</td>\n",
       "      <td>rainy</td>\n",
       "    </tr>\n",
       "  </tbody>\n",
       "</table>\n",
       "</div>"
      ],
      "text/plain": [
       "   s.no month_names season\n",
       "0     1      august  rainy\n",
       "1     2   september  rainy"
      ]
     },
     "execution_count": 14,
     "metadata": {},
     "output_type": "execute_result"
    }
   ],
   "source": [
    "import pandas as pd\n",
    "df_rainy=pd.read_excel(r\"C:\\Users\\hp\\OneDrive\\Documents\\assignment_13\\rainy_season.xlsx\")\n",
    "df_rainy"
   ]
  },
  {
   "cell_type": "code",
   "execution_count": null,
   "id": "79dc809a",
   "metadata": {},
   "outputs": [],
   "source": [
    "#6. Summarize data by Season wise no.of months."
   ]
  },
  {
   "cell_type": "code",
   "execution_count": 15,
   "id": "3d1bd591",
   "metadata": {},
   "outputs": [
    {
     "data": {
      "text/plain": [
       "season\n",
       "rainy    2\n",
       "Name: s.no, dtype: int64"
      ]
     },
     "execution_count": 15,
     "metadata": {},
     "output_type": "execute_result"
    }
   ],
   "source": [
    "df=df_rainy.groupby('season')['s.no'].count()\n",
    "df"
   ]
  },
  {
   "cell_type": "code",
   "execution_count": 16,
   "id": "7081b1c7",
   "metadata": {},
   "outputs": [
    {
     "data": {
      "text/plain": [
       "season\n",
       "rainy    3\n",
       "Name: s.no, dtype: int64"
      ]
     },
     "execution_count": 16,
     "metadata": {},
     "output_type": "execute_result"
    }
   ],
   "source": [
    "df=df_rainy.groupby('season')['s.no'].sum()\n",
    "df"
   ]
  },
  {
   "cell_type": "code",
   "execution_count": null,
   "id": "089b480c",
   "metadata": {},
   "outputs": [],
   "source": [
    "#Q8>Create and import file\n",
    "#1. Create a red colour flowers redflowers_names.xlsx file and import file in spyder   (atleast 3 names, columns are FlowerName*color)\n",
    "#2. Summarize data by color wise no.of flowers.\n",
    "#3. Create a white colour flowers whiteflowers_names.xlsx file  and import file in spyder  (atleast 3 names, columns are FlowerName*color)\n",
    "#4. Summarize data by color wise no.of flowers.\n",
    "#5. Create a pink colour flowers whiteflowers_names.xlsx file and import file in spyder   (atleast 3 names, columns are FlowerName*color)\n",
    "#6. Summarize data by color wise no.of flowers.\n",
    "#7. Create a yellow colour flowers whiteflowers_names.xlsx file and import file in spyder   (atleast 3 names, columns are FlowerName*col8. Summarize data by color wise no.of flowers."
   ]
  },
  {
   "cell_type": "code",
   "execution_count": null,
   "id": "6f365c78",
   "metadata": {},
   "outputs": [],
   "source": [
    "#1. Create a red colour flowers redflowers_names.xlsx file and import file in spyder   (atleast 3 names, columns are FlowerName*color)"
   ]
  },
  {
   "cell_type": "code",
   "execution_count": 20,
   "id": "dd288a18",
   "metadata": {},
   "outputs": [
    {
     "data": {
      "text/html": [
       "<div>\n",
       "<style scoped>\n",
       "    .dataframe tbody tr th:only-of-type {\n",
       "        vertical-align: middle;\n",
       "    }\n",
       "\n",
       "    .dataframe tbody tr th {\n",
       "        vertical-align: top;\n",
       "    }\n",
       "\n",
       "    .dataframe thead th {\n",
       "        text-align: right;\n",
       "    }\n",
       "</style>\n",
       "<table border=\"1\" class=\"dataframe\">\n",
       "  <thead>\n",
       "    <tr style=\"text-align: right;\">\n",
       "      <th></th>\n",
       "      <th>s.no</th>\n",
       "      <th>colour</th>\n",
       "      <th>flower</th>\n",
       "      <th>Unnamed: 3</th>\n",
       "      <th>Unnamed: 4</th>\n",
       "    </tr>\n",
       "  </thead>\n",
       "  <tbody>\n",
       "    <tr>\n",
       "      <th>0</th>\n",
       "      <td>1.0</td>\n",
       "      <td>red</td>\n",
       "      <td>rose</td>\n",
       "      <td>NaN</td>\n",
       "      <td>NaN</td>\n",
       "    </tr>\n",
       "    <tr>\n",
       "      <th>1</th>\n",
       "      <td>2.0</td>\n",
       "      <td>red</td>\n",
       "      <td>camomila</td>\n",
       "      <td>NaN</td>\n",
       "      <td>NaN</td>\n",
       "    </tr>\n",
       "    <tr>\n",
       "      <th>2</th>\n",
       "      <td>3.0</td>\n",
       "      <td>red</td>\n",
       "      <td>hibiscus</td>\n",
       "      <td>NaN</td>\n",
       "      <td>NaN</td>\n",
       "    </tr>\n",
       "    <tr>\n",
       "      <th>3</th>\n",
       "      <td>NaN</td>\n",
       "      <td>NaN</td>\n",
       "      <td>NaN</td>\n",
       "      <td>NaN</td>\n",
       "      <td>s</td>\n",
       "    </tr>\n",
       "  </tbody>\n",
       "</table>\n",
       "</div>"
      ],
      "text/plain": [
       "   s.no colour    flower  Unnamed: 3 Unnamed: 4\n",
       "0   1.0    red      rose         NaN        NaN\n",
       "1   2.0    red  camomila         NaN        NaN\n",
       "2   3.0    red  hibiscus         NaN        NaN\n",
       "3   NaN    NaN       NaN         NaN          s"
      ]
     },
     "execution_count": 20,
     "metadata": {},
     "output_type": "execute_result"
    }
   ],
   "source": [
    "import pandas as pd\n",
    "df_red=pd.read_excel(r\"C:\\Users\\hp\\OneDrive\\Documents\\assignment_13\\red_flowers.xlsx\")\n",
    "df_red"
   ]
  },
  {
   "cell_type": "code",
   "execution_count": null,
   "id": "01a78902",
   "metadata": {},
   "outputs": [],
   "source": [
    "#2. Summarize data by color wise no.of flowers."
   ]
  },
  {
   "cell_type": "code",
   "execution_count": null,
   "id": "4a32ebae",
   "metadata": {},
   "outputs": [],
   "source": [
    "df=df_red.groupby('colour')"
   ]
  },
  {
   "cell_type": "code",
   "execution_count": null,
   "id": "6274043b",
   "metadata": {},
   "outputs": [],
   "source": [
    "#3. Create a white colour flowers whiteflowers_names.xlsx file  and import file in spyder  (atleast 3 names, columns are FlowerName*color)"
   ]
  },
  {
   "cell_type": "code",
   "execution_count": 21,
   "id": "2169e8a3",
   "metadata": {},
   "outputs": [
    {
     "data": {
      "text/html": [
       "<div>\n",
       "<style scoped>\n",
       "    .dataframe tbody tr th:only-of-type {\n",
       "        vertical-align: middle;\n",
       "    }\n",
       "\n",
       "    .dataframe tbody tr th {\n",
       "        vertical-align: top;\n",
       "    }\n",
       "\n",
       "    .dataframe thead th {\n",
       "        text-align: right;\n",
       "    }\n",
       "</style>\n",
       "<table border=\"1\" class=\"dataframe\">\n",
       "  <thead>\n",
       "    <tr style=\"text-align: right;\">\n",
       "      <th></th>\n",
       "      <th>s.no</th>\n",
       "      <th>colour</th>\n",
       "      <th>flower</th>\n",
       "    </tr>\n",
       "  </thead>\n",
       "  <tbody>\n",
       "    <tr>\n",
       "      <th>0</th>\n",
       "      <td>1</td>\n",
       "      <td>white</td>\n",
       "      <td>rose</td>\n",
       "    </tr>\n",
       "    <tr>\n",
       "      <th>1</th>\n",
       "      <td>2</td>\n",
       "      <td>white</td>\n",
       "      <td>lily</td>\n",
       "    </tr>\n",
       "    <tr>\n",
       "      <th>2</th>\n",
       "      <td>3</td>\n",
       "      <td>white</td>\n",
       "      <td>lotus</td>\n",
       "    </tr>\n",
       "  </tbody>\n",
       "</table>\n",
       "</div>"
      ],
      "text/plain": [
       "   s.no colour flower\n",
       "0     1  white   rose\n",
       "1     2  white   lily\n",
       "2     3  white  lotus"
      ]
     },
     "execution_count": 21,
     "metadata": {},
     "output_type": "execute_result"
    }
   ],
   "source": [
    "import pandas as pd\n",
    "df_white=pd.read_excel(r\"C:\\Users\\hp\\OneDrive\\Documents\\assignment_13\\white_flowers.xlsx\")\n",
    "df_white"
   ]
  },
  {
   "cell_type": "code",
   "execution_count": null,
   "id": "8f903ca4",
   "metadata": {},
   "outputs": [],
   "source": [
    "#4. Summarize data by color wise no.of flowers."
   ]
  },
  {
   "cell_type": "code",
   "execution_count": 22,
   "id": "a425f9a2",
   "metadata": {},
   "outputs": [
    {
     "data": {
      "text/plain": [
       "colour\n",
       "white    3\n",
       "Name: s.no, dtype: int64"
      ]
     },
     "execution_count": 22,
     "metadata": {},
     "output_type": "execute_result"
    }
   ],
   "source": [
    "df=df_white.groupby('colour')['s.no'].count()\n",
    "df"
   ]
  },
  {
   "cell_type": "code",
   "execution_count": 23,
   "id": "53695bf5",
   "metadata": {},
   "outputs": [
    {
     "data": {
      "text/plain": [
       "colour\n",
       "white    6\n",
       "Name: s.no, dtype: int64"
      ]
     },
     "execution_count": 23,
     "metadata": {},
     "output_type": "execute_result"
    }
   ],
   "source": [
    "df=df_white.groupby('colour')['s.no'].sum()\n",
    "df"
   ]
  },
  {
   "cell_type": "code",
   "execution_count": null,
   "id": "669322e3",
   "metadata": {},
   "outputs": [],
   "source": [
    "#5. Create a pink colour flowers whiteflowers_names.xlsx file and import file in spyder   (atleast 3 names, columns are FlowerName*color)"
   ]
  },
  {
   "cell_type": "code",
   "execution_count": 24,
   "id": "2d0b07b4",
   "metadata": {},
   "outputs": [
    {
     "data": {
      "text/html": [
       "<div>\n",
       "<style scoped>\n",
       "    .dataframe tbody tr th:only-of-type {\n",
       "        vertical-align: middle;\n",
       "    }\n",
       "\n",
       "    .dataframe tbody tr th {\n",
       "        vertical-align: top;\n",
       "    }\n",
       "\n",
       "    .dataframe thead th {\n",
       "        text-align: right;\n",
       "    }\n",
       "</style>\n",
       "<table border=\"1\" class=\"dataframe\">\n",
       "  <thead>\n",
       "    <tr style=\"text-align: right;\">\n",
       "      <th></th>\n",
       "      <th>s.no</th>\n",
       "      <th>colour</th>\n",
       "      <th>flower</th>\n",
       "    </tr>\n",
       "  </thead>\n",
       "  <tbody>\n",
       "    <tr>\n",
       "      <th>0</th>\n",
       "      <td>1</td>\n",
       "      <td>pink</td>\n",
       "      <td>lotus</td>\n",
       "    </tr>\n",
       "    <tr>\n",
       "      <th>1</th>\n",
       "      <td>2</td>\n",
       "      <td>pink</td>\n",
       "      <td>rose</td>\n",
       "    </tr>\n",
       "    <tr>\n",
       "      <th>2</th>\n",
       "      <td>3</td>\n",
       "      <td>pink</td>\n",
       "      <td>oleander</td>\n",
       "    </tr>\n",
       "  </tbody>\n",
       "</table>\n",
       "</div>"
      ],
      "text/plain": [
       "   s.no colour    flower\n",
       "0     1   pink     lotus\n",
       "1     2   pink      rose\n",
       "2     3   pink  oleander"
      ]
     },
     "execution_count": 24,
     "metadata": {},
     "output_type": "execute_result"
    }
   ],
   "source": [
    "import pandas as pd\n",
    "df_pink=pd.read_excel(r\"C:\\Users\\hp\\OneDrive\\Documents\\assignment_13\\pink_flowers.xlsx\")\n",
    "df_pink"
   ]
  },
  {
   "cell_type": "code",
   "execution_count": null,
   "id": "d0e74ede",
   "metadata": {},
   "outputs": [],
   "source": [
    "#6. Summarize data by color wise no.of flowers."
   ]
  },
  {
   "cell_type": "code",
   "execution_count": null,
   "id": "b443f9c4",
   "metadata": {},
   "outputs": [],
   "source": []
  },
  {
   "cell_type": "code",
   "execution_count": null,
   "id": "fb8e6124",
   "metadata": {},
   "outputs": [],
   "source": [
    "#7. Create a yellow colour flowers whiteflowers_names.xlsx file and import file in spyder   (atleast 3 names, columns are FlowerName*col8. Summarize data by color wise no.of flowers."
   ]
  },
  {
   "cell_type": "code",
   "execution_count": null,
   "id": "bb6c5c1d",
   "metadata": {},
   "outputs": [],
   "source": []
  }
 ],
 "metadata": {
  "kernelspec": {
   "display_name": "Python 3 (ipykernel)",
   "language": "python",
   "name": "python3"
  },
  "language_info": {
   "codemirror_mode": {
    "name": "ipython",
    "version": 3
   },
   "file_extension": ".py",
   "mimetype": "text/x-python",
   "name": "python",
   "nbconvert_exporter": "python",
   "pygments_lexer": "ipython3",
   "version": "3.10.9"
  }
 },
 "nbformat": 4,
 "nbformat_minor": 5
}
