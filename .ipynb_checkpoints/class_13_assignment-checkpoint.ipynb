{
 "cells": [
  {
   "cell_type": "code",
   "execution_count": null,
   "id": "d35fce71",
   "metadata": {},
   "outputs": [],
   "source": [
    "#Task: create a program\n",
    "#Q1>Create and import file\n",
    "#1. Create schoolmets and collegements friends_names.xls file and import file in spyder (atleast 10 names, columns are FriendName,Quality) ,\n",
    "#2. Summarize data by quality wise no.of friends .\n",
    "#Example: quality | no.of freind\n",
    "#\t\t\tfunny | 2"
   ]
  },
  {
   "cell_type": "code",
   "execution_count": null,
   "id": "c125531b",
   "metadata": {},
   "outputs": [],
   "source": []
  },
  {
   "cell_type": "code",
   "execution_count": null,
   "id": "26f5426c",
   "metadata": {},
   "outputs": [],
   "source": []
  },
  {
   "cell_type": "code",
   "execution_count": null,
   "id": "c22583e4",
   "metadata": {},
   "outputs": [],
   "source": []
  },
  {
   "cell_type": "code",
   "execution_count": null,
   "id": "54b70003",
   "metadata": {},
   "outputs": [],
   "source": []
  },
  {
   "cell_type": "code",
   "execution_count": null,
   "id": "79be5c6a",
   "metadata": {},
   "outputs": [],
   "source": []
  },
  {
   "cell_type": "code",
   "execution_count": null,
   "id": "afa46d9b",
   "metadata": {},
   "outputs": [],
   "source": [
    "#Q2>Create and import file\n",
    "#1. Create boys Boysfriend_names.xls file and import file in spyder (atleast 10 names, columns are FriendName,Quality)  \n",
    "#2. Summarize data by quality wise no.of friends .\n",
    "#3. Create girls Girlsfriend_names.xls file  and import file in spyder (atleast 10 names, columns are FriendName,Quality) \n",
    "#4. Summarize data by quality wise no.of friends ."
   ]
  },
  {
   "cell_type": "code",
   "execution_count": null,
   "id": "f2317a66",
   "metadata": {},
   "outputs": [],
   "source": []
  },
  {
   "cell_type": "code",
   "execution_count": null,
   "id": "efd053f3",
   "metadata": {},
   "outputs": [],
   "source": []
  },
  {
   "cell_type": "code",
   "execution_count": null,
   "id": "4ff2a4c8",
   "metadata": {},
   "outputs": [],
   "source": []
  },
  {
   "cell_type": "code",
   "execution_count": null,
   "id": "ae01855b",
   "metadata": {},
   "outputs": [],
   "source": []
  },
  {
   "cell_type": "code",
   "execution_count": null,
   "id": "0abd48e2",
   "metadata": {},
   "outputs": [],
   "source": []
  },
  {
   "cell_type": "code",
   "execution_count": null,
   "id": "a4686540",
   "metadata": {},
   "outputs": [],
   "source": [
    "#Q3>Create and import file\n",
    "#1. Create a father side fatherfamily_members.xls file and import file in spyder  (atleast 5 names, columns are FamilyMemberName*Relation)\n",
    "#2. Summarize data by relation wise no.of familymembers .\n",
    "#3. Create a mother side montherfamily_members.xls file and import file in spyder  (atleast 5 names, columns are FamilyMemberName*Relation)\n",
    "#4. Summarize data by relation wise no.of familymembers ."
   ]
  },
  {
   "cell_type": "code",
   "execution_count": null,
   "id": "64db16b9",
   "metadata": {},
   "outputs": [],
   "source": []
  },
  {
   "cell_type": "code",
   "execution_count": null,
   "id": "67430a24",
   "metadata": {},
   "outputs": [],
   "source": []
  },
  {
   "cell_type": "code",
   "execution_count": null,
   "id": "9cfe848d",
   "metadata": {},
   "outputs": [],
   "source": []
  },
  {
   "cell_type": "code",
   "execution_count": null,
   "id": "7ed1f1b3",
   "metadata": {},
   "outputs": [],
   "source": []
  },
  {
   "cell_type": "code",
   "execution_count": null,
   "id": "4b28ef02",
   "metadata": {},
   "outputs": [],
   "source": []
  },
  {
   "cell_type": "code",
   "execution_count": null,
   "id": "40f17467",
   "metadata": {},
   "outputs": [],
   "source": [
    "#Q4>Create and import file\n",
    "#1. Create a Dal related  dal_items.xlsx file and import file in spyder (atleast 5 names, columns are VegFoodName*Taste)\n",
    "#2. Summarize data by taste wise no.of fooditems.\n",
    "#3. Create a vegitable related  vegitable_items.xlsx file and import file in spyder (atleast 5 names, columns are VegFoodName*Taste)\n",
    "#4. Summarize data by taste wise no.of fooditems."
   ]
  },
  {
   "cell_type": "code",
   "execution_count": null,
   "id": "29299118",
   "metadata": {},
   "outputs": [],
   "source": []
  },
  {
   "cell_type": "code",
   "execution_count": null,
   "id": "e5008839",
   "metadata": {},
   "outputs": [],
   "source": []
  },
  {
   "cell_type": "code",
   "execution_count": null,
   "id": "284902fd",
   "metadata": {},
   "outputs": [],
   "source": []
  },
  {
   "cell_type": "code",
   "execution_count": null,
   "id": "60ef83de",
   "metadata": {},
   "outputs": [],
   "source": []
  },
  {
   "cell_type": "code",
   "execution_count": null,
   "id": "8a5a24f8",
   "metadata": {},
   "outputs": [],
   "source": []
  },
  {
   "cell_type": "code",
   "execution_count": null,
   "id": "f1aeee0c",
   "metadata": {},
   "outputs": [],
   "source": [
    "#Q5>Create and import file\n",
    "#1. Create a soups related  soups_items.xlsx file and import file in spyder (atleast 5 names, columns are soups*Taste)\n",
    "#2. Summarize data by taste wise no.of fooditems.\n",
    "#3. Create a fry related  fry_items.xlsx file and import file in spyder (atleast 5 names, columns are fry*Taste)\n",
    "#4. Summarize data by taste wise no.of fooditems."
   ]
  },
  {
   "cell_type": "code",
   "execution_count": null,
   "id": "af976a9d",
   "metadata": {},
   "outputs": [],
   "source": []
  },
  {
   "cell_type": "code",
   "execution_count": null,
   "id": "c43007e8",
   "metadata": {},
   "outputs": [],
   "source": []
  },
  {
   "cell_type": "code",
   "execution_count": null,
   "id": "a5d66c00",
   "metadata": {},
   "outputs": [],
   "source": []
  },
  {
   "cell_type": "code",
   "execution_count": null,
   "id": "b4b4edd3",
   "metadata": {},
   "outputs": [],
   "source": []
  },
  {
   "cell_type": "code",
   "execution_count": null,
   "id": "049924ec",
   "metadata": {},
   "outputs": [],
   "source": []
  },
  {
   "cell_type": "code",
   "execution_count": null,
   "id": "3e71cec3",
   "metadata": {},
   "outputs": [],
   "source": [
    "#Q6>Create and import file\n",
    "#1. Create a Chicken related chicken_items.xlsx file and import file in spyder (atleast 5 names, columns are NonVegFoodName*Taste)\n",
    "#2. Summarize data by taste wise no.of fooditems.\n",
    "#3. Create a mutton related mutton_items.xlsx file and import file in spyder (atleast 5 names, columns are NonVegFoodName*Taste)\n",
    "#4. Summarize data by taste wise no.of fooditems."
   ]
  },
  {
   "cell_type": "code",
   "execution_count": null,
   "id": "ae941607",
   "metadata": {},
   "outputs": [],
   "source": []
  },
  {
   "cell_type": "code",
   "execution_count": null,
   "id": "36bbd6cf",
   "metadata": {},
   "outputs": [],
   "source": []
  },
  {
   "cell_type": "code",
   "execution_count": null,
   "id": "6e8d279b",
   "metadata": {},
   "outputs": [],
   "source": []
  },
  {
   "cell_type": "code",
   "execution_count": null,
   "id": "f27549d2",
   "metadata": {},
   "outputs": [],
   "source": []
  },
  {
   "cell_type": "code",
   "execution_count": null,
   "id": "966296f4",
   "metadata": {},
   "outputs": [],
   "source": []
  },
  {
   "cell_type": "code",
   "execution_count": null,
   "id": "523edc7f",
   "metadata": {},
   "outputs": [],
   "source": [
    "#Q7>Create and import file\n",
    "#1. Create a winter season  winterseason_names.xlsx file and import file in spyder  (atleast 2 names, columns are MonthName*Season)\n",
    "#2. Summarize data by Season wise no.of months.\n",
    "#3. Create a summer season  summerseason_names.xlsx file and import file in spyder  (atleast 2 names, columns are MonthName*Season)\n",
    "#4. Summarize data by Season wise no.of months.\n",
    "#5. Create a rainy season  rainyseason_names.xlsx file and import file in spyder  (atleast 2 names, columns are MonthName*Season)\n",
    "#6. Summarize data by Season wise no.of months."
   ]
  },
  {
   "cell_type": "code",
   "execution_count": null,
   "id": "6983ec7b",
   "metadata": {},
   "outputs": [],
   "source": []
  },
  {
   "cell_type": "code",
   "execution_count": null,
   "id": "8e431907",
   "metadata": {},
   "outputs": [],
   "source": []
  },
  {
   "cell_type": "code",
   "execution_count": null,
   "id": "53d91bfe",
   "metadata": {},
   "outputs": [],
   "source": []
  },
  {
   "cell_type": "code",
   "execution_count": null,
   "id": "2f5c6daf",
   "metadata": {},
   "outputs": [],
   "source": []
  },
  {
   "cell_type": "code",
   "execution_count": null,
   "id": "5a9fcf92",
   "metadata": {},
   "outputs": [],
   "source": []
  },
  {
   "cell_type": "code",
   "execution_count": null,
   "id": "7424e659",
   "metadata": {},
   "outputs": [],
   "source": [
    "#Q8>Create and import file\n",
    "#1. Create a red colour flowers redflowers_names.xlsx file and import file in spyder   (atleast 3 names, columns are FlowerName*color)\n",
    "#2. Summarize data by color wise no.of flowers.\n",
    "#3. Create a white colour flowers whiteflowers_names.xlsx file  and import file in spyder  (atleast 3 names, columns are FlowerName*color)\n",
    "#4. Summarize data by color wise no.of flowers.\n",
    "#5. Create a pink colour flowers whiteflowers_names.xlsx file and import file in spyder   (atleast 3 names, columns are FlowerName*color)\n",
    "#6. Summarize data by color wise no.of flowers.\n",
    "#7. Create a yellow colour flowers whiteflowers_names.xlsx file and import file in spyder   (atleast 3 names, columns are FlowerName*color)\n",
    "#8. Summarize data by color wise no.of flowers."
   ]
  },
  {
   "cell_type": "code",
   "execution_count": null,
   "id": "4ba3fce9",
   "metadata": {},
   "outputs": [],
   "source": []
  },
  {
   "cell_type": "code",
   "execution_count": null,
   "id": "319525db",
   "metadata": {},
   "outputs": [],
   "source": []
  }
 ],
 "metadata": {
  "kernelspec": {
   "display_name": "Python 3 (ipykernel)",
   "language": "python",
   "name": "python3"
  },
  "language_info": {
   "codemirror_mode": {
    "name": "ipython",
    "version": 3
   },
   "file_extension": ".py",
   "mimetype": "text/x-python",
   "name": "python",
   "nbconvert_exporter": "python",
   "pygments_lexer": "ipython3",
   "version": "3.10.9"
  }
 },
 "nbformat": 4,
 "nbformat_minor": 5
}
