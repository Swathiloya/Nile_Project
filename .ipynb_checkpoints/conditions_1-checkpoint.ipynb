{
 "cells": [
  {
   "cell_type": "code",
   "execution_count": null,
   "id": "effb5f67",
   "metadata": {},
   "outputs": [],
   "source": [
    "mart=\"relince_mart\"\n",
    "cust=\"prasanna\"\n",
    "items=\"veg\"\n",
    "\n",
    "items_ovral_amt=1000\n",
    "sub_veg_ovral_amt=500\n",
    "sub_groc_ovral_amt=250\n",
    "sub_food_ovral_amt=250\n",
    "\n",
    "if mart==\"relince_mart\":\n",
    "    if cust==\"prasanna\":\n",
    "        if items==\"veg\":\n",
    "            discount=0.30\n",
    "            after_discount=sub_veg_ovral_amt*discount\n",
    "            veg_after=sub_veg_ovral_amt-after_discount\n",
    "            print(\"this is veg\",veg_after)\n",
    "        elif items==\"groc\" :\n",
    "            discount=0.10\n",
    "            after_discount=sub_groc_ovral_amt*discount\n",
    "            veg_after=sub_groc_ovral_amt-after_discount\n",
    "            after_discount=sub_veg_ovral_amt*discount\n",
    "            after_discount=sub_veg_ovral_amt*discount\n",
    "            print(\"this is groc\",groc_after)\n",
    "        elif items==\"food\":\n",
    "            discount=0.05\n",
    "            after_discount=sub_food_ovral_amt*discount\n",
    "            veg_after=sub_food_ovral_amt-after_discount\n",
    "            print(\"this is food\",food_after)\n",
    "        else:\n",
    "            print(\"no items avalalible\")\n",
    "    \n",
    "        print(\"this is customer\")\n"
   ]
  },
  {
   "cell_type": "code",
   "execution_count": 5,
   "id": "956ce6eb",
   "metadata": {},
   "outputs": [
    {
     "name": "stdout",
     "output_type": "stream",
     "text": [
      "this is veg 350.0\n",
      "this is customer\n"
     ]
    }
   ],
   "source": [
    "mart=\"relince_mart\"\n",
    "cust=\"prasanna\"\n",
    "items=\"veg\"\n",
    "\n",
    "items_ovral_amt=1000\n",
    "sub_veg_ovral_amt=500\n",
    "sub_groc_ovral_amt=250\n",
    "sub_food_ovral_amt=250\n",
    "\n",
    "if mart==\"relince_mart\":\n",
    "    if cust==\"prasanna\":\n",
    "        if items==\"veg\":\n",
    "            discount=0.30\n",
    "            after_discount=sub_veg_ovral_amt*discount\n",
    "            veg_after=sub_veg_ovral_amt-after_discount\n",
    "            print(\"this is veg\",veg_after)\n",
    "        elif items==\"groc\" :\n",
    "            discount=0.10\n",
    "            after_discount=sub_groc_ovral_amt*discount\n",
    "            veg_after=sub_groc_ovral_amt-after_discount\n",
    "            after_discount=sub_veg_ovral_amt*discount\n",
    "            after_discount=sub_veg_ovral_amt*discount\n",
    "            print(\"this is groc\",groc_after)\n",
    "        elif items==\"food\":\n",
    "            discount=0.05\n",
    "            after_discount=sub_food_ovral_amt*discount\n",
    "            veg_after=sub_food_ovral_amt-after_discount\n",
    "            print(\"this is food\",food_after)\n",
    "        else:\n",
    "            print(\"no items availble\n"
   ]
  },
  {
   "cell_type": "code",
   "execution_count": null,
   "id": "ce10dc24",
   "metadata": {},
   "outputs": [],
   "source": []
  }
 ],
 "metadata": {
  "kernelspec": {
   "display_name": "Python 3 (ipykernel)",
   "language": "python",
   "name": "python3"
  },
  "language_info": {
   "codemirror_mode": {
    "name": "ipython",
    "version": 3
   },
   "file_extension": ".py",
   "mimetype": "text/x-python",
   "name": "python",
   "nbconvert_exporter": "python",
   "pygments_lexer": "ipython3",
   "version": "3.10.9"
  }
 },
 "nbformat": 4,
 "nbformat_minor": 5
}
