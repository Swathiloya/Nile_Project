{
 "cells": [
  {
   "cell_type": "code",
   "execution_count": null,
   "id": "bff3727d",
   "metadata": {},
   "outputs": [],
   "source": [
    "-------->#int"
   ]
  },
  {
   "cell_type": "code",
   "execution_count": 1,
   "id": "e00bcf6c",
   "metadata": {},
   "outputs": [
    {
     "data": {
      "text/plain": [
       "100"
      ]
     },
     "execution_count": 1,
     "metadata": {},
     "output_type": "execute_result"
    }
   ],
   "source": [
    "a=100\n",
    "a"
   ]
  },
  {
   "cell_type": "code",
   "execution_count": 2,
   "id": "ab69f001",
   "metadata": {},
   "outputs": [
    {
     "name": "stdout",
     "output_type": "stream",
     "text": [
      "100\n"
     ]
    }
   ],
   "source": [
    "print(a)"
   ]
  },
  {
   "cell_type": "code",
   "execution_count": 4,
   "id": "dea0585b",
   "metadata": {},
   "outputs": [
    {
     "data": {
      "text/plain": [
       "int"
      ]
     },
     "execution_count": 4,
     "metadata": {},
     "output_type": "execute_result"
    }
   ],
   "source": [
    "type(a)"
   ]
  },
  {
   "cell_type": "code",
   "execution_count": null,
   "id": "701a8635",
   "metadata": {},
   "outputs": [],
   "source": [
    "-------->#float"
   ]
  },
  {
   "cell_type": "code",
   "execution_count": 3,
   "id": "f4aa8014",
   "metadata": {},
   "outputs": [
    {
     "data": {
      "text/plain": [
       "100.245"
      ]
     },
     "execution_count": 3,
     "metadata": {},
     "output_type": "execute_result"
    }
   ],
   "source": [
    "z=100.245\n",
    "z"
   ]
  },
  {
   "cell_type": "code",
   "execution_count": 4,
   "id": "0980bcd3",
   "metadata": {},
   "outputs": [
    {
     "name": "stdout",
     "output_type": "stream",
     "text": [
      "100.245\n"
     ]
    }
   ],
   "source": [
    "print(z)"
   ]
  },
  {
   "cell_type": "code",
   "execution_count": 6,
   "id": "1ed99238",
   "metadata": {},
   "outputs": [
    {
     "data": {
      "text/plain": [
       "float"
      ]
     },
     "execution_count": 6,
     "metadata": {},
     "output_type": "execute_result"
    }
   ],
   "source": [
    "type(z)"
   ]
  },
  {
   "cell_type": "code",
   "execution_count": null,
   "id": "4348b31c",
   "metadata": {},
   "outputs": [],
   "source": [
    "--------->#str"
   ]
  },
  {
   "cell_type": "code",
   "execution_count": 7,
   "id": "f88a59d4",
   "metadata": {},
   "outputs": [
    {
     "data": {
      "text/plain": [
       "'prasanna'"
      ]
     },
     "execution_count": 7,
     "metadata": {},
     "output_type": "execute_result"
    }
   ],
   "source": [
    "name='prasanna'\n",
    "name"
   ]
  },
  {
   "cell_type": "code",
   "execution_count": 8,
   "id": "a53deeaf",
   "metadata": {},
   "outputs": [
    {
     "name": "stdout",
     "output_type": "stream",
     "text": [
      "prasanna\n"
     ]
    }
   ],
   "source": [
    "print(name)"
   ]
  },
  {
   "cell_type": "code",
   "execution_count": 9,
   "id": "a4a68f73",
   "metadata": {},
   "outputs": [
    {
     "name": "stdout",
     "output_type": "stream",
     "text": [
      "my friend name is prasanna\n"
     ]
    }
   ],
   "source": [
    "print('my friend name is',name)"
   ]
  },
  {
   "cell_type": "code",
   "execution_count": null,
   "id": "259774fc",
   "metadata": {},
   "outputs": [],
   "source": [
    "----------->#list[]"
   ]
  },
  {
   "cell_type": "code",
   "execution_count": 14,
   "id": "ee44245a",
   "metadata": {},
   "outputs": [
    {
     "data": {
      "text/plain": [
       "['swathi', 'shaheena', 'prasanna', 'bujji']"
      ]
     },
     "execution_count": 14,
     "metadata": {},
     "output_type": "execute_result"
    }
   ],
   "source": [
    "names=['swathi','shaheena','prasanna','bujji']\n",
    "names"
   ]
  },
  {
   "cell_type": "code",
   "execution_count": 12,
   "id": "c8ce9f1f",
   "metadata": {},
   "outputs": [
    {
     "name": "stdout",
     "output_type": "stream",
     "text": [
      "['swathi', 'shaheena', 'prasanna', 'bujji']\n"
     ]
    }
   ],
   "source": [
    "print(names)"
   ]
  },
  {
   "cell_type": "code",
   "execution_count": 13,
   "id": "db3ad51d",
   "metadata": {},
   "outputs": [
    {
     "data": {
      "text/plain": [
       "list"
      ]
     },
     "execution_count": 13,
     "metadata": {},
     "output_type": "execute_result"
    }
   ],
   "source": [
    "type(names)"
   ]
  },
  {
   "cell_type": "code",
   "execution_count": null,
   "id": "d74a2c85",
   "metadata": {},
   "outputs": [],
   "source": [
    "----------->#Sliceing"
   ]
  },
  {
   "cell_type": "code",
   "execution_count": 29,
   "id": "f5b574a3",
   "metadata": {
    "scrolled": true
   },
   "outputs": [
    {
     "data": {
      "text/plain": [
       "['swathi', 'shaheena', 'prasanna', 'bujji']"
      ]
     },
     "execution_count": 29,
     "metadata": {},
     "output_type": "execute_result"
    }
   ],
   "source": [
    "name=['swathi','shaheena','prasanna','bujji']\n",
    "name"
   ]
  },
  {
   "cell_type": "code",
   "execution_count": 30,
   "id": "1945dce7",
   "metadata": {},
   "outputs": [
    {
     "data": {
      "text/plain": [
       "['kavitha', 'shaheena', 'prasanna', 'bujji']"
      ]
     },
     "execution_count": 30,
     "metadata": {},
     "output_type": "execute_result"
    }
   ],
   "source": [
    "name[0]='kavitha'\n",
    "name"
   ]
  },
  {
   "cell_type": "code",
   "execution_count": 31,
   "id": "2664a8ab",
   "metadata": {},
   "outputs": [
    {
     "data": {
      "text/plain": [
       "['kavitha', 'shaheena', 'prasanna', 'manasa']"
      ]
     },
     "execution_count": 31,
     "metadata": {},
     "output_type": "execute_result"
    }
   ],
   "source": [
    "name[3]='manasa'\n",
    "name"
   ]
  },
  {
   "cell_type": "code",
   "execution_count": null,
   "id": "e1e554a4",
   "metadata": {},
   "outputs": [],
   "source": [
    "----------->#tuple"
   ]
  },
  {
   "cell_type": "code",
   "execution_count": 10,
   "id": "a0ea081c",
   "metadata": {},
   "outputs": [
    {
     "data": {
      "text/plain": [
       "('anitha', 'vanaja', 'rani', 'bujji')"
      ]
     },
     "execution_count": 10,
     "metadata": {},
     "output_type": "execute_result"
    }
   ],
   "source": [
    "friends=('anitha','vanaja','rani','bujji')\n",
    "friends"
   ]
  },
  {
   "cell_type": "code",
   "execution_count": 11,
   "id": "8f2c6efd",
   "metadata": {},
   "outputs": [
    {
     "name": "stdout",
     "output_type": "stream",
     "text": [
      "('anitha', 'vanaja', 'rani', 'bujji')\n"
     ]
    }
   ],
   "source": [
    "print(friends)"
   ]
  },
  {
   "cell_type": "code",
   "execution_count": 12,
   "id": "75e4eec6",
   "metadata": {},
   "outputs": [
    {
     "data": {
      "text/plain": [
       "type"
      ]
     },
     "execution_count": 12,
     "metadata": {},
     "output_type": "execute_result"
    }
   ],
   "source": [
    "type(tuple)"
   ]
  },
  {
   "cell_type": "code",
   "execution_count": null,
   "id": "ff81277e",
   "metadata": {},
   "outputs": [],
   "source": [
    "----------->#Set"
   ]
  },
  {
   "cell_type": "code",
   "execution_count": 13,
   "id": "e596e58a",
   "metadata": {},
   "outputs": [],
   "source": [
    "family=[100,600,300,400,200,300,500]"
   ]
  },
  {
   "cell_type": "code",
   "execution_count": 15,
   "id": "190ed4e5",
   "metadata": {},
   "outputs": [
    {
     "data": {
      "text/plain": [
       "{100, 200, 300, 400, 500, 600}"
      ]
     },
     "execution_count": 15,
     "metadata": {},
     "output_type": "execute_result"
    }
   ],
   "source": [
    "family={100,600,300,400,200,300,500}\n",
    "family"
   ]
  },
  {
   "cell_type": "code",
   "execution_count": 16,
   "id": "2689c0e3",
   "metadata": {},
   "outputs": [
    {
     "name": "stdout",
     "output_type": "stream",
     "text": [
      "{400, 100, 500, 200, 600, 300}\n"
     ]
    }
   ],
   "source": [
    "print(family)"
   ]
  },
  {
   "cell_type": "code",
   "execution_count": 18,
   "id": "fe32edf2",
   "metadata": {},
   "outputs": [
    {
     "data": {
      "text/plain": [
       "set"
      ]
     },
     "execution_count": 18,
     "metadata": {},
     "output_type": "execute_result"
    }
   ],
   "source": [
    "type(family)"
   ]
  },
  {
   "cell_type": "code",
   "execution_count": null,
   "id": "38b91e70",
   "metadata": {},
   "outputs": [],
   "source": [
    "#dict"
   ]
  },
  {
   "cell_type": "code",
   "execution_count": 24,
   "id": "6035141b",
   "metadata": {},
   "outputs": [
    {
     "data": {
      "text/plain": [
       "{'Boys': ['raju', 'ravi', 'krishna', 'mohan', 'madhu'],\n",
       " 'marks': [65, 70, 85, 60, 90],\n",
       " 'girls': ['rani', 'vani', 'gita', 'kamala', 'thulasi']}"
      ]
     },
     "execution_count": 24,
     "metadata": {},
     "output_type": "execute_result"
    }
   ],
   "source": [
    "dict={'Boys':['raju','ravi','krishna','mohan','madhu'],'marks':[70,90,85,75,95,],'girls':['rani','vani','gita','kamala','thulasi'],'marks':[65,70,85,60,90]}\n",
    "dict"
   ]
  },
  {
   "cell_type": "code",
   "execution_count": 25,
   "id": "5ca016d0",
   "metadata": {},
   "outputs": [
    {
     "name": "stdout",
     "output_type": "stream",
     "text": [
      "{'Boys': ['raju', 'ravi', 'krishna', 'mohan', 'madhu'], 'marks': [65, 70, 85, 60, 90], 'girls': ['rani', 'vani', 'gita', 'kamala', 'thulasi']}\n"
     ]
    }
   ],
   "source": [
    "print(dict)"
   ]
  },
  {
   "cell_type": "code",
   "execution_count": 48,
   "id": "fba30eac",
   "metadata": {},
   "outputs": [
    {
     "data": {
      "text/plain": [
       "['raju', 'ravi', 'krishna', 'mohan']"
      ]
     },
     "execution_count": 48,
     "metadata": {},
     "output_type": "execute_result"
    }
   ],
   "source": [
    "dict['Boys'][0:4]  "
   ]
  },
  {
   "cell_type": "code",
   "execution_count": null,
   "id": "c19c4fa0",
   "metadata": {},
   "outputs": [],
   "source": [
    "#conditions"
   ]
  },
  {
   "cell_type": "code",
   "execution_count": null,
   "id": "33acad6e",
   "metadata": {},
   "outputs": [],
   "source": [
    "if------>true\n",
    "if else------->true or false and yes or no\n",
    "if elif else-------->more then two values"
   ]
  },
  {
   "cell_type": "code",
   "execution_count": null,
   "id": "d296baea",
   "metadata": {},
   "outputs": [],
   "source": [
    "apple=50:\n",
    "    print('my busines is prot)"
   ]
  },
  {
   "cell_type": "code",
   "execution_count": null,
   "id": "49949e0a",
   "metadata": {},
   "outputs": [],
   "source": []
  },
  {
   "cell_type": "code",
   "execution_count": null,
   "id": "12e9adff",
   "metadata": {},
   "outputs": [],
   "source": []
  },
  {
   "cell_type": "code",
   "execution_count": null,
   "id": "5a5f0b4e",
   "metadata": {},
   "outputs": [],
   "source": []
  },
  {
   "cell_type": "code",
   "execution_count": null,
   "id": "1269612f",
   "metadata": {},
   "outputs": [],
   "source": []
  },
  {
   "cell_type": "code",
   "execution_count": null,
   "id": "7e784685",
   "metadata": {},
   "outputs": [],
   "source": []
  }
 ],
 "metadata": {
  "kernelspec": {
   "display_name": "Python 3 (ipykernel)",
   "language": "python",
   "name": "python3"
  },
  "language_info": {
   "codemirror_mode": {
    "name": "ipython",
    "version": 3
   },
   "file_extension": ".py",
   "mimetype": "text/x-python",
   "name": "python",
   "nbconvert_exporter": "python",
   "pygments_lexer": "ipython3",
   "version": "3.10.9"
  }
 },
 "nbformat": 4,
 "nbformat_minor": 5
}
