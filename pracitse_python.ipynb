{
 "cells": [
  {
   "cell_type": "code",
   "execution_count": null,
   "id": "9a013a93",
   "metadata": {},
   "outputs": [],
   "source": [
    "#int"
   ]
  },
  {
   "cell_type": "code",
   "execution_count": 2,
   "id": "0e198b7b",
   "metadata": {},
   "outputs": [
    {
     "data": {
      "text/plain": [
       "100"
      ]
     },
     "execution_count": 2,
     "metadata": {},
     "output_type": "execute_result"
    }
   ],
   "source": [
    "a=100\n",
    "a"
   ]
  },
  {
   "cell_type": "code",
   "execution_count": 3,
   "id": "1c406f2e",
   "metadata": {},
   "outputs": [
    {
     "name": "stdout",
     "output_type": "stream",
     "text": [
      "100\n"
     ]
    }
   ],
   "source": [
    "print(a)"
   ]
  },
  {
   "cell_type": "code",
   "execution_count": 4,
   "id": "f6344072",
   "metadata": {},
   "outputs": [
    {
     "name": "stdout",
     "output_type": "stream",
     "text": [
      "a 100\n"
     ]
    }
   ],
   "source": [
    "print(\"a\",100)"
   ]
  },
  {
   "cell_type": "code",
   "execution_count": 7,
   "id": "b4c36fb1",
   "metadata": {},
   "outputs": [
    {
     "data": {
      "text/plain": [
       "int"
      ]
     },
     "execution_count": 7,
     "metadata": {},
     "output_type": "execute_result"
    }
   ],
   "source": [
    "type(a)"
   ]
  },
  {
   "cell_type": "code",
   "execution_count": null,
   "id": "56fa079e",
   "metadata": {},
   "outputs": [],
   "source": [
    "#float"
   ]
  },
  {
   "cell_type": "code",
   "execution_count": 1,
   "id": "c920cef7",
   "metadata": {},
   "outputs": [
    {
     "data": {
      "text/plain": [
       "200.4859"
      ]
     },
     "execution_count": 1,
     "metadata": {},
     "output_type": "execute_result"
    }
   ],
   "source": [
    "z=200.4859\n",
    "z"
   ]
  },
  {
   "cell_type": "code",
   "execution_count": 2,
   "id": "9a06781f",
   "metadata": {},
   "outputs": [
    {
     "data": {
      "text/plain": [
       "200.4859"
      ]
     },
     "execution_count": 2,
     "metadata": {},
     "output_type": "execute_result"
    }
   ],
   "source": [
    "z"
   ]
  },
  {
   "cell_type": "code",
   "execution_count": 3,
   "id": "4e8c38be",
   "metadata": {},
   "outputs": [
    {
     "name": "stdout",
     "output_type": "stream",
     "text": [
      "200.4859\n"
     ]
    }
   ],
   "source": [
    "print(z)"
   ]
  },
  {
   "cell_type": "code",
   "execution_count": 4,
   "id": "e186ea26",
   "metadata": {},
   "outputs": [
    {
     "data": {
      "text/plain": [
       "float"
      ]
     },
     "execution_count": 4,
     "metadata": {},
     "output_type": "execute_result"
    }
   ],
   "source": [
    "type(z)"
   ]
  },
  {
   "cell_type": "code",
   "execution_count": null,
   "id": "e22b98d2",
   "metadata": {},
   "outputs": [],
   "source": [
    "#str"
   ]
  },
  {
   "cell_type": "code",
   "execution_count": 10,
   "id": "2949c37f",
   "metadata": {},
   "outputs": [
    {
     "data": {
      "text/plain": [
       "'swathi'"
      ]
     },
     "execution_count": 10,
     "metadata": {},
     "output_type": "execute_result"
    }
   ],
   "source": [
    "name='swathi'\n",
    "name"
   ]
  },
  {
   "cell_type": "code",
   "execution_count": 11,
   "id": "736feb0a",
   "metadata": {},
   "outputs": [
    {
     "data": {
      "text/plain": [
       "'swathi'"
      ]
     },
     "execution_count": 11,
     "metadata": {},
     "output_type": "execute_result"
    }
   ],
   "source": [
    "name"
   ]
  },
  {
   "cell_type": "code",
   "execution_count": 12,
   "id": "399f0068",
   "metadata": {},
   "outputs": [
    {
     "name": "stdout",
     "output_type": "stream",
     "text": [
      "my name is swathi\n"
     ]
    }
   ],
   "source": [
    "print('my name is',name)"
   ]
  },
  {
   "cell_type": "code",
   "execution_count": 13,
   "id": "6ef13d47",
   "metadata": {},
   "outputs": [
    {
     "data": {
      "text/plain": [
       "str"
      ]
     },
     "execution_count": 13,
     "metadata": {},
     "output_type": "execute_result"
    }
   ],
   "source": [
    "type(name)"
   ]
  },
  {
   "cell_type": "code",
   "execution_count": null,
   "id": "8074324b",
   "metadata": {},
   "outputs": [],
   "source": [
    "#list[]"
   ]
  },
  {
   "cell_type": "code",
   "execution_count": 14,
   "id": "e1fe0e6c",
   "metadata": {},
   "outputs": [
    {
     "data": {
      "text/plain": [
       "['swathi', 'shaheena', 'prasanna', 'bujji']"
      ]
     },
     "execution_count": 14,
     "metadata": {},
     "output_type": "execute_result"
    }
   ],
   "source": [
    "names=['swathi','shaheena','prasanna','bujji']\n",
    "names"
   ]
  },
  {
   "cell_type": "code",
   "execution_count": 15,
   "id": "aab3970b",
   "metadata": {},
   "outputs": [
    {
     "data": {
      "text/plain": [
       "['swathi', 'shaheena', 'prasanna', 'bujji']"
      ]
     },
     "execution_count": 15,
     "metadata": {},
     "output_type": "execute_result"
    }
   ],
   "source": [
    "names[1]='shaheena'\n",
    "names"
   ]
  },
  {
   "cell_type": "code",
   "execution_count": 16,
   "id": "9e3eb763",
   "metadata": {},
   "outputs": [
    {
     "data": {
      "text/plain": [
       "['swathi', 'shaheena', 'prasanna', 'bujji']"
      ]
     },
     "execution_count": 16,
     "metadata": {},
     "output_type": "execute_result"
    }
   ],
   "source": [
    "names"
   ]
  },
  {
   "cell_type": "code",
   "execution_count": 63,
   "id": "3f43c808",
   "metadata": {},
   "outputs": [
    {
     "name": "stdout",
     "output_type": "stream",
     "text": [
      "my friend names are ['rani', 'shaheena', 'prasanna', 'swathi']\n"
     ]
    }
   ],
   "source": [
    "print('my friend names are',names)"
   ]
  },
  {
   "cell_type": "code",
   "execution_count": 64,
   "id": "a12ff2bd",
   "metadata": {},
   "outputs": [
    {
     "name": "stdout",
     "output_type": "stream",
     "text": [
      "my friend names are names\n"
     ]
    }
   ],
   "source": [
    "print('my friend names are names')"
   ]
  },
  {
   "cell_type": "code",
   "execution_count": 65,
   "id": "84aeae3d",
   "metadata": {},
   "outputs": [
    {
     "data": {
      "text/plain": [
       "['rani', 'shaheena', 'prasanna', 'swathi']"
      ]
     },
     "execution_count": 65,
     "metadata": {},
     "output_type": "execute_result"
    }
   ],
   "source": [
    "names[0:4]"
   ]
  },
  {
   "cell_type": "code",
   "execution_count": 66,
   "id": "a2125935",
   "metadata": {},
   "outputs": [
    {
     "data": {
      "text/plain": [
       "['rani', 'shaheena', 'prasanna']"
      ]
     },
     "execution_count": 66,
     "metadata": {},
     "output_type": "execute_result"
    }
   ],
   "source": [
    "names[0:3]"
   ]
  },
  {
   "cell_type": "code",
   "execution_count": 67,
   "id": "fe2b785b",
   "metadata": {},
   "outputs": [
    {
     "data": {
      "text/plain": [
       "['rani', 'shaheena']"
      ]
     },
     "execution_count": 67,
     "metadata": {},
     "output_type": "execute_result"
    }
   ],
   "source": [
    "names[0:2]"
   ]
  },
  {
   "cell_type": "code",
   "execution_count": 68,
   "id": "dbdc49ea",
   "metadata": {},
   "outputs": [
    {
     "data": {
      "text/plain": [
       "'rani'"
      ]
     },
     "execution_count": 68,
     "metadata": {},
     "output_type": "execute_result"
    }
   ],
   "source": [
    "names[0]"
   ]
  },
  {
   "cell_type": "code",
   "execution_count": 69,
   "id": "da242c27",
   "metadata": {},
   "outputs": [
    {
     "data": {
      "text/plain": [
       "'swathi'"
      ]
     },
     "execution_count": 69,
     "metadata": {},
     "output_type": "execute_result"
    }
   ],
   "source": [
    "names[3]"
   ]
  },
  {
   "cell_type": "code",
   "execution_count": 72,
   "id": "6613f07b",
   "metadata": {},
   "outputs": [
    {
     "data": {
      "text/plain": [
       "['rani', 'shaheena', 'anu', 'swathi']"
      ]
     },
     "execution_count": 72,
     "metadata": {},
     "output_type": "execute_result"
    }
   ],
   "source": [
    "names[2]='anu'\n",
    "names"
   ]
  },
  {
   "cell_type": "code",
   "execution_count": null,
   "id": "42e6ee79",
   "metadata": {},
   "outputs": [],
   "source": [
    "#tuple"
   ]
  },
  {
   "cell_type": "code",
   "execution_count": 73,
   "id": "df588ac2",
   "metadata": {},
   "outputs": [
    {
     "data": {
      "text/plain": [
       "('a', 'b', 'c', 'd')"
      ]
     },
     "execution_count": 73,
     "metadata": {},
     "output_type": "execute_result"
    }
   ],
   "source": [
    "friend_names=('a','b','c','d')\n",
    "friend_names"
   ]
  },
  {
   "cell_type": "code",
   "execution_count": 74,
   "id": "871b97ef",
   "metadata": {},
   "outputs": [
    {
     "data": {
      "text/plain": [
       "('a', 'b', 'c', 'd')"
      ]
     },
     "execution_count": 74,
     "metadata": {},
     "output_type": "execute_result"
    }
   ],
   "source": [
    "friend_names"
   ]
  },
  {
   "cell_type": "code",
   "execution_count": 75,
   "id": "0c78c6ed",
   "metadata": {},
   "outputs": [
    {
     "name": "stdout",
     "output_type": "stream",
     "text": [
      "my friend_names are ('a', 'b', 'c', 'd')\n"
     ]
    }
   ],
   "source": [
    "print('my friend_names are',friend_names)"
   ]
  },
  {
   "cell_type": "code",
   "execution_count": null,
   "id": "940b4010",
   "metadata": {},
   "outputs": [],
   "source": [
    "#set"
   ]
  },
  {
   "cell_type": "code",
   "execution_count": 77,
   "id": "2e5a7002",
   "metadata": {},
   "outputs": [
    {
     "data": {
      "text/plain": [
       "{1, 2, 3, 4, 5, 6, 7, 8, 9, 10}"
      ]
     },
     "execution_count": 77,
     "metadata": {},
     "output_type": "execute_result"
    }
   ],
   "source": [
    "numbers={1,2,9,4,8,3,7,5,6,10}\n",
    "numbers"
   ]
  },
  {
   "cell_type": "code",
   "execution_count": 78,
   "id": "628baf38",
   "metadata": {},
   "outputs": [
    {
     "data": {
      "text/plain": [
       "{1, 2, 3, 4, 5, 6, 7, 8, 9, 10}"
      ]
     },
     "execution_count": 78,
     "metadata": {},
     "output_type": "execute_result"
    }
   ],
   "source": [
    "numbers"
   ]
  },
  {
   "cell_type": "code",
   "execution_count": 79,
   "id": "1c028098",
   "metadata": {},
   "outputs": [
    {
     "name": "stdout",
     "output_type": "stream",
     "text": [
      "my numbers is {1, 2, 3, 4, 5, 6, 7, 8, 9, 10}\n"
     ]
    }
   ],
   "source": [
    "print('my numbers is',numbers)"
   ]
  },
  {
   "cell_type": "code",
   "execution_count": null,
   "id": "c1f21a52",
   "metadata": {},
   "outputs": [],
   "source": [
    "#dict"
   ]
  },
  {
   "cell_type": "code",
   "execution_count": 83,
   "id": "8a6a9cc0",
   "metadata": {},
   "outputs": [
    {
     "data": {
      "text/plain": [
       "{'fruits': ['apple', 'banana', 'mango', 'orange', 'grapes'],\n",
       " 'rateing': [40, 20, 50, 45, 30]}"
      ]
     },
     "execution_count": 83,
     "metadata": {},
     "output_type": "execute_result"
    }
   ],
   "source": [
    "dict={'fruits':['apple','banana','mango','orange','grapes'],'rateing':[40,20,50,45,30]}\n",
    "dict"
   ]
  },
  {
   "cell_type": "code",
   "execution_count": 84,
   "id": "19bffd42",
   "metadata": {},
   "outputs": [
    {
     "data": {
      "text/plain": [
       "{'fruits': ['apple', 'banana', 'mango', 'orange', 'grapes'],\n",
       " 'rateing': [40, 20, 50, 45, 30]}"
      ]
     },
     "execution_count": 84,
     "metadata": {},
     "output_type": "execute_result"
    }
   ],
   "source": [
    "dict"
   ]
  },
  {
   "cell_type": "code",
   "execution_count": 85,
   "id": "d98c6fde",
   "metadata": {},
   "outputs": [
    {
     "name": "stdout",
     "output_type": "stream",
     "text": [
      "{'fruits': ['apple', 'banana', 'mango', 'orange', 'grapes'], 'rateing': [40, 20, 50, 45, 30]}\n"
     ]
    }
   ],
   "source": [
    "print(dict)"
   ]
  },
  {
   "cell_type": "code",
   "execution_count": 88,
   "id": "5fd4c05f",
   "metadata": {},
   "outputs": [
    {
     "data": {
      "text/plain": [
       "{'friend_names': ['anu', 'siri', 'rani', 'manasa', 'thulasi', 'pooji'],\n",
       " 'mareks': [20, 25, 22, 23, 25, 24]}"
      ]
     },
     "execution_count": 88,
     "metadata": {},
     "output_type": "execute_result"
    }
   ],
   "source": [
    "dict={'friend_names':['anu','siri','rani','manasa','thulasi','pooji'],'mareks':[20,25,22,23,25,24]}\n",
    "dict"
   ]
  },
  {
   "cell_type": "code",
   "execution_count": 87,
   "id": "2fcd2cb6",
   "metadata": {},
   "outputs": [
    {
     "data": {
      "text/plain": [
       "{'friend_names': ['anu', 'siri', 'rani', 'manasa', 'thulasi', 'pooji'],\n",
       " 'marks': [20, 25, 22, 23, 25, 24]}"
      ]
     },
     "execution_count": 87,
     "metadata": {},
     "output_type": "execute_result"
    }
   ],
   "source": [
    "dict"
   ]
  },
  {
   "cell_type": "code",
   "execution_count": 90,
   "id": "1e79784b",
   "metadata": {},
   "outputs": [
    {
     "name": "stdout",
     "output_type": "stream",
     "text": [
      "my friend_names are my friends markes {'friend_names': ['anu', 'siri', 'rani', 'manasa', 'thulasi', 'pooji'], 'mareks': [20, 25, 22, 23, 25, 24]}\n"
     ]
    }
   ],
   "source": [
    "print('my friend_names are my friends markes',dict)"
   ]
  },
  {
   "cell_type": "code",
   "execution_count": null,
   "id": "97a58e1e",
   "metadata": {},
   "outputs": [],
   "source": [
    "#conditions"
   ]
  },
  {
   "cell_type": "code",
   "execution_count": null,
   "id": "711bf1d3",
   "metadata": {},
   "outputs": [],
   "source": [
    "if------>true\n",
    "if else------->true or false and yes or no\n",
    "if elif else-------->more then two values"
   ]
  },
  {
   "cell_type": "code",
   "execution_count": null,
   "id": "e294c42c",
   "metadata": {},
   "outputs": [],
   "source": [
    "#if"
   ]
  },
  {
   "cell_type": "code",
   "execution_count": 14,
   "id": "1b111647",
   "metadata": {},
   "outputs": [],
   "source": [
    "mango=100"
   ]
  },
  {
   "cell_type": "code",
   "execution_count": 15,
   "id": "9936e8a6",
   "metadata": {},
   "outputs": [
    {
     "name": "stdout",
     "output_type": "stream",
     "text": [
      "my buisnes is profits\n"
     ]
    }
   ],
   "source": [
    "if mango==100:\n",
    "    print(\"my buisnes is profits\")"
   ]
  },
  {
   "cell_type": "code",
   "execution_count": null,
   "id": "0c709b54",
   "metadata": {},
   "outputs": [],
   "source": [
    "if apples==100:"
   ]
  },
  {
   "cell_type": "code",
   "execution_count": null,
   "id": "c710c446",
   "metadata": {},
   "outputs": [],
   "source": []
  },
  {
   "cell_type": "code",
   "execution_count": null,
   "id": "0cb82536",
   "metadata": {},
   "outputs": [],
   "source": []
  }
 ],
 "metadata": {
  "kernelspec": {
   "display_name": "Python 3 (ipykernel)",
   "language": "python",
   "name": "python3"
  },
  "language_info": {
   "codemirror_mode": {
    "name": "ipython",
    "version": 3
   },
   "file_extension": ".py",
   "mimetype": "text/x-python",
   "name": "python",
   "nbconvert_exporter": "python",
   "pygments_lexer": "ipython3",
   "version": "3.10.9"
  }
 },
 "nbformat": 4,
 "nbformat_minor": 5
}
