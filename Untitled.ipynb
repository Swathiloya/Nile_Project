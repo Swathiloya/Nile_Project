{
 "cells": [
  {
   "cell_type": "code",
   "execution_count": null,
   "id": "97a370e3",
   "metadata": {},
   "outputs": [],
   "source": [
    "df.groupby({'XBR_Date','shipping_request_id','tracking_number','created_at','bookingtype','carrier','shipper_reference','origin_site','destination_site','origin_region','destination_region'}).agg('Gross_SLA'='sum')"
   ]
  },
  {
   "cell_type": "code",
   "execution_count": null,
   "id": "2d9e1b45",
   "metadata": {},
   "outputs": [],
   "source": []
  },
  {
   "cell_type": "code",
   "execution_count": null,
   "id": "745e5d20",
   "metadata": {},
   "outputs": [],
   "source": []
  },
  {
   "cell_type": "code",
   "execution_count": null,
   "id": "5e4d5acc",
   "metadata": {},
   "outputs": [],
   "source": []
  }
 ],
 "metadata": {
  "kernelspec": {
   "display_name": "Python 3 (ipykernel)",
   "language": "python",
   "name": "python3"
  },
  "language_info": {
   "codemirror_mode": {
    "name": "ipython",
    "version": 3
   },
   "file_extension": ".py",
   "mimetype": "text/x-python",
   "name": "python",
   "nbconvert_exporter": "python",
   "pygments_lexer": "ipython3",
   "version": "3.10.9"
  }
 },
 "nbformat": 4,
 "nbformat_minor": 5
}
